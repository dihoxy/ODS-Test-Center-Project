{
 "cells": [
  {
   "cell_type": "code",
   "execution_count": 3,
   "metadata": {},
   "outputs": [
    {
     "name": "stdout",
     "output_type": "stream",
     "text": [
      "Requirement already satisfied: sqlalchemy in c:\\users\\amvanslambrouck.ua-net\\appdata\\local\\programs\\python\\python39\\lib\\site-packages (1.4.22)\n",
      "Requirement already satisfied: greenlet!=0.4.17 in c:\\users\\amvanslambrouck.ua-net\\appdata\\local\\programs\\python\\python39\\lib\\site-packages (from sqlalchemy) (1.1.0)\n",
      "Note: you may need to restart the kernel to use updated packages.\n",
      "Requirement already satisfied: pip in c:\\users\\amvanslambrouck.ua-net\\appdata\\local\\programs\\python\\python39\\lib\\site-packages (21.2.1)\n",
      "Note: you may need to restart the kernel to use updated packages.\n",
      "Collecting pandas\n",
      "  Downloading pandas-1.3.1-cp39-cp39-win_amd64.whl (10.4 MB)\n",
      "Requirement already satisfied: python-dateutil>=2.7.3 in c:\\users\\amvanslambrouck.ua-net\\appdata\\local\\programs\\python\\python39\\lib\\site-packages (from pandas) (2.8.2)\n",
      "Collecting pytz>=2017.3\n",
      "  Downloading pytz-2021.1-py2.py3-none-any.whl (510 kB)\n",
      "Collecting numpy>=1.17.3\n",
      "  Downloading numpy-1.21.1-cp39-cp39-win_amd64.whl (14.0 MB)\n",
      "Requirement already satisfied: six>=1.5 in c:\\users\\amvanslambrouck.ua-net\\appdata\\local\\programs\\python\\python39\\lib\\site-packages (from python-dateutil>=2.7.3->pandas) (1.16.0)\n",
      "Installing collected packages: pytz, numpy, pandas\n",
      "Successfully installed numpy-1.21.1 pandas-1.3.1 pytz-2021.1\n",
      "Note: you may need to restart the kernel to use updated packages.\n"
     ]
    },
    {
     "name": "stderr",
     "output_type": "stream",
     "text": [
      "  WARNING: The script f2py.exe is installed in 'c:\\users\\amvanslambrouck.ua-net\\appdata\\local\\programs\\python\\python39\\Scripts' which is not on PATH.\n",
      "  Consider adding this directory to PATH or, if you prefer to suppress this warning, use --no-warn-script-location.\n"
     ]
    },
    {
     "name": "stdout",
     "output_type": "stream",
     "text": [
      "Collecting seaborn\n",
      "  Downloading seaborn-0.11.1-py3-none-any.whl (285 kB)\n",
      "Requirement already satisfied: numpy>=1.15 in c:\\users\\amvanslambrouck.ua-net\\appdata\\local\\programs\\python\\python39\\lib\\site-packages (from seaborn) (1.21.1)\n",
      "Requirement already satisfied: pandas>=0.23 in c:\\users\\amvanslambrouck.ua-net\\appdata\\local\\programs\\python\\python39\\lib\\site-packages (from seaborn) (1.3.1)\n",
      "Collecting matplotlib>=2.2\n",
      "  Downloading matplotlib-3.4.2-cp39-cp39-win_amd64.whl (7.1 MB)\n",
      "Collecting scipy>=1.0\n",
      "  Downloading scipy-1.7.0-cp39-cp39-win_amd64.whl (33.8 MB)\n",
      "Requirement already satisfied: python-dateutil>=2.7 in c:\\users\\amvanslambrouck.ua-net\\appdata\\local\\programs\\python\\python39\\lib\\site-packages (from matplotlib>=2.2->seaborn) (2.8.2)\n",
      "Requirement already satisfied: pyparsing>=2.2.1 in c:\\users\\amvanslambrouck.ua-net\\appdata\\local\\programs\\python\\python39\\lib\\site-packages (from matplotlib>=2.2->seaborn) (2.4.7)\n",
      "Collecting kiwisolver>=1.0.1\n",
      "  Downloading kiwisolver-1.3.1-cp39-cp39-win_amd64.whl (51 kB)\n",
      "Collecting pillow>=6.2.0\n",
      "  Downloading Pillow-8.3.1-1-cp39-cp39-win_amd64.whl (3.2 MB)\n",
      "Collecting cycler>=0.10\n",
      "  Downloading cycler-0.10.0-py2.py3-none-any.whl (6.5 kB)\n",
      "Requirement already satisfied: six in c:\\users\\amvanslambrouck.ua-net\\appdata\\local\\programs\\python\\python39\\lib\\site-packages (from cycler>=0.10->matplotlib>=2.2->seaborn) (1.16.0)\n",
      "Requirement already satisfied: pytz>=2017.3 in c:\\users\\amvanslambrouck.ua-net\\appdata\\local\\programs\\python\\python39\\lib\\site-packages (from pandas>=0.23->seaborn) (2021.1)\n",
      "Installing collected packages: pillow, kiwisolver, cycler, scipy, matplotlib, seaborn\n",
      "Successfully installed cycler-0.10.0 kiwisolver-1.3.1 matplotlib-3.4.2 pillow-8.3.1 scipy-1.7.0 seaborn-0.11.1\n",
      "Note: you may need to restart the kernel to use updated packages.\n",
      "Requirement already satisfied: numpy in c:\\users\\amvanslambrouck.ua-net\\appdata\\local\\programs\\python\\python39\\lib\\site-packages (1.21.1)\n",
      "Note: you may need to restart the kernel to use updated packages.\n"
     ]
    }
   ],
   "source": [
    "%pip install sqlalchemy\n",
    "%pip install --upgrade pip\n",
    "%pip install pandas\n",
    "%pip install seaborn\n",
    "%pip install numpy"
   ]
  },
  {
   "cell_type": "code",
   "execution_count": 4,
   "metadata": {},
   "outputs": [],
   "source": [
    "import pandas as pd\n",
    "import sqlalchemy \n",
    "import seaborn as sns"
   ]
  },
  {
   "cell_type": "code",
   "execution_count": 9,
   "metadata": {},
   "outputs": [],
   "source": [
    "ods = pd.read_pickle('pickled_export_ods_v05.pkl')"
   ]
  },
  {
   "cell_type": "code",
   "execution_count": 10,
   "metadata": {},
   "outputs": [
    {
     "data": {
      "text/plain": "     subject section  exam_date        proctor room_number  \\\n0        CHE       1 2019-08-29  Vanslambrouck          11   \n1        CHE       1 2019-08-29    Unspecified          40   \n2        CHE       1 2019-08-29  Vanslambrouck          39   \n3         AC      15 2019-08-30          Bulls          40   \n4         HY      19 2019-08-30    Unspecified          39   \n...      ...     ...        ...            ...         ...   \n9546     GEO       1 2020-03-13          Bulls          03   \n9547      ME       2 2020-03-13          Bulls          07   \n9548      ME       2 2020-03-13          Bulls          12   \n9549      ME     920 2020-03-13          Bulls          13   \n9550      OM       1 2020-03-13    Unspecified          25   \n\n              start_time            end_time        actual_start  \\\n0    2019-08-29 13:25:00 2019-08-29 14:40:00 2019-08-29 13:25:00   \n1    2019-08-29 15:00:00 2019-08-29 16:53:00 2019-08-29 14:55:00   \n2    2019-08-29 17:00:00 2019-08-29 19:30:00 2019-08-29 16:58:00   \n3    2019-08-30 08:45:00 2019-08-30 09:25:00 2019-08-30 08:45:00   \n4    2019-08-30 08:45:00 2019-08-30 09:25:00 2019-08-30 08:45:00   \n...                  ...                 ...                 ...   \n9546 2020-03-13 12:00:00 2020-03-13 13:30:00 2020-03-13 12:00:00   \n9547 2020-03-13 12:00:00 2020-03-13 13:30:00 2020-03-13 12:00:00   \n9548 2020-03-13 12:00:00 2020-03-13 13:08:00 2020-03-13 12:00:00   \n9549 2020-03-13 12:05:00 2020-03-13 13:35:00 2020-03-13 12:05:00   \n9550 2020-03-13 12:30:00 2020-03-13 14:10:00 2020-03-13 12:30:00   \n\n              actual_end       first_entered  ...  extra_time_2.00x  \\\n0    2019-08-29 13:37:00 2019-08-27 18:30:00  ...              True   \n1    2019-08-29 15:16:00 2019-08-27 12:33:00  ...              True   \n2    2019-08-29 17:16:00 2019-08-21 18:39:00  ...              True   \n3    2019-08-30 08:49:00 2019-08-26 18:19:00  ...              True   \n4    2019-08-30 09:25:00 2019-08-27 11:10:00  ...              True   \n...                  ...                 ...  ...               ...   \n9546 2020-03-13 13:30:00 2020-01-17 16:55:00  ...              True   \n9547 2020-03-13 13:16:00 2020-01-23 16:43:00  ...              True   \n9548 2020-03-13 13:17:00 2020-01-10 09:34:00  ...              True   \n9549 2020-03-13 13:40:00 2020-01-25 18:47:00  ...              True   \n9550 2020-03-13 14:10:00 2020-02-01 12:06:00  ...              True   \n\n      makeup_accommodation  noScantronExam  readerForExams  allotted_time  \\\n0                     True            True            True             75   \n1                     True            True            True            113   \n2                     True            True            True            150   \n3                     True            True            True             40   \n4                     True            True            True             40   \n...                    ...             ...             ...            ...   \n9546                  True            True            True             90   \n9547                  True            True            True             90   \n9548                  True            True            True             68   \n9549                  True            True            True             90   \n9550                  True            True            True            100   \n\n      actual_time  exam_cancelled  no_show  requested_in_advance  name_of_day  \n0              12           False    False                     2     Thursday  \n1              21           False    False                     2     Thursday  \n2              18           False    False                     8     Thursday  \n3               4           False    False                     4       Friday  \n4               0           False     True                     3       Friday  \n...           ...             ...      ...                   ...          ...  \n9546            0           False     True                    56       Friday  \n9547           76           False    False                    50       Friday  \n9548           77           False    False                    63       Friday  \n9549           95           False    False                    48       Friday  \n9550            0            True    False                    41       Friday  \n\n[9431 rows x 25 columns]",
      "text/html": "<div>\n<style scoped>\n    .dataframe tbody tr th:only-of-type {\n        vertical-align: middle;\n    }\n\n    .dataframe tbody tr th {\n        vertical-align: top;\n    }\n\n    .dataframe thead th {\n        text-align: right;\n    }\n</style>\n<table border=\"1\" class=\"dataframe\">\n  <thead>\n    <tr style=\"text-align: right;\">\n      <th></th>\n      <th>subject</th>\n      <th>section</th>\n      <th>exam_date</th>\n      <th>proctor</th>\n      <th>room_number</th>\n      <th>start_time</th>\n      <th>end_time</th>\n      <th>actual_start</th>\n      <th>actual_end</th>\n      <th>first_entered</th>\n      <th>...</th>\n      <th>extra_time_2.00x</th>\n      <th>makeup_accommodation</th>\n      <th>noScantronExam</th>\n      <th>readerForExams</th>\n      <th>allotted_time</th>\n      <th>actual_time</th>\n      <th>exam_cancelled</th>\n      <th>no_show</th>\n      <th>requested_in_advance</th>\n      <th>name_of_day</th>\n    </tr>\n  </thead>\n  <tbody>\n    <tr>\n      <th>0</th>\n      <td>CHE</td>\n      <td>1</td>\n      <td>2019-08-29</td>\n      <td>Vanslambrouck</td>\n      <td>11</td>\n      <td>2019-08-29 13:25:00</td>\n      <td>2019-08-29 14:40:00</td>\n      <td>2019-08-29 13:25:00</td>\n      <td>2019-08-29 13:37:00</td>\n      <td>2019-08-27 18:30:00</td>\n      <td>...</td>\n      <td>True</td>\n      <td>True</td>\n      <td>True</td>\n      <td>True</td>\n      <td>75</td>\n      <td>12</td>\n      <td>False</td>\n      <td>False</td>\n      <td>2</td>\n      <td>Thursday</td>\n    </tr>\n    <tr>\n      <th>1</th>\n      <td>CHE</td>\n      <td>1</td>\n      <td>2019-08-29</td>\n      <td>Unspecified</td>\n      <td>40</td>\n      <td>2019-08-29 15:00:00</td>\n      <td>2019-08-29 16:53:00</td>\n      <td>2019-08-29 14:55:00</td>\n      <td>2019-08-29 15:16:00</td>\n      <td>2019-08-27 12:33:00</td>\n      <td>...</td>\n      <td>True</td>\n      <td>True</td>\n      <td>True</td>\n      <td>True</td>\n      <td>113</td>\n      <td>21</td>\n      <td>False</td>\n      <td>False</td>\n      <td>2</td>\n      <td>Thursday</td>\n    </tr>\n    <tr>\n      <th>2</th>\n      <td>CHE</td>\n      <td>1</td>\n      <td>2019-08-29</td>\n      <td>Vanslambrouck</td>\n      <td>39</td>\n      <td>2019-08-29 17:00:00</td>\n      <td>2019-08-29 19:30:00</td>\n      <td>2019-08-29 16:58:00</td>\n      <td>2019-08-29 17:16:00</td>\n      <td>2019-08-21 18:39:00</td>\n      <td>...</td>\n      <td>True</td>\n      <td>True</td>\n      <td>True</td>\n      <td>True</td>\n      <td>150</td>\n      <td>18</td>\n      <td>False</td>\n      <td>False</td>\n      <td>8</td>\n      <td>Thursday</td>\n    </tr>\n    <tr>\n      <th>3</th>\n      <td>AC</td>\n      <td>15</td>\n      <td>2019-08-30</td>\n      <td>Bulls</td>\n      <td>40</td>\n      <td>2019-08-30 08:45:00</td>\n      <td>2019-08-30 09:25:00</td>\n      <td>2019-08-30 08:45:00</td>\n      <td>2019-08-30 08:49:00</td>\n      <td>2019-08-26 18:19:00</td>\n      <td>...</td>\n      <td>True</td>\n      <td>True</td>\n      <td>True</td>\n      <td>True</td>\n      <td>40</td>\n      <td>4</td>\n      <td>False</td>\n      <td>False</td>\n      <td>4</td>\n      <td>Friday</td>\n    </tr>\n    <tr>\n      <th>4</th>\n      <td>HY</td>\n      <td>19</td>\n      <td>2019-08-30</td>\n      <td>Unspecified</td>\n      <td>39</td>\n      <td>2019-08-30 08:45:00</td>\n      <td>2019-08-30 09:25:00</td>\n      <td>2019-08-30 08:45:00</td>\n      <td>2019-08-30 09:25:00</td>\n      <td>2019-08-27 11:10:00</td>\n      <td>...</td>\n      <td>True</td>\n      <td>True</td>\n      <td>True</td>\n      <td>True</td>\n      <td>40</td>\n      <td>0</td>\n      <td>False</td>\n      <td>True</td>\n      <td>3</td>\n      <td>Friday</td>\n    </tr>\n    <tr>\n      <th>...</th>\n      <td>...</td>\n      <td>...</td>\n      <td>...</td>\n      <td>...</td>\n      <td>...</td>\n      <td>...</td>\n      <td>...</td>\n      <td>...</td>\n      <td>...</td>\n      <td>...</td>\n      <td>...</td>\n      <td>...</td>\n      <td>...</td>\n      <td>...</td>\n      <td>...</td>\n      <td>...</td>\n      <td>...</td>\n      <td>...</td>\n      <td>...</td>\n      <td>...</td>\n      <td>...</td>\n    </tr>\n    <tr>\n      <th>9546</th>\n      <td>GEO</td>\n      <td>1</td>\n      <td>2020-03-13</td>\n      <td>Bulls</td>\n      <td>03</td>\n      <td>2020-03-13 12:00:00</td>\n      <td>2020-03-13 13:30:00</td>\n      <td>2020-03-13 12:00:00</td>\n      <td>2020-03-13 13:30:00</td>\n      <td>2020-01-17 16:55:00</td>\n      <td>...</td>\n      <td>True</td>\n      <td>True</td>\n      <td>True</td>\n      <td>True</td>\n      <td>90</td>\n      <td>0</td>\n      <td>False</td>\n      <td>True</td>\n      <td>56</td>\n      <td>Friday</td>\n    </tr>\n    <tr>\n      <th>9547</th>\n      <td>ME</td>\n      <td>2</td>\n      <td>2020-03-13</td>\n      <td>Bulls</td>\n      <td>07</td>\n      <td>2020-03-13 12:00:00</td>\n      <td>2020-03-13 13:30:00</td>\n      <td>2020-03-13 12:00:00</td>\n      <td>2020-03-13 13:16:00</td>\n      <td>2020-01-23 16:43:00</td>\n      <td>...</td>\n      <td>True</td>\n      <td>True</td>\n      <td>True</td>\n      <td>True</td>\n      <td>90</td>\n      <td>76</td>\n      <td>False</td>\n      <td>False</td>\n      <td>50</td>\n      <td>Friday</td>\n    </tr>\n    <tr>\n      <th>9548</th>\n      <td>ME</td>\n      <td>2</td>\n      <td>2020-03-13</td>\n      <td>Bulls</td>\n      <td>12</td>\n      <td>2020-03-13 12:00:00</td>\n      <td>2020-03-13 13:08:00</td>\n      <td>2020-03-13 12:00:00</td>\n      <td>2020-03-13 13:17:00</td>\n      <td>2020-01-10 09:34:00</td>\n      <td>...</td>\n      <td>True</td>\n      <td>True</td>\n      <td>True</td>\n      <td>True</td>\n      <td>68</td>\n      <td>77</td>\n      <td>False</td>\n      <td>False</td>\n      <td>63</td>\n      <td>Friday</td>\n    </tr>\n    <tr>\n      <th>9549</th>\n      <td>ME</td>\n      <td>920</td>\n      <td>2020-03-13</td>\n      <td>Bulls</td>\n      <td>13</td>\n      <td>2020-03-13 12:05:00</td>\n      <td>2020-03-13 13:35:00</td>\n      <td>2020-03-13 12:05:00</td>\n      <td>2020-03-13 13:40:00</td>\n      <td>2020-01-25 18:47:00</td>\n      <td>...</td>\n      <td>True</td>\n      <td>True</td>\n      <td>True</td>\n      <td>True</td>\n      <td>90</td>\n      <td>95</td>\n      <td>False</td>\n      <td>False</td>\n      <td>48</td>\n      <td>Friday</td>\n    </tr>\n    <tr>\n      <th>9550</th>\n      <td>OM</td>\n      <td>1</td>\n      <td>2020-03-13</td>\n      <td>Unspecified</td>\n      <td>25</td>\n      <td>2020-03-13 12:30:00</td>\n      <td>2020-03-13 14:10:00</td>\n      <td>2020-03-13 12:30:00</td>\n      <td>2020-03-13 14:10:00</td>\n      <td>2020-02-01 12:06:00</td>\n      <td>...</td>\n      <td>True</td>\n      <td>True</td>\n      <td>True</td>\n      <td>True</td>\n      <td>100</td>\n      <td>0</td>\n      <td>True</td>\n      <td>False</td>\n      <td>41</td>\n      <td>Friday</td>\n    </tr>\n  </tbody>\n</table>\n<p>9431 rows × 25 columns</p>\n</div>"
     },
     "execution_count": 10,
     "metadata": {},
     "output_type": "execute_result"
    }
   ],
   "source": [
    "ods"
   ]
  },
  {
   "cell_type": "code",
   "execution_count": null,
   "metadata": {},
   "outputs": [],
   "source": []
  }
 ],
 "metadata": {
  "kernelspec": {
   "display_name": "Python 3",
   "language": "python",
   "name": "python3"
  },
  "language_info": {
   "codemirror_mode": {
    "name": "ipython",
    "version": 3
   },
   "file_extension": ".py",
   "mimetype": "text/x-python",
   "name": "python",
   "nbconvert_exporter": "python",
   "pygments_lexer": "ipython3",
   "version": "3.9.5"
  }
 },
 "nbformat": 4,
 "nbformat_minor": 4
}