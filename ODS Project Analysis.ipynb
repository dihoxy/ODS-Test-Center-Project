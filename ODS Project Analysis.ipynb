{
 "cells": [
  {
   "cell_type": "code",
   "execution_count": 2,
   "metadata": {},
   "outputs": [
    {
     "name": "stdout",
     "output_type": "stream",
     "text": [
      "Collecting pandas\n",
      "  Downloading pandas-1.3.1-cp39-cp39-win_amd64.whl (10.4 MB)\n",
      "Collecting numpy>=1.17.3\n",
      "Note: you may need to restart the kernel to use updated packages.  Downloading numpy-1.21.1-cp39-cp39-win_amd64.whl (14.0 MB)\n",
      "Collecting pytz>=2017.3\n",
      "  Using cached pytz-2021.1-py2.py3-none-any.whl (510 kB)\n",
      "\n"
     ]
    },
    {
     "name": "stderr",
     "output_type": "stream",
     "text": [
      "WARNING: You are using pip version 21.1.2; however, version 21.2.2 is available.\n",
      "You should consider upgrading via the 'c:\\users\\musia\\pycharmprojects\\ods-test-center-project\\venv\\scripts\\python.exe -m pip install --upgrade pip' command.\n"
     ]
    },
    {
     "name": "stdout",
     "output_type": "stream",
     "text": [
      "Requirement already satisfied: python-dateutil>=2.7.3 in c:\\users\\musia\\pycharmprojects\\ods-test-center-project\\venv\\lib\\site-packages (from pandas) (2.8.2)\n",
      "Requirement already satisfied: six>=1.5 in c:\\users\\musia\\pycharmprojects\\ods-test-center-project\\venv\\lib\\site-packages (from python-dateutil>=2.7.3->pandas) (1.16.0)\n",
      "Installing collected packages: pytz, numpy, pandas\n",
      "Successfully installed numpy-1.21.1 pandas-1.3.1 pytz-2021.1\n",
      "Collecting seaborn\n",
      "  Using cached seaborn-0.11.1-py3-none-any.whl (285 kB)\n",
      "Requirement already satisfied: pandas>=0.23 in c:\\users\\musia\\pycharmprojects\\ods-test-center-project\\venv\\lib\\site-packages (from seaborn) (1.3.1)\n",
      "Requirement already satisfied: numpy>=1.15 in c:\\users\\musia\\pycharmprojects\\ods-test-center-project\\venv\\lib\\site-packages (from seaborn) (1.21.1)\n",
      "Collecting matplotlib>=2.2\n",
      "  Downloading matplotlib-3.4.2-cp39-cp39-win_amd64.whl (7.1 MB)\n",
      "Collecting scipy>=1.0\n",
      "Note: you may need to restart the kernel to use updated packages.\n"
     ]
    },
    {
     "name": "stderr",
     "output_type": "stream",
     "text": [
      "WARNING: You are using pip version 21.1.2; however, version 21.2.2 is available.\n",
      "You should consider upgrading via the 'c:\\users\\musia\\pycharmprojects\\ods-test-center-project\\venv\\scripts\\python.exe -m pip install --upgrade pip' command.\n"
     ]
    },
    {
     "name": "stdout",
     "output_type": "stream",
     "text": [
      "  Downloading scipy-1.7.0-cp39-cp39-win_amd64.whl (33.8 MB)\n",
      "Collecting pillow>=6.2.0\n",
      "  Downloading Pillow-8.3.1-1-cp39-cp39-win_amd64.whl (3.2 MB)\n",
      "Collecting kiwisolver>=1.0.1\n",
      "  Using cached kiwisolver-1.3.1-cp39-cp39-win_amd64.whl (51 kB)\n",
      "Requirement already satisfied: pyparsing>=2.2.1 in c:\\users\\musia\\pycharmprojects\\ods-test-center-project\\venv\\lib\\site-packages (from matplotlib>=2.2->seaborn) (2.4.7)\n",
      "Requirement already satisfied: python-dateutil>=2.7 in c:\\users\\musia\\pycharmprojects\\ods-test-center-project\\venv\\lib\\site-packages (from matplotlib>=2.2->seaborn) (2.8.2)\n",
      "Collecting cycler>=0.10\n",
      "  Using cached cycler-0.10.0-py2.py3-none-any.whl (6.5 kB)\n",
      "Requirement already satisfied: six in c:\\users\\musia\\pycharmprojects\\ods-test-center-project\\venv\\lib\\site-packages (from cycler>=0.10->matplotlib>=2.2->seaborn) (1.16.0)\n",
      "Requirement already satisfied: pytz>=2017.3 in c:\\users\\musia\\pycharmprojects\\ods-test-center-project\\venv\\lib\\site-packages (from pandas>=0.23->seaborn) (2021.1)\n",
      "Installing collected packages: pillow, kiwisolver, cycler, scipy, matplotlib, seaborn\n",
      "Successfully installed cycler-0.10.0 kiwisolver-1.3.1 matplotlib-3.4.2 pillow-8.3.1 scipy-1.7.0 seaborn-0.11.1\n",
      "Requirement already satisfied: numpy in c:\\users\\musia\\pycharmprojects\\ods-test-center-project\\venv\\lib\\site-packages (1.21.1)\n",
      "Note: you may need to restart the kernel to use updated packages.\n"
     ]
    },
    {
     "name": "stderr",
     "output_type": "stream",
     "text": [
      "WARNING: You are using pip version 21.1.2; however, version 21.2.2 is available.\n",
      "You should consider upgrading via the 'c:\\users\\musia\\pycharmprojects\\ods-test-center-project\\venv\\scripts\\python.exe -m pip install --upgrade pip' command.\n"
     ]
    }
   ],
   "source": [
    "\n",
    "%pip install pandas\n",
    "%pip install seaborn\n",
    "%pip install numpy\n"
   ]
  },
  {
   "cell_type": "code",
   "execution_count": 23,
   "metadata": {},
   "outputs": [],
   "source": [
    "import pandas as pd\n",
    "import seaborn as sns"
   ]
  },
  {
   "cell_type": "code",
   "execution_count": 15,
   "metadata": {},
   "outputs": [],
   "source": [
    "ods = pd.read_csv('ods_public_ods_exams.csv')"
   ]
  },
  {
   "cell_type": "code",
   "execution_count": 29,
   "outputs": [
    {
     "name": "stdout",
     "output_type": "stream",
     "text": [
      "<class 'pandas.core.frame.DataFrame'>\n",
      "RangeIndex: 9429 entries, 0 to 9428\n",
      "Data columns (total 27 columns):\n",
      " #   Column                  Non-Null Count  Dtype \n",
      "---  ------                  --------------  ----- \n",
      " 0   index                   9429 non-null   int64 \n",
      " 1   subject                 9429 non-null   object\n",
      " 2   section                 9429 non-null   int64 \n",
      " 3   exam_date               9429 non-null   object\n",
      " 4   proctor                 9429 non-null   object\n",
      " 5   room_number             9429 non-null   object\n",
      " 6   start_time              9429 non-null   object\n",
      " 7   end_time                9429 non-null   object\n",
      " 8   actual_start            9429 non-null   object\n",
      " 9   actual_end              9429 non-null   object\n",
      " 10  first_entered           9429 non-null   object\n",
      " 11  received_as_paper_copy  9429 non-null   object\n",
      " 12  rescheduled             9429 non-null   int64 \n",
      " 13  breaks_during_exams     9429 non-null   object\n",
      " 14  extra_time_1.50x        9429 non-null   object\n",
      " 15  extra_time_2.00x        9429 non-null   object\n",
      " 16  makeup_acoommodation    9429 non-null   object\n",
      " 17  noScantronExam          9429 non-null   object\n",
      " 18  readerforExams          9429 non-null   object\n",
      " 19  allotted_time           9429 non-null   int64 \n",
      " 20  actual_time             9429 non-null   int64 \n",
      " 21  exam_cancelled          9429 non-null   bool  \n",
      " 22  no_show                 9429 non-null   bool  \n",
      " 23  requested_in_advance    9429 non-null   int64 \n",
      " 24  name_of_day             9429 non-null   object\n",
      " 25  final_exam              9429 non-null   bool  \n",
      " 26  semester                9429 non-null   object\n",
      "dtypes: bool(3), int64(6), object(18)\n",
      "memory usage: 1.8+ MB\n"
     ]
    }
   ],
   "source": [
    "ods.info()"
   ],
   "metadata": {
    "collapsed": false,
    "pycharm": {
     "name": "#%%\n"
    }
   }
  },
  {
   "cell_type": "code",
   "execution_count": null,
   "outputs": [],
   "source": [],
   "metadata": {
    "collapsed": false,
    "pycharm": {
     "name": "#%%\n"
    }
   }
  },
  {
   "cell_type": "code",
   "execution_count": null,
   "outputs": [],
   "source": [],
   "metadata": {
    "collapsed": false,
    "pycharm": {
     "name": "#%%\n"
    }
   }
  }
 ],
 "metadata": {
  "kernelspec": {
   "display_name": "Python 3",
   "language": "python",
   "name": "python3"
  },
  "language_info": {
   "codemirror_mode": {
    "name": "ipython",
    "version": 3
   },
   "file_extension": ".py",
   "mimetype": "text/x-python",
   "name": "python",
   "nbconvert_exporter": "python",
   "pygments_lexer": "ipython3",
   "version": "3.9.5"
  }
 },
 "nbformat": 4,
 "nbformat_minor": 4
}