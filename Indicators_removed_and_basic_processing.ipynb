{
 "cells": [
  {
   "cell_type": "markdown",
   "id": "4442dc3e",
   "metadata": {},
   "source": [
    "### *Instructions: Execute each cell by clicking 'Run' in the toolbar (you can also do this by pressing 'Shift' + 'Enter'). Some cells require input from you. In order that the script runs correctly, please make sure that the names of files are correct, in the correct directory, and that the contents of this script are not changed.*"
   ]
  },
  {
   "cell_type": "markdown",
   "id": "77edae12",
   "metadata": {},
   "source": [
    "***The csv downloaded from AIM contains confidential information; thus this script is not allowed to be run off campus. The csv must be properly deleted after identifiers are removed and the new data exported to a pickled file***"
   ]
  },
  {
   "cell_type": "markdown",
   "id": "f76756f1",
   "metadata": {},
   "source": [
    "A note about shortcuts and code syntax: While I have worked hard to make this script accessible to everyone, there are a few things that you can do to make working with this script more powerful for yourself\n",
    "\n",
    "-If you are working inside of a cell, and wish to come out of that cell, press the `Esc` key\n",
    "\n",
    "-Pressing `m` while a cell is selected (but not active), will convert that cell's output into 'Markdown' (i.e., the language used to display this text). Pressing `y` will convert it back to code\n",
    "\n",
    "-Highlighting code and pressing `Crtl` + `/` will comment out/in the code. Python uses `#` to denote comments, which also tells the interpreter to ignore that particular line of code. A few cells in this script give you the opportunity to look at the data. Using the keyboard shortcut above, you can make that line of code and active. You can also simply delete the `#` in front of the code\n",
    "\n",
    "-If you wish to insert a cell, click outside of the cell above/below the location where you wish to place your cell. Press `a` to insert your cell above that cell, and `b` to place your cell below the current cell. If you wish to delete a cell, click outside of the cell you wish to delete, and click the cut (scissors) icon in the toolbar\n",
    "\n",
    "-Python allows for strings to be entered as either `''` or `\"\"`, but whatever you choose, it must be consistent. If you need to add a string somewhere, keep this in mind\n",
    "\n",
    "-`ods.shape` prints out (displays) the number of columns and rows; `ods.info()` prints out an info summary about null-values, number of rows and columns, dtypes, column names, etc...(generally the most useful when looking for a high-level overview); `ods.columns` prints out the column names; `ods.head(x)\\ods.tail(x)` will print out the *x* number of rows from the top/bottom (*note that x>50 will still generally result in data being cut off when printed to screen*)"
   ]
  },
  {
   "cell_type": "code",
   "execution_count": 1,
   "id": "4d78881f",
   "metadata": {},
   "outputs": [],
   "source": [
    "# By convention, we use the alias 'pd' for pandas\n",
    "import pandas as pd\n",
    "import glob\n",
    "import numpy as np"
   ]
  },
  {
   "cell_type": "markdown",
   "id": "3a4fe967",
   "metadata": {},
   "source": [
    "**Place one or more csv files downloaded from the ODS portal in the current working directory (i.e., the folder this script is running from)**"
   ]
  },
  {
   "cell_type": "code",
   "execution_count": 2,
   "id": "5f2cb5db",
   "metadata": {},
   "outputs": [
    {
     "data": {
      "text/plain": [
       "['export (1).csv',\n",
       " 'export (2).csv',\n",
       " 'export (3).csv',\n",
       " 'export (4).csv',\n",
       " 'export.csv']"
      ]
     },
     "execution_count": 2,
     "metadata": {},
     "output_type": "execute_result"
    }
   ],
   "source": [
    "filenames = glob.glob('*.csv')\n",
    "filenames"
   ]
  },
  {
   "cell_type": "code",
   "execution_count": 3,
   "id": "b2fe398e",
   "metadata": {},
   "outputs": [],
   "source": [
    "list_of_dfs = [pd.read_csv(filename) for filename in filenames]\n",
    "ods = pd.concat(list_of_dfs, ignore_index=True)"
   ]
  },
  {
   "cell_type": "markdown",
   "id": "c005b63f",
   "metadata": {},
   "source": [
    "*Run the next cell to look at the names of all the columns*"
   ]
  },
  {
   "cell_type": "code",
   "execution_count": 4,
   "id": "64c85e5b",
   "metadata": {},
   "outputs": [
    {
     "data": {
      "text/plain": [
       "Index(['SchoolID', 'StudentName', 'CRN', 'Subject', 'Course', 'Section',\n",
       "       'ClassTitleComplete', 'Exam Date', 'ProctorLastName', 'InstructorName',\n",
       "       'InstructorEmail', 'LocationName', 'Start Time', 'End Time',\n",
       "       'Total Length', 'Scheduled By', 'Actual Start Time', 'Actual End Time',\n",
       "       'Actual Total Length', 'Exam Completed', 'No Show', 'Tags', 'TechTags',\n",
       "       'Barcode', 'First Entered', 'File Uploaded', 'Received As Paper Copy',\n",
       "       'Rescheduled', 'StudentLastName', 'StudentFirstName',\n",
       "       'Access to speech-to-text software', 'Access to standing desk',\n",
       "       'Assessments administered in two parts', 'Breaks during exams',\n",
       "       'Colored paper for exams and classroom materials',\n",
       "       'Electronic Reader for Online Exams',\n",
       "       'Exams and classroom materials in 18 point font or larger',\n",
       "       'Exams and classroom materials in 24 point font or larger',\n",
       "       'Extra Time 1.50x', 'Extra Time 1.5x Calculation-based exams',\n",
       "       'Extra Time 1.5x Writing-based exams', 'Extra Time 2.00x',\n",
       "       'Extra time 2.00x Calculation-based exams',\n",
       "       'Extra time 2.0x Writing-based exams',\n",
       "       'Leniency on spelling and grammar when it is not part of the material being tested',\n",
       "       'Live Reader for exams', 'Make-up exams due to disability',\n",
       "       'Medical alert device', 'ODS Proctor',\n",
       "       'Paper version of computerized calculation-based exams',\n",
       "       'Paper version of computerized exams',\n",
       "       'Permission to bring food/drinks into testing environment',\n",
       "       'Permission to mark on exam - No scantron', 'Reader for exams',\n",
       "       'Reduced distraction calculation-based exams',\n",
       "       'Reduced Distraction Environment', 'Scribe for exams',\n",
       "       'Student may alternate between sitting and standing while testing',\n",
       "       'Student may handwrite exam responses',\n",
       "       'Use of a calculator for assessments with a calculation component',\n",
       "       'Use of computer to type written exam responses'],\n",
       "      dtype='object')"
      ]
     },
     "execution_count": 4,
     "metadata": {},
     "output_type": "execute_result"
    }
   ],
   "source": [
    "# Call the 'columns' attribute to look at the column names\n",
    "ods.columns"
   ]
  },
  {
   "cell_type": "markdown",
   "id": "46104d3e",
   "metadata": {},
   "source": [
    "*We need to remove 'SchoolID', 'StudentName', 'CRN', 'Course', 'ClassTitleComplete', 'InstructorName', 'InstructorEmail', 'Scheduled By','StudentLastName', 'StudentFirstName', 'InstructorEmail' from the dataframe, since these contain confidential information.*\n",
    "\n",
    "**Verify that the column names are listed above, then execute the cell below**"
   ]
  },
  {
   "cell_type": "code",
   "execution_count": 5,
   "id": "f1be9352",
   "metadata": {},
   "outputs": [],
   "source": [
    "ods.drop(columns=['SchoolID', 'StudentName', 'CRN', 'Course', 'ClassTitleComplete', 'InstructorName', 'InstructorEmail', 'Scheduled By',\n",
    "        'StudentLastName', 'StudentFirstName', 'InstructorEmail'], inplace=True)"
   ]
  },
  {
   "cell_type": "markdown",
   "id": "bff7c5bf",
   "metadata": {},
   "source": [
    "**The following are largely irrelevant to test center operations, or the sheer amount of null values make it prohibitive to deal with them**"
   ]
  },
  {
   "cell_type": "code",
   "execution_count": 6,
   "id": "95f16c31",
   "metadata": {},
   "outputs": [],
   "source": [
    "ods.drop(columns=[\n",
    "    'TechTags', 'Barcode', 'Access to speech-to-text software', 'Access to standing desk', 'Assessments administered in two parts', 'Electronic Reader for Online Exams',\n",
    "    'Extra Time 1.5x Calculation-based exams', 'Extra Time 1.5x Writing-based exams', 'Extra time 2.00x Calculation-based exams',\n",
    "    'Extra time 2.0x Writing-based exams', 'Leniency on spelling and grammar when it is not part of the material being tested',\n",
    "    'Live Reader for exams', 'ODS Proctor', 'Paper version of computerized calculation-based exams', \n",
    "    'Permission to bring food/drinks into testing environment', 'Reduced distraction calculation-based exams', 'Scribe for exams', \n",
    "    'Student may alternate between sitting and standing while testing', 'Student may handwrite exam responses'\n",
    "], inplace = True)"
   ]
  },
  {
   "cell_type": "markdown",
   "id": "12fdb012",
   "metadata": {},
   "source": [
    "*If you wish to see how certain characterisics of the dataframe right now, highlight the code you wish to run and press `Crtl` + `/`(note, this is optional)*"
   ]
  },
  {
   "cell_type": "markdown",
   "id": "b4709e2e",
   "metadata": {},
   "source": [
    "**Drop values that have the \"Not Available\" html script**"
   ]
  },
  {
   "cell_type": "code",
   "execution_count": 7,
   "id": "3d61b8da",
   "metadata": {},
   "outputs": [],
   "source": [
    "index = ods.loc[ods['End Time']=='<font class=red\"><abbr title=\"Not Available\">N/A</abbr></font>\"'].index\n",
    "ods.drop(index=index, inplace=True)"
   ]
  },
  {
   "cell_type": "markdown",
   "id": "f1ac03de",
   "metadata": {},
   "source": [
    "*Use this opportunity to look at the data by 'uncommenting' the line of code you wish to run (note, refer to the beginning of the script for help)*"
   ]
  },
  {
   "cell_type": "code",
   "execution_count": 8,
   "id": "b006a34c",
   "metadata": {},
   "outputs": [
    {
     "data": {
      "text/plain": [
       "(11216, 32)"
      ]
     },
     "execution_count": 8,
     "metadata": {},
     "output_type": "execute_result"
    }
   ],
   "source": [
    "# ods.shape\n",
    "# ods.info()\n",
    "# ods.head(25)\n",
    "# ods.tail(25)"
   ]
  },
  {
   "cell_type": "markdown",
   "id": "9f7f6466",
   "metadata": {},
   "source": [
    "*Since the occurence of large size font for exams is limited compared to the total number of exams that ODS proctors, and it is the Instructor's duty to provide the large size font, we can drop these as well.*\n",
    "\n",
    "**Drop additional unneeded columns**"
   ]
  },
  {
   "cell_type": "code",
   "execution_count": 11,
   "id": "059a4124",
   "metadata": {},
   "outputs": [],
   "source": [
    "ods.drop(columns=['Colored paper for exams and classroom materials', 'Exams and classroom materials in 18 point font or larger', \n",
    "                  'Exams and classroom materials in 24 point font or larger', \n",
    "                  'Tags', 'Use of a calculator for assessments with a calculation component',\n",
    "                  'Paper version of computerized exams', 'Use of computer to type written exam responses', \n",
    "                  'Medical alert device'],\n",
    "                  inplace=True)"
   ]
  },
  {
   "cell_type": "markdown",
   "id": "bb044c98",
   "metadata": {},
   "source": [
    "## Checking Dtypes and Filling Null Values"
   ]
  },
  {
   "cell_type": "markdown",
   "id": "83637b76",
   "metadata": {},
   "source": [
    "**Covert the datetime columns to datetime64 dtype**"
   ]
  },
  {
   "cell_type": "code",
   "execution_count": 12,
   "id": "f287de3b",
   "metadata": {},
   "outputs": [],
   "source": [
    "ods['Exam Date'] = ods['Exam Date'].astype('datetime64')\n",
    "ods['First Entered'] = ods['First Entered'].astype('datetime64')\n",
    "ods['Start Time'] = ods['Start Time'].astype('datetime64').dt.time\n",
    "ods['End Time'] = ods['End Time'].astype('datetime64').dt.time\n",
    "ods['Actual Start Time'] = ods['Actual Start Time'].astype('datetime64').dt.time\n",
    "ods['Actual End Time'] = ods['Actual End Time'].astype('datetime64').dt.time"
   ]
  },
  {
   "cell_type": "markdown",
   "id": "4e8dd5ec",
   "metadata": {},
   "source": [
    "**Rename the columns**"
   ]
  },
  {
   "cell_type": "code",
   "execution_count": 13,
   "id": "110098b7",
   "metadata": {},
   "outputs": [],
   "source": [
    "mapper = {'First Entered': 'first_entered', 'Exam Date': 'exam_date', 'Start Time': 'start_time', 'End Time': 'end_time', 'Actual Start Time': 'actual_start',\n",
    "         'Actual End Time': 'actual_end'}\n",
    "ods.rename(columns=mapper, inplace=True)"
   ]
  },
  {
   "cell_type": "markdown",
   "id": "8af9dec6",
   "metadata": {},
   "source": [
    "**Rename the Total and Actual Length Columns and change dtype for actual time to float64**"
   ]
  },
  {
   "cell_type": "code",
   "execution_count": 14,
   "id": "862b3476",
   "metadata": {},
   "outputs": [],
   "source": [
    "ods['allotted_time'] = ods['Total Length']\n",
    "ods['actual_time'] = ods['Actual Total Length']\n",
    "\n",
    "# Convert 'Alloted_Time to match the data with actual time \n",
    "ods['allotted_time'] = ods['allotted_time'].astype('float64')\n",
    "\n",
    "\n",
    "# Drop Total Length and Actual Length\n",
    "ods.drop(columns=['Actual Total Length', 'Total Length'], inplace=True)"
   ]
  },
  {
   "cell_type": "markdown",
   "id": "d907c517",
   "metadata": {},
   "source": [
    "**We will also drop 'Reduced Distraction Environment' since all students testing at ODS test in an isolated environment regardless of accommodation**"
   ]
  },
  {
   "cell_type": "code",
   "execution_count": 15,
   "id": "975bb9a3",
   "metadata": {},
   "outputs": [],
   "source": [
    "ods.drop(columns=['Reduced Distraction Environment'], inplace=True)"
   ]
  },
  {
   "cell_type": "markdown",
   "id": "b5b8a0ac",
   "metadata": {},
   "source": [
    "**We need to handle null values. Replace all null values in categorical columns with \"No.\"**"
   ]
  },
  {
   "cell_type": "code",
   "execution_count": 16,
   "id": "66c137dd",
   "metadata": {},
   "outputs": [],
   "source": [
    "# Create variable to store the index of columns that we want to work with\n",
    "cat_cols = ods.select_dtypes(exclude=['number', 'datetime64']).columns\n",
    "\n",
    "#Drop the remaining columns that don't take 'yes/no' responses\n",
    "cat_cols = cat_cols.drop(['Subject', 'LocationName','ProctorLastName', 'actual_start', 'actual_end'])\n",
    "\n",
    "# Use '.fillna()' to fill in the null values with 'No'\n",
    "ods[cat_cols] = ods[cat_cols].fillna('No')"
   ]
  },
  {
   "cell_type": "markdown",
   "id": "c15ec2e8",
   "metadata": {},
   "source": [
    "**Let's fill the null values in 'Rescheduled' with 0.0**"
   ]
  },
  {
   "cell_type": "code",
   "execution_count": 17,
   "id": "d48346bf",
   "metadata": {},
   "outputs": [],
   "source": [
    "# Set null values for rescheduled to be 0.0\n",
    "ods['Rescheduled'].fillna(0.0, inplace=True)"
   ]
  },
  {
   "cell_type": "markdown",
   "id": "01ce565a",
   "metadata": {},
   "source": [
    "**Let's handle the null values for 'ProctorLastName'. Set these vaules to be 'Unspecified'**"
   ]
  },
  {
   "cell_type": "code",
   "execution_count": 18,
   "id": "79b805b6",
   "metadata": {},
   "outputs": [],
   "source": [
    "ods['ProctorLastName'].fillna('Unspecified', inplace=True)"
   ]
  },
  {
   "cell_type": "markdown",
   "id": "b63e432b",
   "metadata": {},
   "source": [
    "**Fill 'NaT' Values with the value of the exam start and finish times**"
   ]
  },
  {
   "cell_type": "code",
   "execution_count": 19,
   "id": "f2f1041e",
   "metadata": {},
   "outputs": [],
   "source": [
    "ods['actual_start'].fillna(ods['start_time'], inplace=True)\n",
    "ods['actual_end'].fillna(ods['end_time'], inplace=True)"
   ]
  },
  {
   "cell_type": "code",
   "execution_count": 20,
   "id": "ad7b5624",
   "metadata": {},
   "outputs": [
    {
     "data": {
      "text/plain": [
       "Index(['Subject', 'Section', 'exam_date', 'ProctorLastName', 'LocationName',\n",
       "       'start_time', 'end_time', 'actual_start', 'actual_end',\n",
       "       'Exam Completed', 'No Show', 'first_entered', 'File Uploaded',\n",
       "       'Received As Paper Copy', 'Rescheduled', 'Breaks during exams',\n",
       "       'Extra Time 1.50x', 'Extra Time 2.00x',\n",
       "       'Make-up exams due to disability',\n",
       "       'Permission to mark on exam - No scantron', 'Reader for exams',\n",
       "       'allotted_time', 'actual_time'],\n",
       "      dtype='object')"
      ]
     },
     "execution_count": 20,
     "metadata": {},
     "output_type": "execute_result"
    }
   ],
   "source": [
    "ods.columns"
   ]
  },
  {
   "cell_type": "markdown",
   "id": "4bed70d0",
   "metadata": {},
   "source": [
    "**Create a new column to store 'exam_cancelled' values**"
   ]
  },
  {
   "cell_type": "code",
   "execution_count": 21,
   "id": "598d39cf",
   "metadata": {},
   "outputs": [],
   "source": [
    "ods['exam_cancelled'] = ods['Exam Completed']=='No'\n",
    "ods['no_show'] = ods['No Show'] == 'Yes'\n"
   ]
  },
  {
   "cell_type": "markdown",
   "id": "463c65cf",
   "metadata": {},
   "source": [
    "**Drop 'Exam Completed' and 'No Show'**"
   ]
  },
  {
   "cell_type": "code",
   "execution_count": 22,
   "id": "d6330619",
   "metadata": {},
   "outputs": [],
   "source": [
    "ods.drop(['Exam Completed'], axis=1, inplace=True)\n",
    "ods.drop(['No Show'], axis=1, inplace=True)"
   ]
  },
  {
   "cell_type": "code",
   "execution_count": 24,
   "id": "63a3420a",
   "metadata": {},
   "outputs": [],
   "source": [
    "index = ods.loc[(ods['actual_start'].isna()) & \n",
    "            (ods['exam_cancelled']=='Yes') & (ods['no_show']=='No')].index\n",
    "\n",
    "ods.drop(index=index, inplace = True)"
   ]
  },
  {
   "cell_type": "markdown",
   "id": "69202aaf",
   "metadata": {},
   "source": [
    "**Create a column that stores the amount of days a request was submitted before the exam**"
   ]
  },
  {
   "cell_type": "code",
   "execution_count": 25,
   "id": "314956d2",
   "metadata": {},
   "outputs": [],
   "source": [
    "ods['days_requested_submitted_in_advance'] = (ods['exam_date'].dt.date - ods['first_entered'].dt.date)/pd.Timedelta(days=1)"
   ]
  },
  {
   "cell_type": "markdown",
   "id": "0108d2b5",
   "metadata": {},
   "source": [
    "**Before we continue, we need to dress things up a bit. Recast the dtypes for LocationName and First Entered**"
   ]
  },
  {
   "cell_type": "code",
   "execution_count": 26,
   "id": "6c5046cc",
   "metadata": {},
   "outputs": [],
   "source": [
    "ods[['LocationName']] = ods[['LocationName']].astype('string')\n",
    "\n",
    "# ods['First Entered'] = ods['First Entered'].astype('datetime64', errors='ignore')"
   ]
  },
  {
   "cell_type": "markdown",
   "id": "f56b077f",
   "metadata": {},
   "source": [
    "**Change the names of the columns to something more concise**"
   ]
  },
  {
   "cell_type": "code",
   "execution_count": 27,
   "id": "3c8e632a",
   "metadata": {},
   "outputs": [],
   "source": [
    "mapperDict = {'Subject':'subject', 'Course': 'course', 'Section':'section', 'ProctorLastName':'proctor',\n",
    "                      'LocationName':'room_number', 'First Entered':'firstEntered', 'File Uploaded':'fileUploaded',\n",
    "                      'Received As Paper Copy': 'received_as_paper_copy',\n",
    "                      'Rescheduled':'rescheduled', 'Breaks during exams': 'breaks_during_exams',\n",
    "                      'Extra Time 1.50x':'extra_time_1.50x', 'Extra Time 2.00x': 'extra_time_2.00x',\n",
    "                      'Make-up exams due to disability':'makeup_accommodation',\n",
    "                      'Permission to mark on exam - No scantron':'noScantronExam', 'Reader for exams': 'readerForExams'}\n",
    "\n",
    "\n",
    "\n",
    "ods.rename(columns = mapperDict, inplace = True)"
   ]
  },
  {
   "cell_type": "markdown",
   "id": "21e8a5dd",
   "metadata": {},
   "source": [
    "**Change nulls in 'room_number' to 'Not Specified'**"
   ]
  },
  {
   "cell_type": "code",
   "execution_count": 28,
   "id": "5d34c54a",
   "metadata": {},
   "outputs": [],
   "source": [
    "ods['room_number'].fillna('Not Specified', inplace=True)"
   ]
  },
  {
   "cell_type": "code",
   "execution_count": 29,
   "id": "ffacf23e",
   "metadata": {},
   "outputs": [],
   "source": [
    "# ods['actual_time'].fillna('', inplace=True)"
   ]
  },
  {
   "cell_type": "code",
   "execution_count": 30,
   "id": "97cd942e",
   "metadata": {},
   "outputs": [
    {
     "data": {
      "text/html": [
       "<div>\n",
       "<style scoped>\n",
       "    .dataframe tbody tr th:only-of-type {\n",
       "        vertical-align: middle;\n",
       "    }\n",
       "\n",
       "    .dataframe tbody tr th {\n",
       "        vertical-align: top;\n",
       "    }\n",
       "\n",
       "    .dataframe thead th {\n",
       "        text-align: right;\n",
       "    }\n",
       "</style>\n",
       "<table border=\"1\" class=\"dataframe\">\n",
       "  <thead>\n",
       "    <tr style=\"text-align: right;\">\n",
       "      <th></th>\n",
       "      <th>subject</th>\n",
       "      <th>section</th>\n",
       "      <th>exam_date</th>\n",
       "      <th>proctor</th>\n",
       "      <th>room_number</th>\n",
       "      <th>start_time</th>\n",
       "      <th>end_time</th>\n",
       "      <th>actual_start</th>\n",
       "      <th>actual_end</th>\n",
       "      <th>first_entered</th>\n",
       "      <th>...</th>\n",
       "      <th>extra_time_1.50x</th>\n",
       "      <th>extra_time_2.00x</th>\n",
       "      <th>makeup_accommodation</th>\n",
       "      <th>noScantronExam</th>\n",
       "      <th>readerForExams</th>\n",
       "      <th>allotted_time</th>\n",
       "      <th>actual_time</th>\n",
       "      <th>exam_cancelled</th>\n",
       "      <th>no_show</th>\n",
       "      <th>days_requested_submitted_in_advance</th>\n",
       "    </tr>\n",
       "  </thead>\n",
       "  <tbody>\n",
       "    <tr>\n",
       "      <th>0</th>\n",
       "      <td>EC</td>\n",
       "      <td>11</td>\n",
       "      <td>2020-09-01</td>\n",
       "      <td>Vanslambrouck</td>\n",
       "      <td>05</td>\n",
       "      <td>10:50:00</td>\n",
       "      <td>12:05:00</td>\n",
       "      <td>10:51:00</td>\n",
       "      <td>12:22:00</td>\n",
       "      <td>2020-08-22 11:41:00</td>\n",
       "      <td>...</td>\n",
       "      <td>Yes</td>\n",
       "      <td>No</td>\n",
       "      <td>No</td>\n",
       "      <td>No</td>\n",
       "      <td>No</td>\n",
       "      <td>75.0</td>\n",
       "      <td>91.0</td>\n",
       "      <td>False</td>\n",
       "      <td>False</td>\n",
       "      <td>10.0</td>\n",
       "    </tr>\n",
       "    <tr>\n",
       "      <th>1</th>\n",
       "      <td>EC</td>\n",
       "      <td>11</td>\n",
       "      <td>2020-09-01</td>\n",
       "      <td>Vanslambrouck</td>\n",
       "      <td>02</td>\n",
       "      <td>14:00:00</td>\n",
       "      <td>15:40:00</td>\n",
       "      <td>14:00:00</td>\n",
       "      <td>14:39:00</td>\n",
       "      <td>2020-08-27 11:42:00</td>\n",
       "      <td>...</td>\n",
       "      <td>No</td>\n",
       "      <td>Yes</td>\n",
       "      <td>No</td>\n",
       "      <td>No</td>\n",
       "      <td>No</td>\n",
       "      <td>100.0</td>\n",
       "      <td>39.0</td>\n",
       "      <td>False</td>\n",
       "      <td>False</td>\n",
       "      <td>5.0</td>\n",
       "    </tr>\n",
       "    <tr>\n",
       "      <th>2</th>\n",
       "      <td>EC</td>\n",
       "      <td>11</td>\n",
       "      <td>2020-09-01</td>\n",
       "      <td>Vanslambrouck</td>\n",
       "      <td>01</td>\n",
       "      <td>14:00:00</td>\n",
       "      <td>15:15:00</td>\n",
       "      <td>14:00:00</td>\n",
       "      <td>15:15:00</td>\n",
       "      <td>2020-08-20 16:54:00</td>\n",
       "      <td>...</td>\n",
       "      <td>Yes</td>\n",
       "      <td>No</td>\n",
       "      <td>No</td>\n",
       "      <td>No</td>\n",
       "      <td>No</td>\n",
       "      <td>75.0</td>\n",
       "      <td>NaN</td>\n",
       "      <td>False</td>\n",
       "      <td>True</td>\n",
       "      <td>12.0</td>\n",
       "    </tr>\n",
       "    <tr>\n",
       "      <th>3</th>\n",
       "      <td>MC</td>\n",
       "      <td>4</td>\n",
       "      <td>2020-09-08</td>\n",
       "      <td>Bulls</td>\n",
       "      <td>01</td>\n",
       "      <td>08:00:00</td>\n",
       "      <td>09:30:00</td>\n",
       "      <td>08:09:00</td>\n",
       "      <td>08:50:00</td>\n",
       "      <td>2020-09-03 12:58:00</td>\n",
       "      <td>...</td>\n",
       "      <td>Yes</td>\n",
       "      <td>No</td>\n",
       "      <td>No</td>\n",
       "      <td>No</td>\n",
       "      <td>No</td>\n",
       "      <td>90.0</td>\n",
       "      <td>41.0</td>\n",
       "      <td>False</td>\n",
       "      <td>False</td>\n",
       "      <td>5.0</td>\n",
       "    </tr>\n",
       "    <tr>\n",
       "      <th>4</th>\n",
       "      <td>MC</td>\n",
       "      <td>4</td>\n",
       "      <td>2020-09-08</td>\n",
       "      <td>Bulls</td>\n",
       "      <td>02</td>\n",
       "      <td>08:00:00</td>\n",
       "      <td>10:00:00</td>\n",
       "      <td>08:10:00</td>\n",
       "      <td>09:21:00</td>\n",
       "      <td>2020-09-03 20:12:00</td>\n",
       "      <td>...</td>\n",
       "      <td>No</td>\n",
       "      <td>Yes</td>\n",
       "      <td>No</td>\n",
       "      <td>No</td>\n",
       "      <td>No</td>\n",
       "      <td>120.0</td>\n",
       "      <td>71.0</td>\n",
       "      <td>False</td>\n",
       "      <td>False</td>\n",
       "      <td>5.0</td>\n",
       "    </tr>\n",
       "    <tr>\n",
       "      <th>...</th>\n",
       "      <td>...</td>\n",
       "      <td>...</td>\n",
       "      <td>...</td>\n",
       "      <td>...</td>\n",
       "      <td>...</td>\n",
       "      <td>...</td>\n",
       "      <td>...</td>\n",
       "      <td>...</td>\n",
       "      <td>...</td>\n",
       "      <td>...</td>\n",
       "      <td>...</td>\n",
       "      <td>...</td>\n",
       "      <td>...</td>\n",
       "      <td>...</td>\n",
       "      <td>...</td>\n",
       "      <td>...</td>\n",
       "      <td>...</td>\n",
       "      <td>...</td>\n",
       "      <td>...</td>\n",
       "      <td>...</td>\n",
       "      <td>...</td>\n",
       "    </tr>\n",
       "    <tr>\n",
       "      <th>11235</th>\n",
       "      <td>PY</td>\n",
       "      <td>1</td>\n",
       "      <td>2021-04-30</td>\n",
       "      <td>Bulls</td>\n",
       "      <td>13</td>\n",
       "      <td>11:30:00</td>\n",
       "      <td>15:15:00</td>\n",
       "      <td>11:32:00</td>\n",
       "      <td>12:07:00</td>\n",
       "      <td>2021-04-19 17:42:00</td>\n",
       "      <td>...</td>\n",
       "      <td>Yes</td>\n",
       "      <td>No</td>\n",
       "      <td>No</td>\n",
       "      <td>No</td>\n",
       "      <td>No</td>\n",
       "      <td>225.0</td>\n",
       "      <td>35.0</td>\n",
       "      <td>False</td>\n",
       "      <td>False</td>\n",
       "      <td>11.0</td>\n",
       "    </tr>\n",
       "    <tr>\n",
       "      <th>11236</th>\n",
       "      <td>PY</td>\n",
       "      <td>1</td>\n",
       "      <td>2021-04-30</td>\n",
       "      <td>Bulls</td>\n",
       "      <td>10</td>\n",
       "      <td>11:30:00</td>\n",
       "      <td>15:15:00</td>\n",
       "      <td>11:29:00</td>\n",
       "      <td>12:08:00</td>\n",
       "      <td>2021-04-19 01:16:00</td>\n",
       "      <td>...</td>\n",
       "      <td>Yes</td>\n",
       "      <td>No</td>\n",
       "      <td>No</td>\n",
       "      <td>No</td>\n",
       "      <td>No</td>\n",
       "      <td>225.0</td>\n",
       "      <td>39.0</td>\n",
       "      <td>False</td>\n",
       "      <td>False</td>\n",
       "      <td>11.0</td>\n",
       "    </tr>\n",
       "    <tr>\n",
       "      <th>11237</th>\n",
       "      <td>PY</td>\n",
       "      <td>1</td>\n",
       "      <td>2021-04-30</td>\n",
       "      <td>Unspecified</td>\n",
       "      <td>01</td>\n",
       "      <td>11:30:00</td>\n",
       "      <td>15:15:00</td>\n",
       "      <td>11:30:00</td>\n",
       "      <td>15:15:00</td>\n",
       "      <td>2021-01-27 18:21:00</td>\n",
       "      <td>...</td>\n",
       "      <td>Yes</td>\n",
       "      <td>No</td>\n",
       "      <td>No</td>\n",
       "      <td>No</td>\n",
       "      <td>No</td>\n",
       "      <td>225.0</td>\n",
       "      <td>NaN</td>\n",
       "      <td>True</td>\n",
       "      <td>False</td>\n",
       "      <td>93.0</td>\n",
       "    </tr>\n",
       "    <tr>\n",
       "      <th>11238</th>\n",
       "      <td>CE</td>\n",
       "      <td>1</td>\n",
       "      <td>2021-04-30</td>\n",
       "      <td>Bulls</td>\n",
       "      <td>11</td>\n",
       "      <td>11:35:00</td>\n",
       "      <td>15:20:00</td>\n",
       "      <td>11:34:00</td>\n",
       "      <td>13:50:00</td>\n",
       "      <td>2021-04-26 13:11:00</td>\n",
       "      <td>...</td>\n",
       "      <td>Yes</td>\n",
       "      <td>No</td>\n",
       "      <td>No</td>\n",
       "      <td>No</td>\n",
       "      <td>No</td>\n",
       "      <td>225.0</td>\n",
       "      <td>136.0</td>\n",
       "      <td>False</td>\n",
       "      <td>False</td>\n",
       "      <td>4.0</td>\n",
       "    </tr>\n",
       "    <tr>\n",
       "      <th>11239</th>\n",
       "      <td>MATH</td>\n",
       "      <td>1</td>\n",
       "      <td>2021-04-30</td>\n",
       "      <td>Bulls</td>\n",
       "      <td>07</td>\n",
       "      <td>11:35:00</td>\n",
       "      <td>16:35:00</td>\n",
       "      <td>11:35:00</td>\n",
       "      <td>13:24:00</td>\n",
       "      <td>2021-02-19 19:54:00</td>\n",
       "      <td>...</td>\n",
       "      <td>Yes</td>\n",
       "      <td>No</td>\n",
       "      <td>No</td>\n",
       "      <td>No</td>\n",
       "      <td>No</td>\n",
       "      <td>300.0</td>\n",
       "      <td>109.0</td>\n",
       "      <td>False</td>\n",
       "      <td>False</td>\n",
       "      <td>70.0</td>\n",
       "    </tr>\n",
       "  </tbody>\n",
       "</table>\n",
       "<p>11216 rows × 24 columns</p>\n",
       "</div>"
      ],
      "text/plain": [
       "      subject  section  exam_date        proctor room_number start_time  \\\n",
       "0          EC       11 2020-09-01  Vanslambrouck          05   10:50:00   \n",
       "1          EC       11 2020-09-01  Vanslambrouck          02   14:00:00   \n",
       "2          EC       11 2020-09-01  Vanslambrouck          01   14:00:00   \n",
       "3          MC        4 2020-09-08          Bulls          01   08:00:00   \n",
       "4          MC        4 2020-09-08          Bulls          02   08:00:00   \n",
       "...       ...      ...        ...            ...         ...        ...   \n",
       "11235      PY        1 2021-04-30          Bulls          13   11:30:00   \n",
       "11236      PY        1 2021-04-30          Bulls          10   11:30:00   \n",
       "11237      PY        1 2021-04-30    Unspecified          01   11:30:00   \n",
       "11238      CE        1 2021-04-30          Bulls          11   11:35:00   \n",
       "11239    MATH        1 2021-04-30          Bulls          07   11:35:00   \n",
       "\n",
       "       end_time actual_start actual_end       first_entered  ...  \\\n",
       "0      12:05:00     10:51:00   12:22:00 2020-08-22 11:41:00  ...   \n",
       "1      15:40:00     14:00:00   14:39:00 2020-08-27 11:42:00  ...   \n",
       "2      15:15:00     14:00:00   15:15:00 2020-08-20 16:54:00  ...   \n",
       "3      09:30:00     08:09:00   08:50:00 2020-09-03 12:58:00  ...   \n",
       "4      10:00:00     08:10:00   09:21:00 2020-09-03 20:12:00  ...   \n",
       "...         ...          ...        ...                 ...  ...   \n",
       "11235  15:15:00     11:32:00   12:07:00 2021-04-19 17:42:00  ...   \n",
       "11236  15:15:00     11:29:00   12:08:00 2021-04-19 01:16:00  ...   \n",
       "11237  15:15:00     11:30:00   15:15:00 2021-01-27 18:21:00  ...   \n",
       "11238  15:20:00     11:34:00   13:50:00 2021-04-26 13:11:00  ...   \n",
       "11239  16:35:00     11:35:00   13:24:00 2021-02-19 19:54:00  ...   \n",
       "\n",
       "      extra_time_1.50x extra_time_2.00x  makeup_accommodation noScantronExam  \\\n",
       "0                  Yes               No                    No             No   \n",
       "1                   No              Yes                    No             No   \n",
       "2                  Yes               No                    No             No   \n",
       "3                  Yes               No                    No             No   \n",
       "4                   No              Yes                    No             No   \n",
       "...                ...              ...                   ...            ...   \n",
       "11235              Yes               No                    No             No   \n",
       "11236              Yes               No                    No             No   \n",
       "11237              Yes               No                    No             No   \n",
       "11238              Yes               No                    No             No   \n",
       "11239              Yes               No                    No             No   \n",
       "\n",
       "      readerForExams allotted_time actual_time exam_cancelled no_show  \\\n",
       "0                 No          75.0        91.0          False   False   \n",
       "1                 No         100.0        39.0          False   False   \n",
       "2                 No          75.0         NaN          False    True   \n",
       "3                 No          90.0        41.0          False   False   \n",
       "4                 No         120.0        71.0          False   False   \n",
       "...              ...           ...         ...            ...     ...   \n",
       "11235             No         225.0        35.0          False   False   \n",
       "11236             No         225.0        39.0          False   False   \n",
       "11237             No         225.0         NaN           True   False   \n",
       "11238             No         225.0       136.0          False   False   \n",
       "11239             No         300.0       109.0          False   False   \n",
       "\n",
       "       days_requested_submitted_in_advance  \n",
       "0                                     10.0  \n",
       "1                                      5.0  \n",
       "2                                     12.0  \n",
       "3                                      5.0  \n",
       "4                                      5.0  \n",
       "...                                    ...  \n",
       "11235                                 11.0  \n",
       "11236                                 11.0  \n",
       "11237                                 93.0  \n",
       "11238                                  4.0  \n",
       "11239                                 70.0  \n",
       "\n",
       "[11216 rows x 24 columns]"
      ]
     },
     "execution_count": 30,
     "metadata": {},
     "output_type": "execute_result"
    }
   ],
   "source": [
    "ods"
   ]
  },
  {
   "cell_type": "markdown",
   "id": "d21f72cc",
   "metadata": {},
   "source": [
    "## Create a New DataFrame to Store Final Exam Values"
   ]
  },
  {
   "cell_type": "code",
   "execution_count": 31,
   "id": "23242417",
   "metadata": {
    "scrolled": false
   },
   "outputs": [],
   "source": [
    "# ods[(ods['exam_date'] >= '04-26-2021') & (ods['exam_date'] <= '04-30-2021')]\n",
    "# \n",
    "# ods[(ods['exam_date'] >= '12-09-2019') & (ods['exam_date'] <= '12-13-2019')\n",
    "#                      | (ods['exam_date'] == '11/22/2019') & (ods['subject'] == 'GBA')]"
   ]
  },
  {
   "cell_type": "markdown",
   "id": "c9cf575b",
   "metadata": {},
   "source": [
    "*We do not have finals data for Spring 20 and Fall 20 semesters due to the outbreak of covid-19; finals were taken online for those semesters*"
   ]
  },
  {
   "cell_type": "code",
   "execution_count": 32,
   "id": "18510de8",
   "metadata": {},
   "outputs": [],
   "source": [
    "# summer_19_finals = ods[(ods['exam_date'] >= '08-01-2019') & (ods['exam_date'] <= '08-02-2019')]\n",
    "# fall_19_finals = ods[(ods['exam_date'] >= '12-09-2019') & (ods['exam_date'] <= '12-13-2019')]\n",
    "# spring_21_finals = ods[(ods['exam_date'] >= '04-26-2021') & (ods['exam_date'] <= '04-30-2021')]"
   ]
  },
  {
   "cell_type": "code",
   "execution_count": 33,
   "id": "58de5e00",
   "metadata": {
    "scrolled": true
   },
   "outputs": [],
   "source": [
    "# index = ods[(ods['exam_date'] >= '08-01-2019') & (ods['exam_date'] <= '08-02-2019')|\n",
    "#              (ods['exam_date'] >= '12-09-2019') & (ods['exam_date'] <= '12-13-2019')|\n",
    "#              (ods['exam_date'] >= '04-26-2021') & (ods['exam_date'] <= '04-30-2021')].index\n",
    "\n",
    "# ods.drop(index=index, inplace=True)"
   ]
  },
  {
   "cell_type": "code",
   "execution_count": 34,
   "id": "d533886a",
   "metadata": {},
   "outputs": [],
   "source": [
    "# fall_19_finals.info()"
   ]
  },
  {
   "cell_type": "code",
   "execution_count": 35,
   "id": "c482a830",
   "metadata": {},
   "outputs": [],
   "source": [
    "# odsFinals = pd.concat([summer_19_finals, fall_19_finals, spring_21_finals], ignore_index=True)"
   ]
  },
  {
   "cell_type": "markdown",
   "id": "33220560",
   "metadata": {},
   "source": [
    "**Name the exported file (Do not add the extension)**"
   ]
  },
  {
   "cell_type": "code",
   "execution_count": 36,
   "id": "68a88d33",
   "metadata": {},
   "outputs": [
    {
     "name": "stdout",
     "output_type": "stream",
     "text": [
      "Enter the name of the file you wish to use for regular semester (Don't add the extension): ods20210713\n"
     ]
    }
   ],
   "source": [
    "reg_file=input(\"Enter the name of the file you wish to use for regular semester (Don't add the extension): \")\n",
    "# finals_file = input(\"Enter the name of the file you wish to use for final exams (Don't add the extension): \")"
   ]
  },
  {
   "cell_type": "code",
   "execution_count": 37,
   "id": "db33f09c",
   "metadata": {},
   "outputs": [],
   "source": [
    "ods.to_pickle(f'{reg_file}.pkl')\n",
    "# odsFinals.to_pickle(f'{finals_file}.pkl')"
   ]
  }
 ],
 "metadata": {
  "kernelspec": {
   "display_name": "Python 3",
   "language": "python",
   "name": "python3"
  },
  "language_info": {
   "codemirror_mode": {
    "name": "ipython",
    "version": 3
   },
   "file_extension": ".py",
   "mimetype": "text/x-python",
   "name": "python",
   "nbconvert_exporter": "python",
   "pygments_lexer": "ipython3",
   "version": "3.9.6"
  }
 },
 "nbformat": 4,
 "nbformat_minor": 5
}
