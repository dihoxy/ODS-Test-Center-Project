{
 "cells": [
  {
   "cell_type": "markdown",
   "metadata": {},
   "source": [
    "# Handling Outliers and Basic Exploratory Analysis"
   ]
  },
  {
   "cell_type": "markdown",
   "metadata": {},
   "source": [
    "***The main purpose of this project is to practice, and demonstrate knowledge of data cleaning, working with stakeholders to achieve a business objective, and data analytics***"
   ]
  },
  {
   "cell_type": "code",
   "execution_count": 1,
   "metadata": {},
   "outputs": [],
   "source": [
    "# import libraries\n",
    "import pandas as pd\n",
    "import numpy as np\n",
    "import seaborn as sns"
   ]
  },
  {
   "cell_type": "code",
   "execution_count": 6,
   "metadata": {},
   "outputs": [],
   "source": [
    "# Load the dataframe\n",
    "file = input('Enter the name of the file without the extension: ')\n",
    "# finals_file = input('Enter the name of the finals semester without the extension: ')"
   ]
  },
  {
   "cell_type": "code",
   "execution_count": 7,
   "metadata": {},
   "outputs": [],
   "source": [
    "ods = pd.read_pickle(f'{file}.pkl')"
   ]
  },
  {
   "cell_type": "markdown",
   "metadata": {},
   "source": [
    "*We need to add another column that lists the day of the week*"
   ]
  },
  {
   "cell_type": "code",
   "execution_count": 8,
   "metadata": {},
   "outputs": [],
   "source": [
    "# Add another column that displays the day of the week\n",
    "ods['name_of_day'] = ods['exam_date'].dt.day_name()"
   ]
  },
  {
   "cell_type": "code",
   "execution_count": 9,
   "metadata": {},
   "outputs": [
    {
     "ename": "AttributeError",
     "evalue": "'StringDtype' object has no attribute 'storage'",
     "output_type": "error",
     "traceback": [
      "\u001B[1;31m---------------------------------------------------------------------------\u001B[0m",
      "\u001B[1;31mAttributeError\u001B[0m                            Traceback (most recent call last)",
      "\u001B[1;32mpandas\\_libs\\hashtable_class_helper.pxi\u001B[0m in \u001B[0;36mpandas._libs.hashtable.PyObjectHashTable.map_locations\u001B[1;34m()\u001B[0m\n",
      "\u001B[1;32mc:\\users\\amvanslambrouck.ua-net\\appdata\\local\\programs\\python\\python39\\lib\\site-packages\\pandas\\core\\arrays\\string_.py\u001B[0m in \u001B[0;36m__hash__\u001B[1;34m(self)\u001B[0m\n\u001B[0;32m    165\u001B[0m     \u001B[1;32mdef\u001B[0m \u001B[0m__hash__\u001B[0m\u001B[1;33m(\u001B[0m\u001B[0mself\u001B[0m\u001B[1;33m)\u001B[0m \u001B[1;33m->\u001B[0m \u001B[0mint\u001B[0m\u001B[1;33m:\u001B[0m\u001B[1;33m\u001B[0m\u001B[1;33m\u001B[0m\u001B[0m\n\u001B[0;32m    166\u001B[0m         \u001B[1;31m# custom __eq__ so have to override __hash__\u001B[0m\u001B[1;33m\u001B[0m\u001B[1;33m\u001B[0m\u001B[1;33m\u001B[0m\u001B[0m\n\u001B[1;32m--> 167\u001B[1;33m         \u001B[1;32mreturn\u001B[0m \u001B[0msuper\u001B[0m\u001B[1;33m(\u001B[0m\u001B[1;33m)\u001B[0m\u001B[1;33m.\u001B[0m\u001B[0m__hash__\u001B[0m\u001B[1;33m(\u001B[0m\u001B[1;33m)\u001B[0m\u001B[1;33m\u001B[0m\u001B[1;33m\u001B[0m\u001B[0m\n\u001B[0m\u001B[0;32m    168\u001B[0m \u001B[1;33m\u001B[0m\u001B[0m\n\u001B[0;32m    169\u001B[0m     \u001B[1;31m# https://github.com/pandas-dev/pandas/issues/36126\u001B[0m\u001B[1;33m\u001B[0m\u001B[1;33m\u001B[0m\u001B[1;33m\u001B[0m\u001B[0m\n",
      "\u001B[1;32mc:\\users\\amvanslambrouck.ua-net\\appdata\\local\\programs\\python\\python39\\lib\\site-packages\\pandas\\core\\dtypes\\base.py\u001B[0m in \u001B[0;36m__hash__\u001B[1;34m(self)\u001B[0m\n\u001B[0;32m    132\u001B[0m         \u001B[1;31m# for python>=3.10, different nan objects have different hashes\u001B[0m\u001B[1;33m\u001B[0m\u001B[1;33m\u001B[0m\u001B[1;33m\u001B[0m\u001B[0m\n\u001B[0;32m    133\u001B[0m         \u001B[1;31m# we need  to avoid that und thus use hash function with old behavior\u001B[0m\u001B[1;33m\u001B[0m\u001B[1;33m\u001B[0m\u001B[1;33m\u001B[0m\u001B[0m\n\u001B[1;32m--> 134\u001B[1;33m         \u001B[1;32mreturn\u001B[0m \u001B[0mobject_hash\u001B[0m\u001B[1;33m(\u001B[0m\u001B[0mtuple\u001B[0m\u001B[1;33m(\u001B[0m\u001B[0mgetattr\u001B[0m\u001B[1;33m(\u001B[0m\u001B[0mself\u001B[0m\u001B[1;33m,\u001B[0m \u001B[0mattr\u001B[0m\u001B[1;33m)\u001B[0m \u001B[1;32mfor\u001B[0m \u001B[0mattr\u001B[0m \u001B[1;32min\u001B[0m \u001B[0mself\u001B[0m\u001B[1;33m.\u001B[0m\u001B[0m_metadata\u001B[0m\u001B[1;33m)\u001B[0m\u001B[1;33m)\u001B[0m\u001B[1;33m\u001B[0m\u001B[1;33m\u001B[0m\u001B[0m\n\u001B[0m\u001B[0;32m    135\u001B[0m \u001B[1;33m\u001B[0m\u001B[0m\n\u001B[0;32m    136\u001B[0m     \u001B[1;32mdef\u001B[0m \u001B[0m__ne__\u001B[0m\u001B[1;33m(\u001B[0m\u001B[0mself\u001B[0m\u001B[1;33m,\u001B[0m \u001B[0mother\u001B[0m\u001B[1;33m:\u001B[0m \u001B[0mAny\u001B[0m\u001B[1;33m)\u001B[0m \u001B[1;33m->\u001B[0m \u001B[0mbool\u001B[0m\u001B[1;33m:\u001B[0m\u001B[1;33m\u001B[0m\u001B[1;33m\u001B[0m\u001B[0m\n",
      "\u001B[1;32mc:\\users\\amvanslambrouck.ua-net\\appdata\\local\\programs\\python\\python39\\lib\\site-packages\\pandas\\core\\dtypes\\base.py\u001B[0m in \u001B[0;36m<genexpr>\u001B[1;34m(.0)\u001B[0m\n\u001B[0;32m    132\u001B[0m         \u001B[1;31m# for python>=3.10, different nan objects have different hashes\u001B[0m\u001B[1;33m\u001B[0m\u001B[1;33m\u001B[0m\u001B[1;33m\u001B[0m\u001B[0m\n\u001B[0;32m    133\u001B[0m         \u001B[1;31m# we need  to avoid that und thus use hash function with old behavior\u001B[0m\u001B[1;33m\u001B[0m\u001B[1;33m\u001B[0m\u001B[1;33m\u001B[0m\u001B[0m\n\u001B[1;32m--> 134\u001B[1;33m         \u001B[1;32mreturn\u001B[0m \u001B[0mobject_hash\u001B[0m\u001B[1;33m(\u001B[0m\u001B[0mtuple\u001B[0m\u001B[1;33m(\u001B[0m\u001B[0mgetattr\u001B[0m\u001B[1;33m(\u001B[0m\u001B[0mself\u001B[0m\u001B[1;33m,\u001B[0m \u001B[0mattr\u001B[0m\u001B[1;33m)\u001B[0m \u001B[1;32mfor\u001B[0m \u001B[0mattr\u001B[0m \u001B[1;32min\u001B[0m \u001B[0mself\u001B[0m\u001B[1;33m.\u001B[0m\u001B[0m_metadata\u001B[0m\u001B[1;33m)\u001B[0m\u001B[1;33m)\u001B[0m\u001B[1;33m\u001B[0m\u001B[1;33m\u001B[0m\u001B[0m\n\u001B[0m\u001B[0;32m    135\u001B[0m \u001B[1;33m\u001B[0m\u001B[0m\n\u001B[0;32m    136\u001B[0m     \u001B[1;32mdef\u001B[0m \u001B[0m__ne__\u001B[0m\u001B[1;33m(\u001B[0m\u001B[0mself\u001B[0m\u001B[1;33m,\u001B[0m \u001B[0mother\u001B[0m\u001B[1;33m:\u001B[0m \u001B[0mAny\u001B[0m\u001B[1;33m)\u001B[0m \u001B[1;33m->\u001B[0m \u001B[0mbool\u001B[0m\u001B[1;33m:\u001B[0m\u001B[1;33m\u001B[0m\u001B[1;33m\u001B[0m\u001B[0m\n",
      "\u001B[1;31mAttributeError\u001B[0m: 'StringDtype' object has no attribute 'storage'"
     ]
    },
    {
     "name": "stderr",
     "output_type": "stream",
     "text": [
      "Exception ignored in: 'pandas._libs.index.IndexEngine._call_map_locations'\n",
      "Traceback (most recent call last):\n",
      "  File \"pandas\\_libs\\hashtable_class_helper.pxi\", line 5231, in pandas._libs.hashtable.PyObjectHashTable.map_locations\n",
      "  File \"c:\\users\\amvanslambrouck.ua-net\\appdata\\local\\programs\\python\\python39\\lib\\site-packages\\pandas\\core\\arrays\\string_.py\", line 167, in __hash__\n",
      "    return super().__hash__()\n",
      "  File \"c:\\users\\amvanslambrouck.ua-net\\appdata\\local\\programs\\python\\python39\\lib\\site-packages\\pandas\\core\\dtypes\\base.py\", line 134, in __hash__\n",
      "    return object_hash(tuple(getattr(self, attr) for attr in self._metadata))\n",
      "  File \"c:\\users\\amvanslambrouck.ua-net\\appdata\\local\\programs\\python\\python39\\lib\\site-packages\\pandas\\core\\dtypes\\base.py\", line 134, in <genexpr>\n",
      "    return object_hash(tuple(getattr(self, attr) for attr in self._metadata))\n",
      "AttributeError: 'StringDtype' object has no attribute 'storage'\n"
     ]
    },
    {
     "ename": "AttributeError",
     "evalue": "'StringDtype' object has no attribute 'storage'",
     "output_type": "error",
     "traceback": [
      "\u001B[1;31m---------------------------------------------------------------------------\u001B[0m",
      "\u001B[1;31mAttributeError\u001B[0m                            Traceback (most recent call last)",
      "\u001B[1;32mpandas\\_libs\\hashtable_class_helper.pxi\u001B[0m in \u001B[0;36mpandas._libs.hashtable.PyObjectHashTable.map_locations\u001B[1;34m()\u001B[0m\n",
      "\u001B[1;32mc:\\users\\amvanslambrouck.ua-net\\appdata\\local\\programs\\python\\python39\\lib\\site-packages\\pandas\\core\\arrays\\string_.py\u001B[0m in \u001B[0;36m__hash__\u001B[1;34m(self)\u001B[0m\n\u001B[0;32m    165\u001B[0m     \u001B[1;32mdef\u001B[0m \u001B[0m__hash__\u001B[0m\u001B[1;33m(\u001B[0m\u001B[0mself\u001B[0m\u001B[1;33m)\u001B[0m \u001B[1;33m->\u001B[0m \u001B[0mint\u001B[0m\u001B[1;33m:\u001B[0m\u001B[1;33m\u001B[0m\u001B[1;33m\u001B[0m\u001B[0m\n\u001B[0;32m    166\u001B[0m         \u001B[1;31m# custom __eq__ so have to override __hash__\u001B[0m\u001B[1;33m\u001B[0m\u001B[1;33m\u001B[0m\u001B[1;33m\u001B[0m\u001B[0m\n\u001B[1;32m--> 167\u001B[1;33m         \u001B[1;32mreturn\u001B[0m \u001B[0msuper\u001B[0m\u001B[1;33m(\u001B[0m\u001B[1;33m)\u001B[0m\u001B[1;33m.\u001B[0m\u001B[0m__hash__\u001B[0m\u001B[1;33m(\u001B[0m\u001B[1;33m)\u001B[0m\u001B[1;33m\u001B[0m\u001B[1;33m\u001B[0m\u001B[0m\n\u001B[0m\u001B[0;32m    168\u001B[0m \u001B[1;33m\u001B[0m\u001B[0m\n\u001B[0;32m    169\u001B[0m     \u001B[1;31m# https://github.com/pandas-dev/pandas/issues/36126\u001B[0m\u001B[1;33m\u001B[0m\u001B[1;33m\u001B[0m\u001B[1;33m\u001B[0m\u001B[0m\n",
      "\u001B[1;32mc:\\users\\amvanslambrouck.ua-net\\appdata\\local\\programs\\python\\python39\\lib\\site-packages\\pandas\\core\\dtypes\\base.py\u001B[0m in \u001B[0;36m__hash__\u001B[1;34m(self)\u001B[0m\n\u001B[0;32m    132\u001B[0m         \u001B[1;31m# for python>=3.10, different nan objects have different hashes\u001B[0m\u001B[1;33m\u001B[0m\u001B[1;33m\u001B[0m\u001B[1;33m\u001B[0m\u001B[0m\n\u001B[0;32m    133\u001B[0m         \u001B[1;31m# we need  to avoid that und thus use hash function with old behavior\u001B[0m\u001B[1;33m\u001B[0m\u001B[1;33m\u001B[0m\u001B[1;33m\u001B[0m\u001B[0m\n\u001B[1;32m--> 134\u001B[1;33m         \u001B[1;32mreturn\u001B[0m \u001B[0mobject_hash\u001B[0m\u001B[1;33m(\u001B[0m\u001B[0mtuple\u001B[0m\u001B[1;33m(\u001B[0m\u001B[0mgetattr\u001B[0m\u001B[1;33m(\u001B[0m\u001B[0mself\u001B[0m\u001B[1;33m,\u001B[0m \u001B[0mattr\u001B[0m\u001B[1;33m)\u001B[0m \u001B[1;32mfor\u001B[0m \u001B[0mattr\u001B[0m \u001B[1;32min\u001B[0m \u001B[0mself\u001B[0m\u001B[1;33m.\u001B[0m\u001B[0m_metadata\u001B[0m\u001B[1;33m)\u001B[0m\u001B[1;33m)\u001B[0m\u001B[1;33m\u001B[0m\u001B[1;33m\u001B[0m\u001B[0m\n\u001B[0m\u001B[0;32m    135\u001B[0m \u001B[1;33m\u001B[0m\u001B[0m\n\u001B[0;32m    136\u001B[0m     \u001B[1;32mdef\u001B[0m \u001B[0m__ne__\u001B[0m\u001B[1;33m(\u001B[0m\u001B[0mself\u001B[0m\u001B[1;33m,\u001B[0m \u001B[0mother\u001B[0m\u001B[1;33m:\u001B[0m \u001B[0mAny\u001B[0m\u001B[1;33m)\u001B[0m \u001B[1;33m->\u001B[0m \u001B[0mbool\u001B[0m\u001B[1;33m:\u001B[0m\u001B[1;33m\u001B[0m\u001B[1;33m\u001B[0m\u001B[0m\n",
      "\u001B[1;32mc:\\users\\amvanslambrouck.ua-net\\appdata\\local\\programs\\python\\python39\\lib\\site-packages\\pandas\\core\\dtypes\\base.py\u001B[0m in \u001B[0;36m<genexpr>\u001B[1;34m(.0)\u001B[0m\n\u001B[0;32m    132\u001B[0m         \u001B[1;31m# for python>=3.10, different nan objects have different hashes\u001B[0m\u001B[1;33m\u001B[0m\u001B[1;33m\u001B[0m\u001B[1;33m\u001B[0m\u001B[0m\n\u001B[0;32m    133\u001B[0m         \u001B[1;31m# we need  to avoid that und thus use hash function with old behavior\u001B[0m\u001B[1;33m\u001B[0m\u001B[1;33m\u001B[0m\u001B[1;33m\u001B[0m\u001B[0m\n\u001B[1;32m--> 134\u001B[1;33m         \u001B[1;32mreturn\u001B[0m \u001B[0mobject_hash\u001B[0m\u001B[1;33m(\u001B[0m\u001B[0mtuple\u001B[0m\u001B[1;33m(\u001B[0m\u001B[0mgetattr\u001B[0m\u001B[1;33m(\u001B[0m\u001B[0mself\u001B[0m\u001B[1;33m,\u001B[0m \u001B[0mattr\u001B[0m\u001B[1;33m)\u001B[0m \u001B[1;32mfor\u001B[0m \u001B[0mattr\u001B[0m \u001B[1;32min\u001B[0m \u001B[0mself\u001B[0m\u001B[1;33m.\u001B[0m\u001B[0m_metadata\u001B[0m\u001B[1;33m)\u001B[0m\u001B[1;33m)\u001B[0m\u001B[1;33m\u001B[0m\u001B[1;33m\u001B[0m\u001B[0m\n\u001B[0m\u001B[0;32m    135\u001B[0m \u001B[1;33m\u001B[0m\u001B[0m\n\u001B[0;32m    136\u001B[0m     \u001B[1;32mdef\u001B[0m \u001B[0m__ne__\u001B[0m\u001B[1;33m(\u001B[0m\u001B[0mself\u001B[0m\u001B[1;33m,\u001B[0m \u001B[0mother\u001B[0m\u001B[1;33m:\u001B[0m \u001B[0mAny\u001B[0m\u001B[1;33m)\u001B[0m \u001B[1;33m->\u001B[0m \u001B[0mbool\u001B[0m\u001B[1;33m:\u001B[0m\u001B[1;33m\u001B[0m\u001B[1;33m\u001B[0m\u001B[0m\n",
      "\u001B[1;31mAttributeError\u001B[0m: 'StringDtype' object has no attribute 'storage'"
     ]
    },
    {
     "name": "stderr",
     "output_type": "stream",
     "text": [
      "Exception ignored in: 'pandas._libs.index.IndexEngine._call_map_locations'\n",
      "Traceback (most recent call last):\n",
      "  File \"pandas\\_libs\\hashtable_class_helper.pxi\", line 5231, in pandas._libs.hashtable.PyObjectHashTable.map_locations\n",
      "  File \"c:\\users\\amvanslambrouck.ua-net\\appdata\\local\\programs\\python\\python39\\lib\\site-packages\\pandas\\core\\arrays\\string_.py\", line 167, in __hash__\n",
      "    return super().__hash__()\n",
      "  File \"c:\\users\\amvanslambrouck.ua-net\\appdata\\local\\programs\\python\\python39\\lib\\site-packages\\pandas\\core\\dtypes\\base.py\", line 134, in __hash__\n",
      "    return object_hash(tuple(getattr(self, attr) for attr in self._metadata))\n",
      "  File \"c:\\users\\amvanslambrouck.ua-net\\appdata\\local\\programs\\python\\python39\\lib\\site-packages\\pandas\\core\\dtypes\\base.py\", line 134, in <genexpr>\n",
      "    return object_hash(tuple(getattr(self, attr) for attr in self._metadata))\n",
      "AttributeError: 'StringDtype' object has no attribute 'storage'\n"
     ]
    },
    {
     "name": "stdout",
     "output_type": "stream",
     "text": [
      "<class 'pandas.core.frame.DataFrame'>\n",
      "Int64Index: 11216 entries, 0 to 11239\n",
      "Data columns (total 25 columns):\n",
      " #   Column                  Non-Null Count  Dtype         \n",
      "---  ------                  --------------  -----         \n",
      " 0   subject                 11216 non-null  object        \n",
      " 1   section                 11216 non-null  int64         \n",
      " 2   exam_date               11216 non-null  datetime64[ns]\n",
      " 3   proctor                 11216 non-null  object        \n",
      " 4   room_number             11216 non-null  string        \n",
      " 5   start_time              11216 non-null  datetime64[ns]\n",
      " 6   end_time                11216 non-null  datetime64[ns]\n",
      " 7   actual_start            11216 non-null  datetime64[ns]\n",
      " 8   actual_end              11216 non-null  datetime64[ns]\n",
      " 9   first_entered           11216 non-null  datetime64[ns]\n",
      " 10  fileUploaded            11216 non-null  object        \n",
      " 11  received_as_paper_copy  11216 non-null  object        \n",
      " 12  rescheduled             11216 non-null  float64       \n",
      " 13  breaks_during_exams     11216 non-null  object        \n",
      " 14  extra_time_1.50x        11216 non-null  object        \n",
      " 15  extra_time_2.00x        11216 non-null  object        \n",
      " 16  makeup_accommodation    11216 non-null  object        \n",
      " 17  noScantronExam          11216 non-null  object        \n",
      " 18  readerForExams          11216 non-null  object        \n",
      " 19  allotted_time           11216 non-null  float64       \n",
      " 20  actual_time             7682 non-null   float64       \n",
      " 21  exam_cancelled          11216 non-null  bool          \n",
      " 22  no_show                 11216 non-null  bool          \n",
      " 23  requested_in_advance    11216 non-null  int64         \n",
      " 24  name_of_day             11216 non-null  object        \n",
      "dtypes: bool(2), datetime64[ns](6), float64(3), int64(2), object(11), string(1)\n",
      "memory usage: 2.1+ MB\n"
     ]
    }
   ],
   "source": [
    "# Check implementation\n",
    "ods.info()"
   ]
  },
  {
   "cell_type": "markdown",
   "metadata": {},
   "source": [
    "## *Basic Summary Statistics and Outliers for Regular Semester Exams*"
   ]
  },
  {
   "cell_type": "code",
   "execution_count": 10,
   "metadata": {},
   "outputs": [
    {
     "data": {
      "text/plain": "       allotted_time  actual_time  requested_in_advance\ncount   11216.000000  7682.000000          11216.000000\nmean      144.398805    86.366701             40.477443\nstd       122.298331    55.912566             34.642417\nmin         0.000000     0.000000             -4.000000\n25%       100.000000    48.000000              8.000000\n50%       120.000000    76.000000             31.000000\n75%       150.000000   112.000000             69.000000\nmax      5070.000000   642.000000            123.000000",
      "text/html": "<div>\n<style scoped>\n    .dataframe tbody tr th:only-of-type {\n        vertical-align: middle;\n    }\n\n    .dataframe tbody tr th {\n        vertical-align: top;\n    }\n\n    .dataframe thead th {\n        text-align: right;\n    }\n</style>\n<table border=\"1\" class=\"dataframe\">\n  <thead>\n    <tr style=\"text-align: right;\">\n      <th></th>\n      <th>allotted_time</th>\n      <th>actual_time</th>\n      <th>requested_in_advance</th>\n    </tr>\n  </thead>\n  <tbody>\n    <tr>\n      <th>count</th>\n      <td>11216.000000</td>\n      <td>7682.000000</td>\n      <td>11216.000000</td>\n    </tr>\n    <tr>\n      <th>mean</th>\n      <td>144.398805</td>\n      <td>86.366701</td>\n      <td>40.477443</td>\n    </tr>\n    <tr>\n      <th>std</th>\n      <td>122.298331</td>\n      <td>55.912566</td>\n      <td>34.642417</td>\n    </tr>\n    <tr>\n      <th>min</th>\n      <td>0.000000</td>\n      <td>0.000000</td>\n      <td>-4.000000</td>\n    </tr>\n    <tr>\n      <th>25%</th>\n      <td>100.000000</td>\n      <td>48.000000</td>\n      <td>8.000000</td>\n    </tr>\n    <tr>\n      <th>50%</th>\n      <td>120.000000</td>\n      <td>76.000000</td>\n      <td>31.000000</td>\n    </tr>\n    <tr>\n      <th>75%</th>\n      <td>150.000000</td>\n      <td>112.000000</td>\n      <td>69.000000</td>\n    </tr>\n    <tr>\n      <th>max</th>\n      <td>5070.000000</td>\n      <td>642.000000</td>\n      <td>123.000000</td>\n    </tr>\n  </tbody>\n</table>\n</div>"
     },
     "execution_count": 10,
     "metadata": {},
     "output_type": "execute_result"
    }
   ],
   "source": [
    "ods[['allotted_time', 'actual_time', 'requested_in_advance']].describe()"
   ]
  },
  {
   "cell_type": "markdown",
   "metadata": {},
   "source": [
    "*A few noticeable issues and questions:*\n",
    "1. 5070 minutes is too much time allotted_time for one student\n",
    "2. 642 minutes is too much actual_time for one student\n",
    "3. Why do we have an exam that was scheduled -4 days in advance\n",
    "4. Did a student really schedule an exam 123 days in advance? It is possible\n",
    "5. There shouldn't be a value of zero for allotted_time and actual_time"
   ]
  },
  {
   "cell_type": "markdown",
   "metadata": {},
   "source": [
    "### 5070 Minute Allotted Time"
   ]
  },
  {
   "cell_type": "markdown",
   "metadata": {},
   "source": [
    "*What exams were these for, and when did they happen?*"
   ]
  },
  {
   "cell_type": "code",
   "execution_count": 11,
   "metadata": {},
   "outputs": [
    {
     "data": {
      "text/plain": "      subject  allotted_time  exam_date extra_time_1.50x extra_time_2.00x\n7064     ENGR         5070.0 2020-01-28               No               No\n8212     ENGR         5070.0 2020-02-18               No               No\n9229     ENGR         5070.0 2020-03-10               No               No\n10201    ENGR         5070.0 2020-04-14               No               No\n10343    ENGR         5070.0 2020-04-17               No               No",
      "text/html": "<div>\n<style scoped>\n    .dataframe tbody tr th:only-of-type {\n        vertical-align: middle;\n    }\n\n    .dataframe tbody tr th {\n        vertical-align: top;\n    }\n\n    .dataframe thead th {\n        text-align: right;\n    }\n</style>\n<table border=\"1\" class=\"dataframe\">\n  <thead>\n    <tr style=\"text-align: right;\">\n      <th></th>\n      <th>subject</th>\n      <th>allotted_time</th>\n      <th>exam_date</th>\n      <th>extra_time_1.50x</th>\n      <th>extra_time_2.00x</th>\n    </tr>\n  </thead>\n  <tbody>\n    <tr>\n      <th>7064</th>\n      <td>ENGR</td>\n      <td>5070.0</td>\n      <td>2020-01-28</td>\n      <td>No</td>\n      <td>No</td>\n    </tr>\n    <tr>\n      <th>8212</th>\n      <td>ENGR</td>\n      <td>5070.0</td>\n      <td>2020-02-18</td>\n      <td>No</td>\n      <td>No</td>\n    </tr>\n    <tr>\n      <th>9229</th>\n      <td>ENGR</td>\n      <td>5070.0</td>\n      <td>2020-03-10</td>\n      <td>No</td>\n      <td>No</td>\n    </tr>\n    <tr>\n      <th>10201</th>\n      <td>ENGR</td>\n      <td>5070.0</td>\n      <td>2020-04-14</td>\n      <td>No</td>\n      <td>No</td>\n    </tr>\n    <tr>\n      <th>10343</th>\n      <td>ENGR</td>\n      <td>5070.0</td>\n      <td>2020-04-17</td>\n      <td>No</td>\n      <td>No</td>\n    </tr>\n  </tbody>\n</table>\n</div>"
     },
     "execution_count": 11,
     "metadata": {},
     "output_type": "execute_result"
    }
   ],
   "source": [
    "ods.loc[ods['allotted_time'] == 5070, ['subject', 'allotted_time', 'exam_date', 'extra_time_1.50x', 'extra_time_2.00x']]"
   ]
  },
  {
   "cell_type": "markdown",
   "metadata": {},
   "source": [
    "*Since we are unable to use student identifiers, we need to use the portal to look up who the students are and who the teacher is to verify allotted_time. The ODS portal is the information system ODS uses to process testing and accommodation data*"
   ]
  },
  {
   "cell_type": "markdown",
   "metadata": {},
   "source": [
    "***The exams in question all belong to one student, and for the same teacher. According to the exam agreement, the length of the exam (without extended time) was 70 minutes, and the student did not have an extended time accommodation. Thus, we can replace these values with 5070***"
   ]
  },
  {
   "cell_type": "code",
   "execution_count": 12,
   "metadata": {},
   "outputs": [],
   "source": [
    "# Assign the correct values for all instances of this exam\n",
    "ods.loc[7064, ['allotted_time']] = 70\n",
    "ods.loc[8212, ['allotted_time']] = 70\n",
    "ods.loc[9229, ['allotted_time']] = 70\n",
    "ods.loc[10201, ['allotted_time']] = 70\n",
    "ods.loc[10343, ['allotted_time']] = 70"
   ]
  },
  {
   "cell_type": "markdown",
   "metadata": {},
   "source": [
    "*The highest amount of time allotted for exams are for GBA finals, which are 480 minutes?*"
   ]
  },
  {
   "cell_type": "code",
   "execution_count": 13,
   "metadata": {
    "scrolled": true
   },
   "outputs": [
    {
     "data": {
      "text/plain": "     subject  section  exam_date        proctor room_number  \\\n4795      HY       28 2019-12-10          Bulls          46   \n5693     AEM      100 2019-08-01          Bulls          05   \n5705     ECE      150 2019-08-01          Bulls          18   \n5736     KIN      100 2019-08-02          Bulls          19   \n6969      OM      320 2020-12-09  Vanslambrouck          01   \n7643     PHL        1 2020-02-10          Bulls          31   \n9533     PHL        1 2020-03-13    Unspecified          11   \n\n              start_time            end_time        actual_start  \\\n4795 2019-12-10 13:00:00 2019-12-10 23:00:00 2019-12-10 13:00:00   \n5693 2019-08-01 08:00:00 2019-08-01 18:00:00 2019-08-01 08:00:00   \n5705 2019-08-01 08:00:00 2019-08-01 18:00:00 2019-08-01 08:24:00   \n5736 2019-08-02 08:00:00 2019-08-02 18:00:00 2019-08-02 08:14:00   \n6969 2020-12-09 12:15:00 2020-12-09 22:15:00 2020-12-09 12:14:00   \n7643 2020-02-10 10:00:00 2020-02-10 22:30:00 2020-02-10 10:00:00   \n9533 2020-03-13 10:00:00 2020-03-13 22:30:00 2020-03-13 10:00:00   \n\n              actual_end       first_entered  ... extra_time_2.00x  \\\n4795 2019-12-10 16:28:00 2019-12-06 17:04:00  ...              Yes   \n5693 2019-08-01 18:00:00 2019-07-23 11:26:00  ...               No   \n5705 2019-08-01 12:48:00 2019-07-31 10:41:00  ...               No   \n5736 2019-08-02 08:38:00 2019-08-01 08:47:00  ...               No   \n6969 2020-12-09 15:14:00 2020-12-04 13:10:00  ...              Yes   \n7643 2020-02-10 22:30:00 2020-01-16 21:17:00  ...               No   \n9533 2020-03-13 22:30:00 2020-01-16 21:17:00  ...               No   \n\n     makeup_accommodation  noScantronExam readerForExams allotted_time  \\\n4795                   No              No            Yes         600.0   \n5693                   No              No             No         600.0   \n5705                   No              No             No         600.0   \n5736                   No              No             No         600.0   \n6969                   No              No             No         600.0   \n7643                   No             Yes             No         750.0   \n9533                   No             Yes             No         750.0   \n\n     actual_time exam_cancelled no_show requested_in_advance  name_of_day  \n4795       208.0          False   False                    4      Tuesday  \n5693         NaN          False    True                    9     Thursday  \n5705       264.0          False   False                    1     Thursday  \n5736        24.0          False   False                    1       Friday  \n6969       180.0          False   False                    5    Wednesday  \n7643         NaN           True   False                   25       Monday  \n9533         NaN           True   False                   57       Friday  \n\n[7 rows x 25 columns]",
      "text/html": "<div>\n<style scoped>\n    .dataframe tbody tr th:only-of-type {\n        vertical-align: middle;\n    }\n\n    .dataframe tbody tr th {\n        vertical-align: top;\n    }\n\n    .dataframe thead th {\n        text-align: right;\n    }\n</style>\n<table border=\"1\" class=\"dataframe\">\n  <thead>\n    <tr style=\"text-align: right;\">\n      <th></th>\n      <th>subject</th>\n      <th>section</th>\n      <th>exam_date</th>\n      <th>proctor</th>\n      <th>room_number</th>\n      <th>start_time</th>\n      <th>end_time</th>\n      <th>actual_start</th>\n      <th>actual_end</th>\n      <th>first_entered</th>\n      <th>...</th>\n      <th>extra_time_2.00x</th>\n      <th>makeup_accommodation</th>\n      <th>noScantronExam</th>\n      <th>readerForExams</th>\n      <th>allotted_time</th>\n      <th>actual_time</th>\n      <th>exam_cancelled</th>\n      <th>no_show</th>\n      <th>requested_in_advance</th>\n      <th>name_of_day</th>\n    </tr>\n  </thead>\n  <tbody>\n    <tr>\n      <th>4795</th>\n      <td>HY</td>\n      <td>28</td>\n      <td>2019-12-10</td>\n      <td>Bulls</td>\n      <td>46</td>\n      <td>2019-12-10 13:00:00</td>\n      <td>2019-12-10 23:00:00</td>\n      <td>2019-12-10 13:00:00</td>\n      <td>2019-12-10 16:28:00</td>\n      <td>2019-12-06 17:04:00</td>\n      <td>...</td>\n      <td>Yes</td>\n      <td>No</td>\n      <td>No</td>\n      <td>Yes</td>\n      <td>600.0</td>\n      <td>208.0</td>\n      <td>False</td>\n      <td>False</td>\n      <td>4</td>\n      <td>Tuesday</td>\n    </tr>\n    <tr>\n      <th>5693</th>\n      <td>AEM</td>\n      <td>100</td>\n      <td>2019-08-01</td>\n      <td>Bulls</td>\n      <td>05</td>\n      <td>2019-08-01 08:00:00</td>\n      <td>2019-08-01 18:00:00</td>\n      <td>2019-08-01 08:00:00</td>\n      <td>2019-08-01 18:00:00</td>\n      <td>2019-07-23 11:26:00</td>\n      <td>...</td>\n      <td>No</td>\n      <td>No</td>\n      <td>No</td>\n      <td>No</td>\n      <td>600.0</td>\n      <td>NaN</td>\n      <td>False</td>\n      <td>True</td>\n      <td>9</td>\n      <td>Thursday</td>\n    </tr>\n    <tr>\n      <th>5705</th>\n      <td>ECE</td>\n      <td>150</td>\n      <td>2019-08-01</td>\n      <td>Bulls</td>\n      <td>18</td>\n      <td>2019-08-01 08:00:00</td>\n      <td>2019-08-01 18:00:00</td>\n      <td>2019-08-01 08:24:00</td>\n      <td>2019-08-01 12:48:00</td>\n      <td>2019-07-31 10:41:00</td>\n      <td>...</td>\n      <td>No</td>\n      <td>No</td>\n      <td>No</td>\n      <td>No</td>\n      <td>600.0</td>\n      <td>264.0</td>\n      <td>False</td>\n      <td>False</td>\n      <td>1</td>\n      <td>Thursday</td>\n    </tr>\n    <tr>\n      <th>5736</th>\n      <td>KIN</td>\n      <td>100</td>\n      <td>2019-08-02</td>\n      <td>Bulls</td>\n      <td>19</td>\n      <td>2019-08-02 08:00:00</td>\n      <td>2019-08-02 18:00:00</td>\n      <td>2019-08-02 08:14:00</td>\n      <td>2019-08-02 08:38:00</td>\n      <td>2019-08-01 08:47:00</td>\n      <td>...</td>\n      <td>No</td>\n      <td>No</td>\n      <td>No</td>\n      <td>No</td>\n      <td>600.0</td>\n      <td>24.0</td>\n      <td>False</td>\n      <td>False</td>\n      <td>1</td>\n      <td>Friday</td>\n    </tr>\n    <tr>\n      <th>6969</th>\n      <td>OM</td>\n      <td>320</td>\n      <td>2020-12-09</td>\n      <td>Vanslambrouck</td>\n      <td>01</td>\n      <td>2020-12-09 12:15:00</td>\n      <td>2020-12-09 22:15:00</td>\n      <td>2020-12-09 12:14:00</td>\n      <td>2020-12-09 15:14:00</td>\n      <td>2020-12-04 13:10:00</td>\n      <td>...</td>\n      <td>Yes</td>\n      <td>No</td>\n      <td>No</td>\n      <td>No</td>\n      <td>600.0</td>\n      <td>180.0</td>\n      <td>False</td>\n      <td>False</td>\n      <td>5</td>\n      <td>Wednesday</td>\n    </tr>\n    <tr>\n      <th>7643</th>\n      <td>PHL</td>\n      <td>1</td>\n      <td>2020-02-10</td>\n      <td>Bulls</td>\n      <td>31</td>\n      <td>2020-02-10 10:00:00</td>\n      <td>2020-02-10 22:30:00</td>\n      <td>2020-02-10 10:00:00</td>\n      <td>2020-02-10 22:30:00</td>\n      <td>2020-01-16 21:17:00</td>\n      <td>...</td>\n      <td>No</td>\n      <td>No</td>\n      <td>Yes</td>\n      <td>No</td>\n      <td>750.0</td>\n      <td>NaN</td>\n      <td>True</td>\n      <td>False</td>\n      <td>25</td>\n      <td>Monday</td>\n    </tr>\n    <tr>\n      <th>9533</th>\n      <td>PHL</td>\n      <td>1</td>\n      <td>2020-03-13</td>\n      <td>Unspecified</td>\n      <td>11</td>\n      <td>2020-03-13 10:00:00</td>\n      <td>2020-03-13 22:30:00</td>\n      <td>2020-03-13 10:00:00</td>\n      <td>2020-03-13 22:30:00</td>\n      <td>2020-01-16 21:17:00</td>\n      <td>...</td>\n      <td>No</td>\n      <td>No</td>\n      <td>Yes</td>\n      <td>No</td>\n      <td>750.0</td>\n      <td>NaN</td>\n      <td>True</td>\n      <td>False</td>\n      <td>57</td>\n      <td>Friday</td>\n    </tr>\n  </tbody>\n</table>\n<p>7 rows × 25 columns</p>\n</div>"
     },
     "execution_count": 13,
     "metadata": {},
     "output_type": "execute_result"
    }
   ],
   "source": [
    "ods.loc[ods['allotted_time'] > 480]"
   ]
  },
  {
   "cell_type": "markdown",
   "metadata": {},
   "source": [
    "*(Research done in ODS Portal)*\n",
    "1. For HY 28, the instructor did not list the final exam amount, but since most finals are 2.5 hours (150 minutes), its likely that the instructor simply added the extra time in before inputing the amount in the portal, then the system added the extra time on top of that - *Change HY 28 allotted_time to 300*\n",
    "2. For AEM it is the sam problem. The extra time likely got added on preemptively by the instructor - *Change AEM 100 to 300*\n",
    "3. Same for ECE - *Change ECE 150 to 300*\n",
    "4. Same for KIN; this case was interesting considering that the instructor input the correct time on another exam in the same exact course but for another student, illustrating how easy it is for bad data to show up in our dataset - *Change KIN 100 to 300*\n",
    "5. Same for OM 320 - *Change OM 320 to 300*\n",
    "6. Neither instances of PHL appear in the portal. I am not sure why this is. They could've been cancelled early in the process - *Drop both occurences of PHL 1*"
   ]
  },
  {
   "cell_type": "code",
   "execution_count": 14,
   "metadata": {},
   "outputs": [],
   "source": [
    "ods.loc[4795, ['allotted_time']] = 300\n",
    "ods.loc[5693, ['allotted_time']] = 300\n",
    "ods.loc[5705, ['allotted_time']] = 300\n",
    "ods.loc[5736, ['allotted_time']] = 300\n",
    "ods.loc[6969, ['allotted_time']] = 300\n",
    "ods.drop(index=7643, inplace=True)\n",
    "ods.drop(index=9533, inplace=True)"
   ]
  },
  {
   "cell_type": "markdown",
   "metadata": {},
   "source": [
    "### 642 Actual Time"
   ]
  },
  {
   "cell_type": "markdown",
   "metadata": {},
   "source": [
    "*The highest time a student should have taken for exams is 480, which were GBA finals. Why do we have exams over that?*"
   ]
  },
  {
   "cell_type": "code",
   "execution_count": 15,
   "metadata": {},
   "outputs": [
    {
     "data": {
      "text/plain": "     subject  section  exam_date      proctor                 room_number  \\\n4672     ECE        1 2019-12-10        Bulls                          33   \n4691      ME        2 2019-12-10        Bulls  Virtual Room (Finals Only)   \n4706      HD        1 2019-12-10  Unspecified  Virtual Room (Finals Only)   \n5002      EN       14 2019-12-11        Bulls                          30   \n5004      FI      322 2019-12-11        Bulls                          33   \n5006      HY        1 2019-12-11  Unspecified  Virtual Room (Finals Only)   \n5021      ST        2 2019-12-11        Bulls                          48   \n5046     NHM        1 2019-12-11        Bulls                          11   \n5073     NHM        1 2019-12-11        Bulls                          10   \n\n              start_time            end_time        actual_start  \\\n4672 2019-12-10 08:00:00 2019-12-10 13:00:00 2019-12-10 08:00:00   \n4691 2019-12-10 08:00:00 2019-12-10 13:00:00 2019-12-10 08:00:00   \n4706 2019-12-10 08:05:00 2019-12-10 14:05:00 2019-12-10 08:05:00   \n5002 2019-12-11 10:00:00 2019-12-11 15:00:00 2019-12-11 10:02:00   \n5004 2019-12-11 10:00:00 2019-12-11 13:45:00 2019-12-11 10:00:00   \n5006 2019-12-11 10:00:00 2019-12-11 15:00:00 2019-12-11 10:00:00   \n5021 2019-12-11 10:00:00 2019-12-11 13:45:00 2019-12-11 10:00:00   \n5046 2019-12-11 13:00:00 2019-12-11 16:45:00 2019-12-11 12:59:00   \n5073 2019-12-11 13:10:00 2019-12-11 18:10:00 2019-12-11 13:08:00   \n\n              actual_end       first_entered  ... extra_time_2.00x  \\\n4672 2019-12-10 16:59:00 2019-12-06 07:41:00  ...              Yes   \n4691 2019-12-10 16:37:00 2019-09-26 16:33:00  ...              Yes   \n4706 2019-12-10 17:47:00 2019-09-05 15:27:00  ...              Yes   \n5002 2019-12-11 20:41:00 2019-09-10 07:41:00  ...              Yes   \n5004 2019-12-11 20:42:00 2019-10-18 13:46:00  ...               No   \n5006 2019-12-11 20:42:00 2019-08-23 21:40:00  ...              Yes   \n5021 2019-12-11 20:41:00 2019-08-23 14:37:00  ...               No   \n5046 2019-12-11 21:05:00 2019-09-03 11:41:00  ...               No   \n5073 2019-12-11 21:13:00 2019-10-10 13:55:00  ...              Yes   \n\n     makeup_accommodation  noScantronExam readerForExams allotted_time  \\\n4672                   No              No             No         300.0   \n4691                   No              No             No         300.0   \n4706                   No              No             No         360.0   \n5002                   No              No             No         300.0   \n5004                   No              No             No         225.0   \n5006                   No              No             No         300.0   \n5021                   No              No             No         225.0   \n5046                   No             Yes             No         225.0   \n5073                  Yes              No             No         300.0   \n\n     actual_time exam_cancelled no_show requested_in_advance  name_of_day  \n4672       539.0          False   False                    4      Tuesday  \n4691       517.0          False   False                   75      Tuesday  \n4706       582.0          False   False                   96      Tuesday  \n5002       639.0          False   False                   92    Wednesday  \n5004       642.0          False   False                   54    Wednesday  \n5006       642.0          False   False                  110    Wednesday  \n5021       641.0          False   False                  110    Wednesday  \n5046       486.0          False   False                   99    Wednesday  \n5073       485.0          False   False                   62    Wednesday  \n\n[9 rows x 25 columns]",
      "text/html": "<div>\n<style scoped>\n    .dataframe tbody tr th:only-of-type {\n        vertical-align: middle;\n    }\n\n    .dataframe tbody tr th {\n        vertical-align: top;\n    }\n\n    .dataframe thead th {\n        text-align: right;\n    }\n</style>\n<table border=\"1\" class=\"dataframe\">\n  <thead>\n    <tr style=\"text-align: right;\">\n      <th></th>\n      <th>subject</th>\n      <th>section</th>\n      <th>exam_date</th>\n      <th>proctor</th>\n      <th>room_number</th>\n      <th>start_time</th>\n      <th>end_time</th>\n      <th>actual_start</th>\n      <th>actual_end</th>\n      <th>first_entered</th>\n      <th>...</th>\n      <th>extra_time_2.00x</th>\n      <th>makeup_accommodation</th>\n      <th>noScantronExam</th>\n      <th>readerForExams</th>\n      <th>allotted_time</th>\n      <th>actual_time</th>\n      <th>exam_cancelled</th>\n      <th>no_show</th>\n      <th>requested_in_advance</th>\n      <th>name_of_day</th>\n    </tr>\n  </thead>\n  <tbody>\n    <tr>\n      <th>4672</th>\n      <td>ECE</td>\n      <td>1</td>\n      <td>2019-12-10</td>\n      <td>Bulls</td>\n      <td>33</td>\n      <td>2019-12-10 08:00:00</td>\n      <td>2019-12-10 13:00:00</td>\n      <td>2019-12-10 08:00:00</td>\n      <td>2019-12-10 16:59:00</td>\n      <td>2019-12-06 07:41:00</td>\n      <td>...</td>\n      <td>Yes</td>\n      <td>No</td>\n      <td>No</td>\n      <td>No</td>\n      <td>300.0</td>\n      <td>539.0</td>\n      <td>False</td>\n      <td>False</td>\n      <td>4</td>\n      <td>Tuesday</td>\n    </tr>\n    <tr>\n      <th>4691</th>\n      <td>ME</td>\n      <td>2</td>\n      <td>2019-12-10</td>\n      <td>Bulls</td>\n      <td>Virtual Room (Finals Only)</td>\n      <td>2019-12-10 08:00:00</td>\n      <td>2019-12-10 13:00:00</td>\n      <td>2019-12-10 08:00:00</td>\n      <td>2019-12-10 16:37:00</td>\n      <td>2019-09-26 16:33:00</td>\n      <td>...</td>\n      <td>Yes</td>\n      <td>No</td>\n      <td>No</td>\n      <td>No</td>\n      <td>300.0</td>\n      <td>517.0</td>\n      <td>False</td>\n      <td>False</td>\n      <td>75</td>\n      <td>Tuesday</td>\n    </tr>\n    <tr>\n      <th>4706</th>\n      <td>HD</td>\n      <td>1</td>\n      <td>2019-12-10</td>\n      <td>Unspecified</td>\n      <td>Virtual Room (Finals Only)</td>\n      <td>2019-12-10 08:05:00</td>\n      <td>2019-12-10 14:05:00</td>\n      <td>2019-12-10 08:05:00</td>\n      <td>2019-12-10 17:47:00</td>\n      <td>2019-09-05 15:27:00</td>\n      <td>...</td>\n      <td>Yes</td>\n      <td>No</td>\n      <td>No</td>\n      <td>No</td>\n      <td>360.0</td>\n      <td>582.0</td>\n      <td>False</td>\n      <td>False</td>\n      <td>96</td>\n      <td>Tuesday</td>\n    </tr>\n    <tr>\n      <th>5002</th>\n      <td>EN</td>\n      <td>14</td>\n      <td>2019-12-11</td>\n      <td>Bulls</td>\n      <td>30</td>\n      <td>2019-12-11 10:00:00</td>\n      <td>2019-12-11 15:00:00</td>\n      <td>2019-12-11 10:02:00</td>\n      <td>2019-12-11 20:41:00</td>\n      <td>2019-09-10 07:41:00</td>\n      <td>...</td>\n      <td>Yes</td>\n      <td>No</td>\n      <td>No</td>\n      <td>No</td>\n      <td>300.0</td>\n      <td>639.0</td>\n      <td>False</td>\n      <td>False</td>\n      <td>92</td>\n      <td>Wednesday</td>\n    </tr>\n    <tr>\n      <th>5004</th>\n      <td>FI</td>\n      <td>322</td>\n      <td>2019-12-11</td>\n      <td>Bulls</td>\n      <td>33</td>\n      <td>2019-12-11 10:00:00</td>\n      <td>2019-12-11 13:45:00</td>\n      <td>2019-12-11 10:00:00</td>\n      <td>2019-12-11 20:42:00</td>\n      <td>2019-10-18 13:46:00</td>\n      <td>...</td>\n      <td>No</td>\n      <td>No</td>\n      <td>No</td>\n      <td>No</td>\n      <td>225.0</td>\n      <td>642.0</td>\n      <td>False</td>\n      <td>False</td>\n      <td>54</td>\n      <td>Wednesday</td>\n    </tr>\n    <tr>\n      <th>5006</th>\n      <td>HY</td>\n      <td>1</td>\n      <td>2019-12-11</td>\n      <td>Unspecified</td>\n      <td>Virtual Room (Finals Only)</td>\n      <td>2019-12-11 10:00:00</td>\n      <td>2019-12-11 15:00:00</td>\n      <td>2019-12-11 10:00:00</td>\n      <td>2019-12-11 20:42:00</td>\n      <td>2019-08-23 21:40:00</td>\n      <td>...</td>\n      <td>Yes</td>\n      <td>No</td>\n      <td>No</td>\n      <td>No</td>\n      <td>300.0</td>\n      <td>642.0</td>\n      <td>False</td>\n      <td>False</td>\n      <td>110</td>\n      <td>Wednesday</td>\n    </tr>\n    <tr>\n      <th>5021</th>\n      <td>ST</td>\n      <td>2</td>\n      <td>2019-12-11</td>\n      <td>Bulls</td>\n      <td>48</td>\n      <td>2019-12-11 10:00:00</td>\n      <td>2019-12-11 13:45:00</td>\n      <td>2019-12-11 10:00:00</td>\n      <td>2019-12-11 20:41:00</td>\n      <td>2019-08-23 14:37:00</td>\n      <td>...</td>\n      <td>No</td>\n      <td>No</td>\n      <td>No</td>\n      <td>No</td>\n      <td>225.0</td>\n      <td>641.0</td>\n      <td>False</td>\n      <td>False</td>\n      <td>110</td>\n      <td>Wednesday</td>\n    </tr>\n    <tr>\n      <th>5046</th>\n      <td>NHM</td>\n      <td>1</td>\n      <td>2019-12-11</td>\n      <td>Bulls</td>\n      <td>11</td>\n      <td>2019-12-11 13:00:00</td>\n      <td>2019-12-11 16:45:00</td>\n      <td>2019-12-11 12:59:00</td>\n      <td>2019-12-11 21:05:00</td>\n      <td>2019-09-03 11:41:00</td>\n      <td>...</td>\n      <td>No</td>\n      <td>No</td>\n      <td>Yes</td>\n      <td>No</td>\n      <td>225.0</td>\n      <td>486.0</td>\n      <td>False</td>\n      <td>False</td>\n      <td>99</td>\n      <td>Wednesday</td>\n    </tr>\n    <tr>\n      <th>5073</th>\n      <td>NHM</td>\n      <td>1</td>\n      <td>2019-12-11</td>\n      <td>Bulls</td>\n      <td>10</td>\n      <td>2019-12-11 13:10:00</td>\n      <td>2019-12-11 18:10:00</td>\n      <td>2019-12-11 13:08:00</td>\n      <td>2019-12-11 21:13:00</td>\n      <td>2019-10-10 13:55:00</td>\n      <td>...</td>\n      <td>Yes</td>\n      <td>Yes</td>\n      <td>No</td>\n      <td>No</td>\n      <td>300.0</td>\n      <td>485.0</td>\n      <td>False</td>\n      <td>False</td>\n      <td>62</td>\n      <td>Wednesday</td>\n    </tr>\n  </tbody>\n</table>\n<p>9 rows × 25 columns</p>\n</div>"
     },
     "execution_count": 15,
     "metadata": {},
     "output_type": "execute_result"
    }
   ],
   "source": [
    "ods[ods['actual_time'] > 480]"
   ]
  },
  {
   "cell_type": "markdown",
   "metadata": {},
   "source": [
    "*We could impute the actual_times with that of the allotted_times; however, since there is such disparity in the times, there is no way for us to know when the students actually finished. We should drop these values*"
   ]
  },
  {
   "cell_type": "code",
   "execution_count": 16,
   "metadata": {},
   "outputs": [],
   "source": [
    "drop = ods.loc[ods['actual_time'] > 480].index\n",
    "ods.drop(index=drop, inplace=True)"
   ]
  },
  {
   "cell_type": "markdown",
   "metadata": {},
   "source": [
    "### -4 Scheduled in Advance"
   ]
  },
  {
   "cell_type": "markdown",
   "metadata": {},
   "source": [
    "*Why do we have an exam scheduled -4 days in advance*"
   ]
  },
  {
   "cell_type": "code",
   "execution_count": 17,
   "metadata": {},
   "outputs": [
    {
     "data": {
      "text/plain": "     subject  section  exam_date      proctor room_number          start_time  \\\n5611     KIN      100 2019-07-20  Unspecified          39 2019-07-20 10:00:00   \n\n                end_time        actual_start          actual_end  \\\n5611 2019-07-20 14:30:00 2019-07-20 10:00:00 2019-07-20 14:30:00   \n\n           first_entered  ... extra_time_2.00x makeup_accommodation  \\\n5611 2019-07-24 09:16:00  ...               No                   No   \n\n      noScantronExam readerForExams allotted_time actual_time exam_cancelled  \\\n5611              No             No         270.0         NaN           True   \n\n     no_show requested_in_advance  name_of_day  \n5611   False                   -4     Saturday  \n\n[1 rows x 25 columns]",
      "text/html": "<div>\n<style scoped>\n    .dataframe tbody tr th:only-of-type {\n        vertical-align: middle;\n    }\n\n    .dataframe tbody tr th {\n        vertical-align: top;\n    }\n\n    .dataframe thead th {\n        text-align: right;\n    }\n</style>\n<table border=\"1\" class=\"dataframe\">\n  <thead>\n    <tr style=\"text-align: right;\">\n      <th></th>\n      <th>subject</th>\n      <th>section</th>\n      <th>exam_date</th>\n      <th>proctor</th>\n      <th>room_number</th>\n      <th>start_time</th>\n      <th>end_time</th>\n      <th>actual_start</th>\n      <th>actual_end</th>\n      <th>first_entered</th>\n      <th>...</th>\n      <th>extra_time_2.00x</th>\n      <th>makeup_accommodation</th>\n      <th>noScantronExam</th>\n      <th>readerForExams</th>\n      <th>allotted_time</th>\n      <th>actual_time</th>\n      <th>exam_cancelled</th>\n      <th>no_show</th>\n      <th>requested_in_advance</th>\n      <th>name_of_day</th>\n    </tr>\n  </thead>\n  <tbody>\n    <tr>\n      <th>5611</th>\n      <td>KIN</td>\n      <td>100</td>\n      <td>2019-07-20</td>\n      <td>Unspecified</td>\n      <td>39</td>\n      <td>2019-07-20 10:00:00</td>\n      <td>2019-07-20 14:30:00</td>\n      <td>2019-07-20 10:00:00</td>\n      <td>2019-07-20 14:30:00</td>\n      <td>2019-07-24 09:16:00</td>\n      <td>...</td>\n      <td>No</td>\n      <td>No</td>\n      <td>No</td>\n      <td>No</td>\n      <td>270.0</td>\n      <td>NaN</td>\n      <td>True</td>\n      <td>False</td>\n      <td>-4</td>\n      <td>Saturday</td>\n    </tr>\n  </tbody>\n</table>\n<p>1 rows × 25 columns</p>\n</div>"
     },
     "execution_count": 17,
     "metadata": {},
     "output_type": "execute_result"
    }
   ],
   "source": [
    "ods[ods['requested_in_advance']==-4]"
   ]
  },
  {
   "cell_type": "markdown",
   "metadata": {},
   "source": [
    "*The student did not take this exam on the 24th nor on the 20th. We are going to drop it.*"
   ]
  },
  {
   "cell_type": "code",
   "execution_count": 18,
   "metadata": {},
   "outputs": [],
   "source": [
    "ods.drop(index=5611, inplace=True)"
   ]
  },
  {
   "cell_type": "markdown",
   "metadata": {},
   "source": [
    "*Any more less than zero?*"
   ]
  },
  {
   "cell_type": "code",
   "execution_count": 19,
   "metadata": {
    "scrolled": true
   },
   "outputs": [
    {
     "data": {
      "text/plain": "     subject  section  exam_date      proctor room_number          start_time  \\\n4987      EC      320 2019-12-11  Unspecified          01 2019-12-11 08:30:00   \n\n                end_time        actual_start          actual_end  \\\n4987 2019-12-11 12:15:00 2019-12-11 08:30:00 2019-12-11 12:15:00   \n\n           first_entered  ... extra_time_2.00x makeup_accommodation  \\\n4987 2019-12-12 08:25:00  ...               No                   No   \n\n      noScantronExam readerForExams allotted_time actual_time exam_cancelled  \\\n4987              No             No         225.0         NaN           True   \n\n     no_show requested_in_advance  name_of_day  \n4987   False                   -1    Wednesday  \n\n[1 rows x 25 columns]",
      "text/html": "<div>\n<style scoped>\n    .dataframe tbody tr th:only-of-type {\n        vertical-align: middle;\n    }\n\n    .dataframe tbody tr th {\n        vertical-align: top;\n    }\n\n    .dataframe thead th {\n        text-align: right;\n    }\n</style>\n<table border=\"1\" class=\"dataframe\">\n  <thead>\n    <tr style=\"text-align: right;\">\n      <th></th>\n      <th>subject</th>\n      <th>section</th>\n      <th>exam_date</th>\n      <th>proctor</th>\n      <th>room_number</th>\n      <th>start_time</th>\n      <th>end_time</th>\n      <th>actual_start</th>\n      <th>actual_end</th>\n      <th>first_entered</th>\n      <th>...</th>\n      <th>extra_time_2.00x</th>\n      <th>makeup_accommodation</th>\n      <th>noScantronExam</th>\n      <th>readerForExams</th>\n      <th>allotted_time</th>\n      <th>actual_time</th>\n      <th>exam_cancelled</th>\n      <th>no_show</th>\n      <th>requested_in_advance</th>\n      <th>name_of_day</th>\n    </tr>\n  </thead>\n  <tbody>\n    <tr>\n      <th>4987</th>\n      <td>EC</td>\n      <td>320</td>\n      <td>2019-12-11</td>\n      <td>Unspecified</td>\n      <td>01</td>\n      <td>2019-12-11 08:30:00</td>\n      <td>2019-12-11 12:15:00</td>\n      <td>2019-12-11 08:30:00</td>\n      <td>2019-12-11 12:15:00</td>\n      <td>2019-12-12 08:25:00</td>\n      <td>...</td>\n      <td>No</td>\n      <td>No</td>\n      <td>No</td>\n      <td>No</td>\n      <td>225.0</td>\n      <td>NaN</td>\n      <td>True</td>\n      <td>False</td>\n      <td>-1</td>\n      <td>Wednesday</td>\n    </tr>\n  </tbody>\n</table>\n<p>1 rows × 25 columns</p>\n</div>"
     },
     "execution_count": 19,
     "metadata": {},
     "output_type": "execute_result"
    }
   ],
   "source": [
    "ods[ods['requested_in_advance'] <0.0]"
   ]
  },
  {
   "cell_type": "markdown",
   "metadata": {},
   "source": [
    "*On this one, the student actually took the test on the 12th not the 11th. We need to update the exam_date*"
   ]
  },
  {
   "cell_type": "code",
   "execution_count": 20,
   "metadata": {},
   "outputs": [],
   "source": [
    "ods.loc[4987, ['exam_date']] ='2019-12-12'\n",
    "ods.loc[4987, ['requested_in_advance']] = 0.0"
   ]
  },
  {
   "cell_type": "markdown",
   "metadata": {},
   "source": [
    "### 123 days Advance Scheduling"
   ]
  },
  {
   "cell_type": "markdown",
   "metadata": {},
   "source": [
    "*Did a student really schedule 123 days in advance?*"
   ]
  },
  {
   "cell_type": "code",
   "execution_count": 21,
   "metadata": {},
   "outputs": [
    {
     "data": {
      "text/plain": "     subject  section  exam_date      proctor room_number          start_time  \\\n5600     PSC        2 2019-12-24  Unspecified          39 2019-12-24 14:00:00   \n\n                end_time        actual_start          actual_end  \\\n5600 2019-12-24 16:20:00 2019-12-24 14:00:00 2019-12-24 16:20:00   \n\n           first_entered  ... extra_time_2.00x makeup_accommodation  \\\n5600 2019-08-23 17:24:00  ...              Yes                   No   \n\n      noScantronExam readerForExams allotted_time actual_time exam_cancelled  \\\n5600             Yes             No         140.0         NaN           True   \n\n     no_show requested_in_advance  name_of_day  \n5600   False                  123      Tuesday  \n\n[1 rows x 25 columns]",
      "text/html": "<div>\n<style scoped>\n    .dataframe tbody tr th:only-of-type {\n        vertical-align: middle;\n    }\n\n    .dataframe tbody tr th {\n        vertical-align: top;\n    }\n\n    .dataframe thead th {\n        text-align: right;\n    }\n</style>\n<table border=\"1\" class=\"dataframe\">\n  <thead>\n    <tr style=\"text-align: right;\">\n      <th></th>\n      <th>subject</th>\n      <th>section</th>\n      <th>exam_date</th>\n      <th>proctor</th>\n      <th>room_number</th>\n      <th>start_time</th>\n      <th>end_time</th>\n      <th>actual_start</th>\n      <th>actual_end</th>\n      <th>first_entered</th>\n      <th>...</th>\n      <th>extra_time_2.00x</th>\n      <th>makeup_accommodation</th>\n      <th>noScantronExam</th>\n      <th>readerForExams</th>\n      <th>allotted_time</th>\n      <th>actual_time</th>\n      <th>exam_cancelled</th>\n      <th>no_show</th>\n      <th>requested_in_advance</th>\n      <th>name_of_day</th>\n    </tr>\n  </thead>\n  <tbody>\n    <tr>\n      <th>5600</th>\n      <td>PSC</td>\n      <td>2</td>\n      <td>2019-12-24</td>\n      <td>Unspecified</td>\n      <td>39</td>\n      <td>2019-12-24 14:00:00</td>\n      <td>2019-12-24 16:20:00</td>\n      <td>2019-12-24 14:00:00</td>\n      <td>2019-12-24 16:20:00</td>\n      <td>2019-08-23 17:24:00</td>\n      <td>...</td>\n      <td>Yes</td>\n      <td>No</td>\n      <td>Yes</td>\n      <td>No</td>\n      <td>140.0</td>\n      <td>NaN</td>\n      <td>True</td>\n      <td>False</td>\n      <td>123</td>\n      <td>Tuesday</td>\n    </tr>\n  </tbody>\n</table>\n<p>1 rows × 25 columns</p>\n</div>"
     },
     "execution_count": 21,
     "metadata": {},
     "output_type": "execute_result"
    }
   ],
   "source": [
    "ods[ods['requested_in_advance']==123.0]"
   ]
  },
  {
   "cell_type": "markdown",
   "metadata": {},
   "source": [
    "*The exam was cancelled likely due to the fact that it was scheduled for Christmas Eve, when the univeristy is closed. We can drop this exam*"
   ]
  },
  {
   "cell_type": "code",
   "execution_count": 22,
   "metadata": {},
   "outputs": [],
   "source": [
    "ods.drop(index=5600, inplace=True)"
   ]
  },
  {
   "cell_type": "markdown",
   "metadata": {},
   "source": [
    "### 0.0 for Actual Time"
   ]
  },
  {
   "cell_type": "markdown",
   "metadata": {},
   "source": [
    "*Exams should not have zero actual time. If the student cancelled or was a no show, there should be a null (for now)*\n",
    "\n",
    "****\n",
    "\n",
    "***There are quite a few instances where the actual time isn't zero but doesn't make sense. Version 1 of this script revealed that multiple exams were checked in and checked out within a few minutes of check in. The question is what to do with these values. We are going to impute the actual_start with the start_time like we did in version 1; however, we will create a filter that that stores values that in which the allotted time is greater than or equal to 0 and less than or equal to 8. We chose 8 because it is the smallest amount of time allotted for an exam (as we will see later)*** "
   ]
  },
  {
   "cell_type": "markdown",
   "metadata": {},
   "source": [
    "**Assign the index of those values that have 0.0 to a new variable**"
   ]
  },
  {
   "cell_type": "code",
   "execution_count": 23,
   "metadata": {},
   "outputs": [
    {
     "data": {
      "text/plain": "Int64Index([   3,  290,  376,  422,  554,  584,  710,  819,  911, 1001, 1067,\n            1147, 1165, 1270, 1274, 1277, 1380, 1445, 1446, 1499, 1567, 1585,\n            1630, 1640, 1720, 1768, 1817, 1871, 2060, 2125, 2128, 2241, 2243,\n            2251, 2252, 2264, 2281, 2294, 2310, 2361, 2430, 2610, 2630, 2748,\n            2896, 3022, 3043, 3286, 3447, 3461, 3468, 3476, 3525, 3637, 3865,\n            4011, 4046, 5076, 5090, 5633, 5675, 5765, 5955, 6035, 6043, 6101,\n            6473, 6959, 6961, 6978, 6985, 7228, 7460, 7721, 8158, 8528, 8733,\n            9248, 9314, 9329, 9387],\n           dtype='int64')"
     },
     "execution_count": 23,
     "metadata": {},
     "output_type": "execute_result"
    }
   ],
   "source": [
    "# Assign the index of those values that have 0.0 to a new variable\n",
    "zero_time = ods.loc[(ods['actual_time']>= 0.0) & (ods['actual_time']<=8.0), ['proctor','subject', 'section', 'exam_date','start_time', 'end_time', 'actual_start', 'actual_end',\n",
    "                                   'allotted_time', 'actual_time']].index\n",
    "\n",
    "zero_time"
   ]
  },
  {
   "cell_type": "markdown",
   "metadata": {},
   "source": [
    "*(Researched in ODS Portal)*\n",
    "\n",
    "*It looks like these exams were not checked in and when the student finished, the testing coordinator marked their exam as 'Complete', which takes begins and ends their time at the time the coordinator marked it as complete. We will fix the actual start time to the scheduled start time and the actual time will be the difference between the exam start and the actual end*"
   ]
  },
  {
   "cell_type": "code",
   "execution_count": 24,
   "metadata": {},
   "outputs": [
    {
     "data": {
      "text/plain": "0    12.0\n1    21.0\n2    18.0\n3     4.0\n4     NaN\nName: actual_time, dtype: float64"
     },
     "execution_count": 24,
     "metadata": {},
     "output_type": "execute_result"
    }
   ],
   "source": [
    "# Use a for loop to loop through the rows, converting the time, then convert the column to timedelta dtype. \n",
    "# Use the 'total_second' method to convert to float and then divide by 60 to get the total length of the exam in minutes\n",
    "for i in zero_time:\n",
    "    ods.at[i, 'actual_start'] = ods.at[i, 'start_time']\n",
    "    ods.at[i, 'actual_time'] = ods.at[i, 'actual_end'] - ods.at[i, 'actual_start']\n",
    "\n",
    "ods['actual_time'] = pd.to_timedelta(ods['actual_time'], unit='m')\n",
    "ods['actual_time'] = ods['actual_time'].dt.total_seconds()/60.0\n",
    "\n",
    "# Check the implementation\n",
    "ods['actual_time'].head()"
   ]
  },
  {
   "cell_type": "markdown",
   "metadata": {},
   "source": [
    "*We need to evaluate the accuracy of 'actual_time' for these rows*"
   ]
  },
  {
   "cell_type": "code",
   "execution_count": 25,
   "metadata": {},
   "outputs": [],
   "source": [
    "# Set pandas to increase the amount of max rows that it will display\n",
    "pd.set_option('display.max_rows', 100)"
   ]
  },
  {
   "cell_type": "code",
   "execution_count": 26,
   "metadata": {},
   "outputs": [
    {
     "data": {
      "text/plain": "     subject  section  exam_date          start_time            end_time  \\\n3         AC       15 2019-08-30 2019-08-30 08:45:00 2019-08-30 09:25:00   \n290       PY        2 2019-09-16 2019-09-16 10:00:00 2019-09-16 11:15:00   \n376       CD        1 2019-09-17 2019-09-17 13:00:00 2019-09-17 14:53:00   \n422       FI      321 2019-09-17 2019-09-17 18:00:00 2019-09-17 20:30:00   \n554      MKT        7 2019-09-19 2019-09-19 09:30:00 2019-09-19 12:00:00   \n584     MATH        4 2019-09-19 2019-09-19 13:00:00 2019-09-19 14:40:00   \n710       EN        4 2019-09-23 2019-09-23 12:00:00 2019-09-23 13:15:00   \n819       CD        1 2019-09-24 2019-09-24 11:00:00 2019-09-24 13:30:00   \n911      CIS      910 2019-09-24 2019-09-24 17:00:00 2019-09-24 18:53:00   \n1001     LGS      336 2019-09-25 2019-09-25 18:30:00 2019-09-25 20:23:00   \n1067     ARH        1 2019-09-26 2019-09-26 14:00:00 2019-09-26 15:53:00   \n1147      CS      910 2019-09-30 2019-09-30 11:30:00 2019-09-30 13:00:00   \n1165      GN        1 2019-09-30 2019-09-30 14:00:00 2019-09-30 15:30:00   \n1270     PHL        1 2019-10-01 2019-10-01 14:00:00 2019-10-01 16:15:00   \n1274      PY       10 2019-10-01 2019-10-01 14:00:00 2019-10-01 15:53:00   \n1277     RHM        1 2019-10-01 2019-10-01 14:00:00 2019-10-01 15:40:00   \n1380      AC      320 2019-10-02 2019-10-02 17:00:00 2019-10-02 18:53:00   \n1445     APR        1 2019-10-03 2019-10-03 14:15:00 2019-10-03 16:45:00   \n1446     CIP        5 2019-10-03 2019-10-03 14:15:00 2019-10-03 16:45:00   \n1499      AC       15 2019-10-04 2019-10-04 08:55:00 2019-10-04 09:35:00   \n1567     BSC        1 2019-10-07 2019-10-07 17:00:00 2019-10-07 19:00:00   \n1585      CH        4 2019-10-07 2019-10-07 18:30:00 2019-10-07 21:10:00   \n1630     MKT        5 2019-10-08 2019-10-08 14:00:00 2019-10-08 15:53:00   \n1640     APR        1 2019-10-08 2019-10-08 15:30:00 2019-10-08 17:23:00   \n1720      PY        2 2019-10-09 2019-10-09 10:00:00 2019-10-09 11:40:00   \n1768     MGT      320 2019-10-09 2019-10-09 17:00:00 2019-10-09 19:30:00   \n1817     KIN        1 2019-10-10 2019-10-10 11:00:00 2019-10-10 12:53:00   \n1871      AC       15 2019-10-11 2019-10-11 09:00:00 2019-10-11 09:40:00   \n2060      EC        1 2019-10-15 2019-10-15 16:00:00 2019-10-15 17:53:00   \n2125     RHM        2 2019-10-16 2019-10-16 11:00:00 2019-10-16 12:15:00   \n2128     PHL      902 2019-10-16 2019-10-16 12:00:00 2019-10-16 13:30:00   \n2241     RHM        1 2019-10-17 2019-10-17 12:30:00 2019-10-17 14:23:00   \n2243      HY       10 2019-10-17 2019-10-17 13:00:00 2019-10-17 13:30:00   \n2251     RHM        1 2019-10-17 2019-10-17 14:00:00 2019-10-17 15:15:00   \n2252     RHM        1 2019-10-17 2019-10-17 14:00:00 2019-10-17 15:40:00   \n2264      EC        1 2019-10-17 2019-10-17 15:30:00 2019-10-17 17:23:00   \n2281     CHE        1 2019-10-17 2019-10-17 17:00:00 2019-10-17 19:15:00   \n2294     BSC        2 2019-10-17 2019-10-17 18:15:00 2019-10-17 19:45:00   \n2310      EN        2 2019-10-18 2019-10-18 10:00:00 2019-10-18 11:40:00   \n2361    ENGR        3 2019-10-21 2019-10-21 15:00:00 2019-10-21 15:45:00   \n2430    ENGR        4 2019-10-22 2019-10-22 16:00:00 2019-10-22 19:40:00   \n2610      HY       10 2019-10-24 2019-10-24 13:00:00 2019-10-24 13:30:00   \n2630      MC        3 2019-10-24 2019-10-24 14:00:00 2019-10-24 16:30:00   \n2748     CHE        1 2019-10-28 2019-10-28 13:00:00 2019-10-28 14:15:00   \n2896      AC        3 2019-10-29 2019-10-29 12:30:00 2019-10-29 16:30:00   \n3022      PY        4 2019-10-30 2019-10-30 13:00:00 2019-10-30 14:40:00   \n3043      CC      320 2019-10-30 2019-10-30 17:00:00 2019-10-30 19:30:00   \n3286     RHM        1 2019-11-07 2019-11-07 14:20:00 2019-11-07 16:00:00   \n3447      HY       32 2019-11-12 2019-11-12 14:45:00 2019-11-12 17:15:00   \n3461     APR      320 2019-11-12 2019-11-12 17:00:00 2019-11-12 19:30:00   \n3468     CHE        1 2019-11-12 2019-11-12 17:00:00 2019-11-12 18:53:00   \n3476     CEE      320 2019-11-12 2019-11-12 17:30:00 2019-11-12 21:30:00   \n3525     BSC        1 2019-11-13 2019-11-13 13:00:00 2019-11-13 13:50:00   \n3637     CHE        1 2019-11-14 2019-11-14 17:00:00 2019-11-14 19:30:00   \n3865     HES        3 2019-11-20 2019-11-20 09:10:00 2019-11-20 11:03:00   \n4011      HY       10 2019-11-21 2019-11-21 13:00:00 2019-11-21 13:30:00   \n4046      HD      910 2019-11-21 2019-11-21 15:00:00 2019-11-21 18:00:00   \n5076     NHM      911 2019-12-11 2019-12-11 13:10:00 2019-12-11 16:10:00   \n5090     GEO        5 2019-12-11 2019-12-11 15:00:00 2019-12-11 18:45:00   \n5633     CHE      101 2019-07-24 2019-07-24 08:00:00 2019-07-24 09:15:00   \n5675     BSC      992 2019-07-30 2019-07-30 09:00:00 2019-07-30 12:00:00   \n5765      EC        3 2021-02-03 2021-02-03 11:00:00 2021-02-03 12:15:00   \n5955     BSC        3 2021-02-23 2021-02-23 11:30:00 2021-02-23 14:10:00   \n6035      EN        2 2021-03-03 2021-03-03 10:30:00 2021-03-03 13:00:00   \n6043      FI        1 2021-03-04 2021-03-04 15:20:00 2021-03-04 17:13:00   \n6101     KIN        1 2021-03-10 2021-03-10 10:00:00 2021-03-10 11:40:00   \n6473      CE        1 2021-04-21 2021-04-21 09:00:00 2021-04-21 10:30:00   \n6959      CS        1 2020-11-19 2020-11-19 12:30:00 2020-11-19 14:00:00   \n6961      MC        4 2020-11-19 2020-11-19 13:00:00 2020-11-19 15:00:00   \n6978     PHL      900 2020-01-17 2020-01-17 09:40:00 2020-01-17 11:40:00   \n6985     ECE        1 2020-01-22 2020-01-22 13:00:00 2020-01-22 13:30:00   \n7228     ARH        1 2020-02-03 2020-02-03 10:30:00 2020-02-03 10:38:00   \n7460     ARH        1 2020-02-06 2020-02-06 09:30:00 2020-02-06 10:00:00   \n7721    TEST        1 2020-02-10 2020-02-10 23:00:00 2020-02-10 00:30:00   \n8158     PHL      900 2020-02-18 2020-02-18 11:00:00 2020-02-18 13:00:00   \n8528     NHM        1 2020-02-26 2020-02-26 14:00:00 2020-02-26 14:50:00   \n8733     ARH        1 2020-03-02 2020-03-02 10:30:00 2020-03-02 10:38:00   \n9248     CTD        1 2020-03-11 2020-03-11 09:00:00 2020-03-11 10:08:00   \n9314     PHL      900 2020-03-11 2020-03-11 13:00:00 2020-03-11 14:30:00   \n9329    ENGR        3 2020-03-11 2020-03-11 15:00:00 2020-03-11 15:45:00   \n9387      HD        1 2020-03-12 2020-03-12 09:30:00 2020-03-12 10:45:00   \n\n            actual_start          actual_end  allotted_time  actual_time  \n3    2019-08-30 08:45:00 2019-08-30 08:49:00           40.0          4.0  \n290  2019-09-16 10:00:00 2019-09-16 10:14:00           75.0         14.0  \n376  2019-09-17 13:00:00 2019-09-17 13:29:00          113.0         29.0  \n422  2019-09-17 18:00:00 2019-09-17 19:16:00          150.0         76.0  \n554  2019-09-19 09:30:00 2019-09-19 09:43:00          150.0         13.0  \n584  2019-09-19 13:00:00 2019-09-19 13:51:00          100.0         51.0  \n710  2019-09-23 12:00:00 2019-09-23 13:03:00           75.0         63.0  \n819  2019-09-24 11:00:00 2019-09-24 11:23:00          150.0         23.0  \n911  2019-09-24 17:00:00 2019-09-24 17:27:00          113.0         27.0  \n1001 2019-09-25 18:30:00 2019-09-25 17:54:00          113.0        -36.0  \n1067 2019-09-26 14:00:00 2019-09-26 14:42:00          113.0         42.0  \n1147 2019-09-30 11:30:00 2019-09-30 11:47:00           90.0         17.0  \n1165 2019-09-30 14:00:00 2019-09-30 14:15:00           90.0         15.0  \n1270 2019-10-01 14:00:00 2019-10-01 14:43:00          135.0         43.0  \n1274 2019-10-01 14:00:00 2019-10-01 14:42:00          113.0         42.0  \n1277 2019-10-01 14:00:00 2019-10-01 14:20:00          100.0         20.0  \n1380 2019-10-02 17:00:00 2019-10-02 17:03:00          113.0          3.0  \n1445 2019-10-03 14:15:00 2019-10-03 14:22:00          150.0          7.0  \n1446 2019-10-03 14:15:00 2019-10-03 14:21:00          150.0          6.0  \n1499 2019-10-04 08:55:00 2019-10-04 09:01:00           40.0          6.0  \n1567 2019-10-07 17:00:00 2019-10-07 17:15:00          120.0         15.0  \n1585 2019-10-07 18:30:00 2019-10-07 18:41:00          160.0         11.0  \n1630 2019-10-08 14:00:00 2019-10-08 14:37:00          113.0         37.0  \n1640 2019-10-08 15:30:00 2019-10-08 15:58:00          113.0         28.0  \n1720 2019-10-09 10:00:00 2019-10-09 11:02:00          100.0         62.0  \n1768 2019-10-09 17:00:00 2019-10-09 17:11:00          150.0         11.0  \n1817 2019-10-10 11:00:00 2019-10-10 13:30:00          113.0        150.0  \n1871 2019-10-11 09:00:00 2019-10-11 09:03:00           40.0          3.0  \n2060 2019-10-15 16:00:00 2019-10-15 16:28:00          113.0         28.0  \n2125 2019-10-16 11:00:00 2019-10-16 11:24:00           75.0         24.0  \n2128 2019-10-16 12:00:00 2019-10-16 12:08:00           90.0          8.0  \n2241 2019-10-17 12:30:00 2019-10-17 12:42:00          113.0         12.0  \n2243 2019-10-17 13:00:00 2019-10-17 13:07:00           30.0          7.0  \n2251 2019-10-17 14:00:00 2019-10-17 14:15:00           75.0         15.0  \n2252 2019-10-17 14:00:00 2019-10-17 14:16:00          100.0         16.0  \n2264 2019-10-17 15:30:00 2019-10-17 15:30:00          113.0          0.0  \n2281 2019-10-17 17:00:00 2019-10-17 17:34:00          135.0         34.0  \n2294 2019-10-17 18:15:00 2019-10-17 18:26:00           90.0         11.0  \n2310 2019-10-18 10:00:00 2019-10-18 10:17:00          100.0         17.0  \n2361 2019-10-21 15:00:00 2019-10-21 15:07:00           45.0          7.0  \n2430 2019-10-22 16:00:00 2019-10-22 18:54:00          220.0        174.0  \n2610 2019-10-24 13:00:00 2019-10-24 13:13:00           30.0         13.0  \n2630 2019-10-24 14:00:00 2019-10-24 15:07:00          150.0         67.0  \n2748 2019-10-28 13:00:00 2019-10-28 13:07:00           75.0          7.0  \n2896 2019-10-29 12:30:00 2019-10-29 12:30:00          240.0          0.0  \n3022 2019-10-30 13:00:00 2019-10-30 14:39:00          100.0         99.0  \n3043 2019-10-30 17:00:00 2019-10-30 20:43:00          150.0        223.0  \n3286 2019-11-07 14:20:00 2019-11-07 14:21:00          100.0          1.0  \n3447 2019-11-12 14:45:00 2019-11-12 14:53:00          150.0          8.0  \n3461 2019-11-12 17:00:00 2019-11-12 17:40:00          150.0         40.0  \n3468 2019-11-12 17:00:00 2019-11-12 17:35:00          113.0         35.0  \n3476 2019-11-12 17:30:00 2019-11-12 17:36:00          240.0          6.0  \n3525 2019-11-13 13:00:00 2019-11-13 13:01:00           50.0          1.0  \n3637 2019-11-14 17:00:00 2019-11-14 18:07:00          150.0         67.0  \n3865 2019-11-20 09:10:00 2019-11-20 09:16:00          113.0          6.0  \n4011 2019-11-21 13:00:00 2019-11-21 13:03:00           30.0          3.0  \n4046 2019-11-21 15:00:00 2019-11-21 15:28:00          180.0         28.0  \n5076 2019-12-11 13:10:00 2019-12-11 13:16:00          180.0          6.0  \n5090 2019-12-11 15:00:00 2019-12-11 16:24:00          225.0         84.0  \n5633 2019-07-24 08:00:00 2019-07-24 09:12:00           75.0         72.0  \n5675 2019-07-30 09:00:00 2019-07-30 10:01:00          180.0         61.0  \n5765 2021-02-03 11:00:00 2021-02-03 12:17:00           75.0         77.0  \n5955 2021-02-23 11:30:00 2021-02-23 14:03:00          160.0        153.0  \n6035 2021-03-03 10:30:00 2021-03-03 13:01:00          150.0        151.0  \n6043 2021-03-04 15:20:00 2021-03-04 16:46:00          113.0         86.0  \n6101 2021-03-10 10:00:00 2021-03-10 10:12:00          100.0         12.0  \n6473 2021-04-21 09:00:00 2021-04-21 10:34:00           90.0         94.0  \n6959 2020-11-19 12:30:00 2020-11-19 14:05:00           90.0         95.0  \n6961 2020-11-19 13:00:00 2020-11-19 13:53:00          120.0         53.0  \n6978 2020-01-17 09:40:00 2020-01-17 09:53:00          120.0         13.0  \n6985 2020-01-22 13:00:00 2020-01-22 13:01:00           30.0          1.0  \n7228 2020-02-03 10:30:00 2020-02-03 10:36:00            8.0          6.0  \n7460 2020-02-06 09:30:00 2020-02-06 09:53:00           30.0         23.0  \n7721 2020-02-10 23:00:00 2020-02-10 23:00:00           90.0          0.0  \n8158 2020-02-18 11:00:00 2020-02-18 11:07:00          120.0          7.0  \n8528 2020-02-26 14:00:00 2020-02-26 14:11:00           50.0         11.0  \n8733 2020-03-02 10:30:00 2020-03-02 10:34:00            8.0          4.0  \n9248 2020-03-11 09:00:00 2020-03-11 09:13:00           68.0         13.0  \n9314 2020-03-11 13:00:00 2020-03-11 12:58:00           90.0         -2.0  \n9329 2020-03-11 15:00:00 2020-03-11 15:09:00           45.0          9.0  \n9387 2020-03-12 09:30:00 2020-03-12 09:43:00           75.0         13.0  ",
      "text/html": "<div>\n<style scoped>\n    .dataframe tbody tr th:only-of-type {\n        vertical-align: middle;\n    }\n\n    .dataframe tbody tr th {\n        vertical-align: top;\n    }\n\n    .dataframe thead th {\n        text-align: right;\n    }\n</style>\n<table border=\"1\" class=\"dataframe\">\n  <thead>\n    <tr style=\"text-align: right;\">\n      <th></th>\n      <th>subject</th>\n      <th>section</th>\n      <th>exam_date</th>\n      <th>start_time</th>\n      <th>end_time</th>\n      <th>actual_start</th>\n      <th>actual_end</th>\n      <th>allotted_time</th>\n      <th>actual_time</th>\n    </tr>\n  </thead>\n  <tbody>\n    <tr>\n      <th>3</th>\n      <td>AC</td>\n      <td>15</td>\n      <td>2019-08-30</td>\n      <td>2019-08-30 08:45:00</td>\n      <td>2019-08-30 09:25:00</td>\n      <td>2019-08-30 08:45:00</td>\n      <td>2019-08-30 08:49:00</td>\n      <td>40.0</td>\n      <td>4.0</td>\n    </tr>\n    <tr>\n      <th>290</th>\n      <td>PY</td>\n      <td>2</td>\n      <td>2019-09-16</td>\n      <td>2019-09-16 10:00:00</td>\n      <td>2019-09-16 11:15:00</td>\n      <td>2019-09-16 10:00:00</td>\n      <td>2019-09-16 10:14:00</td>\n      <td>75.0</td>\n      <td>14.0</td>\n    </tr>\n    <tr>\n      <th>376</th>\n      <td>CD</td>\n      <td>1</td>\n      <td>2019-09-17</td>\n      <td>2019-09-17 13:00:00</td>\n      <td>2019-09-17 14:53:00</td>\n      <td>2019-09-17 13:00:00</td>\n      <td>2019-09-17 13:29:00</td>\n      <td>113.0</td>\n      <td>29.0</td>\n    </tr>\n    <tr>\n      <th>422</th>\n      <td>FI</td>\n      <td>321</td>\n      <td>2019-09-17</td>\n      <td>2019-09-17 18:00:00</td>\n      <td>2019-09-17 20:30:00</td>\n      <td>2019-09-17 18:00:00</td>\n      <td>2019-09-17 19:16:00</td>\n      <td>150.0</td>\n      <td>76.0</td>\n    </tr>\n    <tr>\n      <th>554</th>\n      <td>MKT</td>\n      <td>7</td>\n      <td>2019-09-19</td>\n      <td>2019-09-19 09:30:00</td>\n      <td>2019-09-19 12:00:00</td>\n      <td>2019-09-19 09:30:00</td>\n      <td>2019-09-19 09:43:00</td>\n      <td>150.0</td>\n      <td>13.0</td>\n    </tr>\n    <tr>\n      <th>584</th>\n      <td>MATH</td>\n      <td>4</td>\n      <td>2019-09-19</td>\n      <td>2019-09-19 13:00:00</td>\n      <td>2019-09-19 14:40:00</td>\n      <td>2019-09-19 13:00:00</td>\n      <td>2019-09-19 13:51:00</td>\n      <td>100.0</td>\n      <td>51.0</td>\n    </tr>\n    <tr>\n      <th>710</th>\n      <td>EN</td>\n      <td>4</td>\n      <td>2019-09-23</td>\n      <td>2019-09-23 12:00:00</td>\n      <td>2019-09-23 13:15:00</td>\n      <td>2019-09-23 12:00:00</td>\n      <td>2019-09-23 13:03:00</td>\n      <td>75.0</td>\n      <td>63.0</td>\n    </tr>\n    <tr>\n      <th>819</th>\n      <td>CD</td>\n      <td>1</td>\n      <td>2019-09-24</td>\n      <td>2019-09-24 11:00:00</td>\n      <td>2019-09-24 13:30:00</td>\n      <td>2019-09-24 11:00:00</td>\n      <td>2019-09-24 11:23:00</td>\n      <td>150.0</td>\n      <td>23.0</td>\n    </tr>\n    <tr>\n      <th>911</th>\n      <td>CIS</td>\n      <td>910</td>\n      <td>2019-09-24</td>\n      <td>2019-09-24 17:00:00</td>\n      <td>2019-09-24 18:53:00</td>\n      <td>2019-09-24 17:00:00</td>\n      <td>2019-09-24 17:27:00</td>\n      <td>113.0</td>\n      <td>27.0</td>\n    </tr>\n    <tr>\n      <th>1001</th>\n      <td>LGS</td>\n      <td>336</td>\n      <td>2019-09-25</td>\n      <td>2019-09-25 18:30:00</td>\n      <td>2019-09-25 20:23:00</td>\n      <td>2019-09-25 18:30:00</td>\n      <td>2019-09-25 17:54:00</td>\n      <td>113.0</td>\n      <td>-36.0</td>\n    </tr>\n    <tr>\n      <th>1067</th>\n      <td>ARH</td>\n      <td>1</td>\n      <td>2019-09-26</td>\n      <td>2019-09-26 14:00:00</td>\n      <td>2019-09-26 15:53:00</td>\n      <td>2019-09-26 14:00:00</td>\n      <td>2019-09-26 14:42:00</td>\n      <td>113.0</td>\n      <td>42.0</td>\n    </tr>\n    <tr>\n      <th>1147</th>\n      <td>CS</td>\n      <td>910</td>\n      <td>2019-09-30</td>\n      <td>2019-09-30 11:30:00</td>\n      <td>2019-09-30 13:00:00</td>\n      <td>2019-09-30 11:30:00</td>\n      <td>2019-09-30 11:47:00</td>\n      <td>90.0</td>\n      <td>17.0</td>\n    </tr>\n    <tr>\n      <th>1165</th>\n      <td>GN</td>\n      <td>1</td>\n      <td>2019-09-30</td>\n      <td>2019-09-30 14:00:00</td>\n      <td>2019-09-30 15:30:00</td>\n      <td>2019-09-30 14:00:00</td>\n      <td>2019-09-30 14:15:00</td>\n      <td>90.0</td>\n      <td>15.0</td>\n    </tr>\n    <tr>\n      <th>1270</th>\n      <td>PHL</td>\n      <td>1</td>\n      <td>2019-10-01</td>\n      <td>2019-10-01 14:00:00</td>\n      <td>2019-10-01 16:15:00</td>\n      <td>2019-10-01 14:00:00</td>\n      <td>2019-10-01 14:43:00</td>\n      <td>135.0</td>\n      <td>43.0</td>\n    </tr>\n    <tr>\n      <th>1274</th>\n      <td>PY</td>\n      <td>10</td>\n      <td>2019-10-01</td>\n      <td>2019-10-01 14:00:00</td>\n      <td>2019-10-01 15:53:00</td>\n      <td>2019-10-01 14:00:00</td>\n      <td>2019-10-01 14:42:00</td>\n      <td>113.0</td>\n      <td>42.0</td>\n    </tr>\n    <tr>\n      <th>1277</th>\n      <td>RHM</td>\n      <td>1</td>\n      <td>2019-10-01</td>\n      <td>2019-10-01 14:00:00</td>\n      <td>2019-10-01 15:40:00</td>\n      <td>2019-10-01 14:00:00</td>\n      <td>2019-10-01 14:20:00</td>\n      <td>100.0</td>\n      <td>20.0</td>\n    </tr>\n    <tr>\n      <th>1380</th>\n      <td>AC</td>\n      <td>320</td>\n      <td>2019-10-02</td>\n      <td>2019-10-02 17:00:00</td>\n      <td>2019-10-02 18:53:00</td>\n      <td>2019-10-02 17:00:00</td>\n      <td>2019-10-02 17:03:00</td>\n      <td>113.0</td>\n      <td>3.0</td>\n    </tr>\n    <tr>\n      <th>1445</th>\n      <td>APR</td>\n      <td>1</td>\n      <td>2019-10-03</td>\n      <td>2019-10-03 14:15:00</td>\n      <td>2019-10-03 16:45:00</td>\n      <td>2019-10-03 14:15:00</td>\n      <td>2019-10-03 14:22:00</td>\n      <td>150.0</td>\n      <td>7.0</td>\n    </tr>\n    <tr>\n      <th>1446</th>\n      <td>CIP</td>\n      <td>5</td>\n      <td>2019-10-03</td>\n      <td>2019-10-03 14:15:00</td>\n      <td>2019-10-03 16:45:00</td>\n      <td>2019-10-03 14:15:00</td>\n      <td>2019-10-03 14:21:00</td>\n      <td>150.0</td>\n      <td>6.0</td>\n    </tr>\n    <tr>\n      <th>1499</th>\n      <td>AC</td>\n      <td>15</td>\n      <td>2019-10-04</td>\n      <td>2019-10-04 08:55:00</td>\n      <td>2019-10-04 09:35:00</td>\n      <td>2019-10-04 08:55:00</td>\n      <td>2019-10-04 09:01:00</td>\n      <td>40.0</td>\n      <td>6.0</td>\n    </tr>\n    <tr>\n      <th>1567</th>\n      <td>BSC</td>\n      <td>1</td>\n      <td>2019-10-07</td>\n      <td>2019-10-07 17:00:00</td>\n      <td>2019-10-07 19:00:00</td>\n      <td>2019-10-07 17:00:00</td>\n      <td>2019-10-07 17:15:00</td>\n      <td>120.0</td>\n      <td>15.0</td>\n    </tr>\n    <tr>\n      <th>1585</th>\n      <td>CH</td>\n      <td>4</td>\n      <td>2019-10-07</td>\n      <td>2019-10-07 18:30:00</td>\n      <td>2019-10-07 21:10:00</td>\n      <td>2019-10-07 18:30:00</td>\n      <td>2019-10-07 18:41:00</td>\n      <td>160.0</td>\n      <td>11.0</td>\n    </tr>\n    <tr>\n      <th>1630</th>\n      <td>MKT</td>\n      <td>5</td>\n      <td>2019-10-08</td>\n      <td>2019-10-08 14:00:00</td>\n      <td>2019-10-08 15:53:00</td>\n      <td>2019-10-08 14:00:00</td>\n      <td>2019-10-08 14:37:00</td>\n      <td>113.0</td>\n      <td>37.0</td>\n    </tr>\n    <tr>\n      <th>1640</th>\n      <td>APR</td>\n      <td>1</td>\n      <td>2019-10-08</td>\n      <td>2019-10-08 15:30:00</td>\n      <td>2019-10-08 17:23:00</td>\n      <td>2019-10-08 15:30:00</td>\n      <td>2019-10-08 15:58:00</td>\n      <td>113.0</td>\n      <td>28.0</td>\n    </tr>\n    <tr>\n      <th>1720</th>\n      <td>PY</td>\n      <td>2</td>\n      <td>2019-10-09</td>\n      <td>2019-10-09 10:00:00</td>\n      <td>2019-10-09 11:40:00</td>\n      <td>2019-10-09 10:00:00</td>\n      <td>2019-10-09 11:02:00</td>\n      <td>100.0</td>\n      <td>62.0</td>\n    </tr>\n    <tr>\n      <th>1768</th>\n      <td>MGT</td>\n      <td>320</td>\n      <td>2019-10-09</td>\n      <td>2019-10-09 17:00:00</td>\n      <td>2019-10-09 19:30:00</td>\n      <td>2019-10-09 17:00:00</td>\n      <td>2019-10-09 17:11:00</td>\n      <td>150.0</td>\n      <td>11.0</td>\n    </tr>\n    <tr>\n      <th>1817</th>\n      <td>KIN</td>\n      <td>1</td>\n      <td>2019-10-10</td>\n      <td>2019-10-10 11:00:00</td>\n      <td>2019-10-10 12:53:00</td>\n      <td>2019-10-10 11:00:00</td>\n      <td>2019-10-10 13:30:00</td>\n      <td>113.0</td>\n      <td>150.0</td>\n    </tr>\n    <tr>\n      <th>1871</th>\n      <td>AC</td>\n      <td>15</td>\n      <td>2019-10-11</td>\n      <td>2019-10-11 09:00:00</td>\n      <td>2019-10-11 09:40:00</td>\n      <td>2019-10-11 09:00:00</td>\n      <td>2019-10-11 09:03:00</td>\n      <td>40.0</td>\n      <td>3.0</td>\n    </tr>\n    <tr>\n      <th>2060</th>\n      <td>EC</td>\n      <td>1</td>\n      <td>2019-10-15</td>\n      <td>2019-10-15 16:00:00</td>\n      <td>2019-10-15 17:53:00</td>\n      <td>2019-10-15 16:00:00</td>\n      <td>2019-10-15 16:28:00</td>\n      <td>113.0</td>\n      <td>28.0</td>\n    </tr>\n    <tr>\n      <th>2125</th>\n      <td>RHM</td>\n      <td>2</td>\n      <td>2019-10-16</td>\n      <td>2019-10-16 11:00:00</td>\n      <td>2019-10-16 12:15:00</td>\n      <td>2019-10-16 11:00:00</td>\n      <td>2019-10-16 11:24:00</td>\n      <td>75.0</td>\n      <td>24.0</td>\n    </tr>\n    <tr>\n      <th>2128</th>\n      <td>PHL</td>\n      <td>902</td>\n      <td>2019-10-16</td>\n      <td>2019-10-16 12:00:00</td>\n      <td>2019-10-16 13:30:00</td>\n      <td>2019-10-16 12:00:00</td>\n      <td>2019-10-16 12:08:00</td>\n      <td>90.0</td>\n      <td>8.0</td>\n    </tr>\n    <tr>\n      <th>2241</th>\n      <td>RHM</td>\n      <td>1</td>\n      <td>2019-10-17</td>\n      <td>2019-10-17 12:30:00</td>\n      <td>2019-10-17 14:23:00</td>\n      <td>2019-10-17 12:30:00</td>\n      <td>2019-10-17 12:42:00</td>\n      <td>113.0</td>\n      <td>12.0</td>\n    </tr>\n    <tr>\n      <th>2243</th>\n      <td>HY</td>\n      <td>10</td>\n      <td>2019-10-17</td>\n      <td>2019-10-17 13:00:00</td>\n      <td>2019-10-17 13:30:00</td>\n      <td>2019-10-17 13:00:00</td>\n      <td>2019-10-17 13:07:00</td>\n      <td>30.0</td>\n      <td>7.0</td>\n    </tr>\n    <tr>\n      <th>2251</th>\n      <td>RHM</td>\n      <td>1</td>\n      <td>2019-10-17</td>\n      <td>2019-10-17 14:00:00</td>\n      <td>2019-10-17 15:15:00</td>\n      <td>2019-10-17 14:00:00</td>\n      <td>2019-10-17 14:15:00</td>\n      <td>75.0</td>\n      <td>15.0</td>\n    </tr>\n    <tr>\n      <th>2252</th>\n      <td>RHM</td>\n      <td>1</td>\n      <td>2019-10-17</td>\n      <td>2019-10-17 14:00:00</td>\n      <td>2019-10-17 15:40:00</td>\n      <td>2019-10-17 14:00:00</td>\n      <td>2019-10-17 14:16:00</td>\n      <td>100.0</td>\n      <td>16.0</td>\n    </tr>\n    <tr>\n      <th>2264</th>\n      <td>EC</td>\n      <td>1</td>\n      <td>2019-10-17</td>\n      <td>2019-10-17 15:30:00</td>\n      <td>2019-10-17 17:23:00</td>\n      <td>2019-10-17 15:30:00</td>\n      <td>2019-10-17 15:30:00</td>\n      <td>113.0</td>\n      <td>0.0</td>\n    </tr>\n    <tr>\n      <th>2281</th>\n      <td>CHE</td>\n      <td>1</td>\n      <td>2019-10-17</td>\n      <td>2019-10-17 17:00:00</td>\n      <td>2019-10-17 19:15:00</td>\n      <td>2019-10-17 17:00:00</td>\n      <td>2019-10-17 17:34:00</td>\n      <td>135.0</td>\n      <td>34.0</td>\n    </tr>\n    <tr>\n      <th>2294</th>\n      <td>BSC</td>\n      <td>2</td>\n      <td>2019-10-17</td>\n      <td>2019-10-17 18:15:00</td>\n      <td>2019-10-17 19:45:00</td>\n      <td>2019-10-17 18:15:00</td>\n      <td>2019-10-17 18:26:00</td>\n      <td>90.0</td>\n      <td>11.0</td>\n    </tr>\n    <tr>\n      <th>2310</th>\n      <td>EN</td>\n      <td>2</td>\n      <td>2019-10-18</td>\n      <td>2019-10-18 10:00:00</td>\n      <td>2019-10-18 11:40:00</td>\n      <td>2019-10-18 10:00:00</td>\n      <td>2019-10-18 10:17:00</td>\n      <td>100.0</td>\n      <td>17.0</td>\n    </tr>\n    <tr>\n      <th>2361</th>\n      <td>ENGR</td>\n      <td>3</td>\n      <td>2019-10-21</td>\n      <td>2019-10-21 15:00:00</td>\n      <td>2019-10-21 15:45:00</td>\n      <td>2019-10-21 15:00:00</td>\n      <td>2019-10-21 15:07:00</td>\n      <td>45.0</td>\n      <td>7.0</td>\n    </tr>\n    <tr>\n      <th>2430</th>\n      <td>ENGR</td>\n      <td>4</td>\n      <td>2019-10-22</td>\n      <td>2019-10-22 16:00:00</td>\n      <td>2019-10-22 19:40:00</td>\n      <td>2019-10-22 16:00:00</td>\n      <td>2019-10-22 18:54:00</td>\n      <td>220.0</td>\n      <td>174.0</td>\n    </tr>\n    <tr>\n      <th>2610</th>\n      <td>HY</td>\n      <td>10</td>\n      <td>2019-10-24</td>\n      <td>2019-10-24 13:00:00</td>\n      <td>2019-10-24 13:30:00</td>\n      <td>2019-10-24 13:00:00</td>\n      <td>2019-10-24 13:13:00</td>\n      <td>30.0</td>\n      <td>13.0</td>\n    </tr>\n    <tr>\n      <th>2630</th>\n      <td>MC</td>\n      <td>3</td>\n      <td>2019-10-24</td>\n      <td>2019-10-24 14:00:00</td>\n      <td>2019-10-24 16:30:00</td>\n      <td>2019-10-24 14:00:00</td>\n      <td>2019-10-24 15:07:00</td>\n      <td>150.0</td>\n      <td>67.0</td>\n    </tr>\n    <tr>\n      <th>2748</th>\n      <td>CHE</td>\n      <td>1</td>\n      <td>2019-10-28</td>\n      <td>2019-10-28 13:00:00</td>\n      <td>2019-10-28 14:15:00</td>\n      <td>2019-10-28 13:00:00</td>\n      <td>2019-10-28 13:07:00</td>\n      <td>75.0</td>\n      <td>7.0</td>\n    </tr>\n    <tr>\n      <th>2896</th>\n      <td>AC</td>\n      <td>3</td>\n      <td>2019-10-29</td>\n      <td>2019-10-29 12:30:00</td>\n      <td>2019-10-29 16:30:00</td>\n      <td>2019-10-29 12:30:00</td>\n      <td>2019-10-29 12:30:00</td>\n      <td>240.0</td>\n      <td>0.0</td>\n    </tr>\n    <tr>\n      <th>3022</th>\n      <td>PY</td>\n      <td>4</td>\n      <td>2019-10-30</td>\n      <td>2019-10-30 13:00:00</td>\n      <td>2019-10-30 14:40:00</td>\n      <td>2019-10-30 13:00:00</td>\n      <td>2019-10-30 14:39:00</td>\n      <td>100.0</td>\n      <td>99.0</td>\n    </tr>\n    <tr>\n      <th>3043</th>\n      <td>CC</td>\n      <td>320</td>\n      <td>2019-10-30</td>\n      <td>2019-10-30 17:00:00</td>\n      <td>2019-10-30 19:30:00</td>\n      <td>2019-10-30 17:00:00</td>\n      <td>2019-10-30 20:43:00</td>\n      <td>150.0</td>\n      <td>223.0</td>\n    </tr>\n    <tr>\n      <th>3286</th>\n      <td>RHM</td>\n      <td>1</td>\n      <td>2019-11-07</td>\n      <td>2019-11-07 14:20:00</td>\n      <td>2019-11-07 16:00:00</td>\n      <td>2019-11-07 14:20:00</td>\n      <td>2019-11-07 14:21:00</td>\n      <td>100.0</td>\n      <td>1.0</td>\n    </tr>\n    <tr>\n      <th>3447</th>\n      <td>HY</td>\n      <td>32</td>\n      <td>2019-11-12</td>\n      <td>2019-11-12 14:45:00</td>\n      <td>2019-11-12 17:15:00</td>\n      <td>2019-11-12 14:45:00</td>\n      <td>2019-11-12 14:53:00</td>\n      <td>150.0</td>\n      <td>8.0</td>\n    </tr>\n    <tr>\n      <th>3461</th>\n      <td>APR</td>\n      <td>320</td>\n      <td>2019-11-12</td>\n      <td>2019-11-12 17:00:00</td>\n      <td>2019-11-12 19:30:00</td>\n      <td>2019-11-12 17:00:00</td>\n      <td>2019-11-12 17:40:00</td>\n      <td>150.0</td>\n      <td>40.0</td>\n    </tr>\n    <tr>\n      <th>3468</th>\n      <td>CHE</td>\n      <td>1</td>\n      <td>2019-11-12</td>\n      <td>2019-11-12 17:00:00</td>\n      <td>2019-11-12 18:53:00</td>\n      <td>2019-11-12 17:00:00</td>\n      <td>2019-11-12 17:35:00</td>\n      <td>113.0</td>\n      <td>35.0</td>\n    </tr>\n    <tr>\n      <th>3476</th>\n      <td>CEE</td>\n      <td>320</td>\n      <td>2019-11-12</td>\n      <td>2019-11-12 17:30:00</td>\n      <td>2019-11-12 21:30:00</td>\n      <td>2019-11-12 17:30:00</td>\n      <td>2019-11-12 17:36:00</td>\n      <td>240.0</td>\n      <td>6.0</td>\n    </tr>\n    <tr>\n      <th>3525</th>\n      <td>BSC</td>\n      <td>1</td>\n      <td>2019-11-13</td>\n      <td>2019-11-13 13:00:00</td>\n      <td>2019-11-13 13:50:00</td>\n      <td>2019-11-13 13:00:00</td>\n      <td>2019-11-13 13:01:00</td>\n      <td>50.0</td>\n      <td>1.0</td>\n    </tr>\n    <tr>\n      <th>3637</th>\n      <td>CHE</td>\n      <td>1</td>\n      <td>2019-11-14</td>\n      <td>2019-11-14 17:00:00</td>\n      <td>2019-11-14 19:30:00</td>\n      <td>2019-11-14 17:00:00</td>\n      <td>2019-11-14 18:07:00</td>\n      <td>150.0</td>\n      <td>67.0</td>\n    </tr>\n    <tr>\n      <th>3865</th>\n      <td>HES</td>\n      <td>3</td>\n      <td>2019-11-20</td>\n      <td>2019-11-20 09:10:00</td>\n      <td>2019-11-20 11:03:00</td>\n      <td>2019-11-20 09:10:00</td>\n      <td>2019-11-20 09:16:00</td>\n      <td>113.0</td>\n      <td>6.0</td>\n    </tr>\n    <tr>\n      <th>4011</th>\n      <td>HY</td>\n      <td>10</td>\n      <td>2019-11-21</td>\n      <td>2019-11-21 13:00:00</td>\n      <td>2019-11-21 13:30:00</td>\n      <td>2019-11-21 13:00:00</td>\n      <td>2019-11-21 13:03:00</td>\n      <td>30.0</td>\n      <td>3.0</td>\n    </tr>\n    <tr>\n      <th>4046</th>\n      <td>HD</td>\n      <td>910</td>\n      <td>2019-11-21</td>\n      <td>2019-11-21 15:00:00</td>\n      <td>2019-11-21 18:00:00</td>\n      <td>2019-11-21 15:00:00</td>\n      <td>2019-11-21 15:28:00</td>\n      <td>180.0</td>\n      <td>28.0</td>\n    </tr>\n    <tr>\n      <th>5076</th>\n      <td>NHM</td>\n      <td>911</td>\n      <td>2019-12-11</td>\n      <td>2019-12-11 13:10:00</td>\n      <td>2019-12-11 16:10:00</td>\n      <td>2019-12-11 13:10:00</td>\n      <td>2019-12-11 13:16:00</td>\n      <td>180.0</td>\n      <td>6.0</td>\n    </tr>\n    <tr>\n      <th>5090</th>\n      <td>GEO</td>\n      <td>5</td>\n      <td>2019-12-11</td>\n      <td>2019-12-11 15:00:00</td>\n      <td>2019-12-11 18:45:00</td>\n      <td>2019-12-11 15:00:00</td>\n      <td>2019-12-11 16:24:00</td>\n      <td>225.0</td>\n      <td>84.0</td>\n    </tr>\n    <tr>\n      <th>5633</th>\n      <td>CHE</td>\n      <td>101</td>\n      <td>2019-07-24</td>\n      <td>2019-07-24 08:00:00</td>\n      <td>2019-07-24 09:15:00</td>\n      <td>2019-07-24 08:00:00</td>\n      <td>2019-07-24 09:12:00</td>\n      <td>75.0</td>\n      <td>72.0</td>\n    </tr>\n    <tr>\n      <th>5675</th>\n      <td>BSC</td>\n      <td>992</td>\n      <td>2019-07-30</td>\n      <td>2019-07-30 09:00:00</td>\n      <td>2019-07-30 12:00:00</td>\n      <td>2019-07-30 09:00:00</td>\n      <td>2019-07-30 10:01:00</td>\n      <td>180.0</td>\n      <td>61.0</td>\n    </tr>\n    <tr>\n      <th>5765</th>\n      <td>EC</td>\n      <td>3</td>\n      <td>2021-02-03</td>\n      <td>2021-02-03 11:00:00</td>\n      <td>2021-02-03 12:15:00</td>\n      <td>2021-02-03 11:00:00</td>\n      <td>2021-02-03 12:17:00</td>\n      <td>75.0</td>\n      <td>77.0</td>\n    </tr>\n    <tr>\n      <th>5955</th>\n      <td>BSC</td>\n      <td>3</td>\n      <td>2021-02-23</td>\n      <td>2021-02-23 11:30:00</td>\n      <td>2021-02-23 14:10:00</td>\n      <td>2021-02-23 11:30:00</td>\n      <td>2021-02-23 14:03:00</td>\n      <td>160.0</td>\n      <td>153.0</td>\n    </tr>\n    <tr>\n      <th>6035</th>\n      <td>EN</td>\n      <td>2</td>\n      <td>2021-03-03</td>\n      <td>2021-03-03 10:30:00</td>\n      <td>2021-03-03 13:00:00</td>\n      <td>2021-03-03 10:30:00</td>\n      <td>2021-03-03 13:01:00</td>\n      <td>150.0</td>\n      <td>151.0</td>\n    </tr>\n    <tr>\n      <th>6043</th>\n      <td>FI</td>\n      <td>1</td>\n      <td>2021-03-04</td>\n      <td>2021-03-04 15:20:00</td>\n      <td>2021-03-04 17:13:00</td>\n      <td>2021-03-04 15:20:00</td>\n      <td>2021-03-04 16:46:00</td>\n      <td>113.0</td>\n      <td>86.0</td>\n    </tr>\n    <tr>\n      <th>6101</th>\n      <td>KIN</td>\n      <td>1</td>\n      <td>2021-03-10</td>\n      <td>2021-03-10 10:00:00</td>\n      <td>2021-03-10 11:40:00</td>\n      <td>2021-03-10 10:00:00</td>\n      <td>2021-03-10 10:12:00</td>\n      <td>100.0</td>\n      <td>12.0</td>\n    </tr>\n    <tr>\n      <th>6473</th>\n      <td>CE</td>\n      <td>1</td>\n      <td>2021-04-21</td>\n      <td>2021-04-21 09:00:00</td>\n      <td>2021-04-21 10:30:00</td>\n      <td>2021-04-21 09:00:00</td>\n      <td>2021-04-21 10:34:00</td>\n      <td>90.0</td>\n      <td>94.0</td>\n    </tr>\n    <tr>\n      <th>6959</th>\n      <td>CS</td>\n      <td>1</td>\n      <td>2020-11-19</td>\n      <td>2020-11-19 12:30:00</td>\n      <td>2020-11-19 14:00:00</td>\n      <td>2020-11-19 12:30:00</td>\n      <td>2020-11-19 14:05:00</td>\n      <td>90.0</td>\n      <td>95.0</td>\n    </tr>\n    <tr>\n      <th>6961</th>\n      <td>MC</td>\n      <td>4</td>\n      <td>2020-11-19</td>\n      <td>2020-11-19 13:00:00</td>\n      <td>2020-11-19 15:00:00</td>\n      <td>2020-11-19 13:00:00</td>\n      <td>2020-11-19 13:53:00</td>\n      <td>120.0</td>\n      <td>53.0</td>\n    </tr>\n    <tr>\n      <th>6978</th>\n      <td>PHL</td>\n      <td>900</td>\n      <td>2020-01-17</td>\n      <td>2020-01-17 09:40:00</td>\n      <td>2020-01-17 11:40:00</td>\n      <td>2020-01-17 09:40:00</td>\n      <td>2020-01-17 09:53:00</td>\n      <td>120.0</td>\n      <td>13.0</td>\n    </tr>\n    <tr>\n      <th>6985</th>\n      <td>ECE</td>\n      <td>1</td>\n      <td>2020-01-22</td>\n      <td>2020-01-22 13:00:00</td>\n      <td>2020-01-22 13:30:00</td>\n      <td>2020-01-22 13:00:00</td>\n      <td>2020-01-22 13:01:00</td>\n      <td>30.0</td>\n      <td>1.0</td>\n    </tr>\n    <tr>\n      <th>7228</th>\n      <td>ARH</td>\n      <td>1</td>\n      <td>2020-02-03</td>\n      <td>2020-02-03 10:30:00</td>\n      <td>2020-02-03 10:38:00</td>\n      <td>2020-02-03 10:30:00</td>\n      <td>2020-02-03 10:36:00</td>\n      <td>8.0</td>\n      <td>6.0</td>\n    </tr>\n    <tr>\n      <th>7460</th>\n      <td>ARH</td>\n      <td>1</td>\n      <td>2020-02-06</td>\n      <td>2020-02-06 09:30:00</td>\n      <td>2020-02-06 10:00:00</td>\n      <td>2020-02-06 09:30:00</td>\n      <td>2020-02-06 09:53:00</td>\n      <td>30.0</td>\n      <td>23.0</td>\n    </tr>\n    <tr>\n      <th>7721</th>\n      <td>TEST</td>\n      <td>1</td>\n      <td>2020-02-10</td>\n      <td>2020-02-10 23:00:00</td>\n      <td>2020-02-10 00:30:00</td>\n      <td>2020-02-10 23:00:00</td>\n      <td>2020-02-10 23:00:00</td>\n      <td>90.0</td>\n      <td>0.0</td>\n    </tr>\n    <tr>\n      <th>8158</th>\n      <td>PHL</td>\n      <td>900</td>\n      <td>2020-02-18</td>\n      <td>2020-02-18 11:00:00</td>\n      <td>2020-02-18 13:00:00</td>\n      <td>2020-02-18 11:00:00</td>\n      <td>2020-02-18 11:07:00</td>\n      <td>120.0</td>\n      <td>7.0</td>\n    </tr>\n    <tr>\n      <th>8528</th>\n      <td>NHM</td>\n      <td>1</td>\n      <td>2020-02-26</td>\n      <td>2020-02-26 14:00:00</td>\n      <td>2020-02-26 14:50:00</td>\n      <td>2020-02-26 14:00:00</td>\n      <td>2020-02-26 14:11:00</td>\n      <td>50.0</td>\n      <td>11.0</td>\n    </tr>\n    <tr>\n      <th>8733</th>\n      <td>ARH</td>\n      <td>1</td>\n      <td>2020-03-02</td>\n      <td>2020-03-02 10:30:00</td>\n      <td>2020-03-02 10:38:00</td>\n      <td>2020-03-02 10:30:00</td>\n      <td>2020-03-02 10:34:00</td>\n      <td>8.0</td>\n      <td>4.0</td>\n    </tr>\n    <tr>\n      <th>9248</th>\n      <td>CTD</td>\n      <td>1</td>\n      <td>2020-03-11</td>\n      <td>2020-03-11 09:00:00</td>\n      <td>2020-03-11 10:08:00</td>\n      <td>2020-03-11 09:00:00</td>\n      <td>2020-03-11 09:13:00</td>\n      <td>68.0</td>\n      <td>13.0</td>\n    </tr>\n    <tr>\n      <th>9314</th>\n      <td>PHL</td>\n      <td>900</td>\n      <td>2020-03-11</td>\n      <td>2020-03-11 13:00:00</td>\n      <td>2020-03-11 14:30:00</td>\n      <td>2020-03-11 13:00:00</td>\n      <td>2020-03-11 12:58:00</td>\n      <td>90.0</td>\n      <td>-2.0</td>\n    </tr>\n    <tr>\n      <th>9329</th>\n      <td>ENGR</td>\n      <td>3</td>\n      <td>2020-03-11</td>\n      <td>2020-03-11 15:00:00</td>\n      <td>2020-03-11 15:45:00</td>\n      <td>2020-03-11 15:00:00</td>\n      <td>2020-03-11 15:09:00</td>\n      <td>45.0</td>\n      <td>9.0</td>\n    </tr>\n    <tr>\n      <th>9387</th>\n      <td>HD</td>\n      <td>1</td>\n      <td>2020-03-12</td>\n      <td>2020-03-12 09:30:00</td>\n      <td>2020-03-12 10:45:00</td>\n      <td>2020-03-12 09:30:00</td>\n      <td>2020-03-12 09:43:00</td>\n      <td>75.0</td>\n      <td>13.0</td>\n    </tr>\n  </tbody>\n</table>\n</div>"
     },
     "execution_count": 26,
     "metadata": {},
     "output_type": "execute_result"
    }
   ],
   "source": [
    "# Display all rows in 'zero_time'\n",
    "ods.loc[zero_time, ['subject', 'section', 'exam_date', 'start_time', 'end_time', 'actual_start', 'actual_end', \n",
    "                        'allotted_time', 'actual_time']]"
   ]
  },
  {
   "cell_type": "markdown",
   "metadata": {},
   "source": [
    "*1001, 2896 and 9314 should not have started before the actual start time. It is possible that the testing coordinator accidentally checked the student in and checked the student out at check in. Since we have no way of knowing when the student actually finished, we will drop these values. 7721 is a test instance set up by testing staff to test the portal*"
   ]
  },
  {
   "cell_type": "code",
   "execution_count": 27,
   "metadata": {},
   "outputs": [],
   "source": [
    "ods.drop(index=[1001, 2896, 9314, 7721], inplace=True)"
   ]
  },
  {
   "cell_type": "markdown",
   "metadata": {},
   "source": [
    "*Now we need to handle the remaining values*"
   ]
  },
  {
   "cell_type": "code",
   "execution_count": 28,
   "metadata": {},
   "outputs": [
    {
     "data": {
      "text/plain": "            proctor subject  section  exam_date          start_time  \\\n3             Bulls      AC       15 2019-08-30 2019-08-30 08:45:00   \n1380  Vanslambrouck      AC      320 2019-10-02 2019-10-02 17:00:00   \n1445  Vanslambrouck     APR        1 2019-10-03 2019-10-03 14:15:00   \n1446  Vanslambrouck     CIP        5 2019-10-03 2019-10-03 14:15:00   \n1499          Bulls      AC       15 2019-10-04 2019-10-04 08:55:00   \n1871          Bulls      AC       15 2019-10-11 2019-10-11 09:00:00   \n2243          Bulls      HY       10 2019-10-17 2019-10-17 13:00:00   \n2264  Vanslambrouck      EC        1 2019-10-17 2019-10-17 15:30:00   \n2361  Vanslambrouck    ENGR        3 2019-10-21 2019-10-21 15:00:00   \n2748          Bulls     CHE        1 2019-10-28 2019-10-28 13:00:00   \n3286    Unspecified     RHM        1 2019-11-07 2019-11-07 14:20:00   \n3476  Vanslambrouck     CEE      320 2019-11-12 2019-11-12 17:30:00   \n3525  Vanslambrouck     BSC        1 2019-11-13 2019-11-13 13:00:00   \n3865          Bulls     HES        3 2019-11-20 2019-11-20 09:10:00   \n4011  Vanslambrouck      HY       10 2019-11-21 2019-11-21 13:00:00   \n5076          Bulls     NHM      911 2019-12-11 2019-12-11 13:10:00   \n6985  Vanslambrouck     ECE        1 2020-01-22 2020-01-22 13:00:00   \n7228          Bulls     ARH        1 2020-02-03 2020-02-03 10:30:00   \n8158          Bulls     PHL      900 2020-02-18 2020-02-18 11:00:00   \n8733          Bulls     ARH        1 2020-03-02 2020-03-02 10:30:00   \n\n                end_time        actual_start          actual_end  \\\n3    2019-08-30 09:25:00 2019-08-30 08:45:00 2019-08-30 08:49:00   \n1380 2019-10-02 18:53:00 2019-10-02 17:00:00 2019-10-02 17:03:00   \n1445 2019-10-03 16:45:00 2019-10-03 14:15:00 2019-10-03 14:22:00   \n1446 2019-10-03 16:45:00 2019-10-03 14:15:00 2019-10-03 14:21:00   \n1499 2019-10-04 09:35:00 2019-10-04 08:55:00 2019-10-04 09:01:00   \n1871 2019-10-11 09:40:00 2019-10-11 09:00:00 2019-10-11 09:03:00   \n2243 2019-10-17 13:30:00 2019-10-17 13:00:00 2019-10-17 13:07:00   \n2264 2019-10-17 17:23:00 2019-10-17 15:30:00 2019-10-17 15:30:00   \n2361 2019-10-21 15:45:00 2019-10-21 15:00:00 2019-10-21 15:07:00   \n2748 2019-10-28 14:15:00 2019-10-28 13:00:00 2019-10-28 13:07:00   \n3286 2019-11-07 16:00:00 2019-11-07 14:20:00 2019-11-07 14:21:00   \n3476 2019-11-12 21:30:00 2019-11-12 17:30:00 2019-11-12 17:36:00   \n3525 2019-11-13 13:50:00 2019-11-13 13:00:00 2019-11-13 13:01:00   \n3865 2019-11-20 11:03:00 2019-11-20 09:10:00 2019-11-20 09:16:00   \n4011 2019-11-21 13:30:00 2019-11-21 13:00:00 2019-11-21 13:03:00   \n5076 2019-12-11 16:10:00 2019-12-11 13:10:00 2019-12-11 13:16:00   \n6985 2020-01-22 13:30:00 2020-01-22 13:00:00 2020-01-22 13:01:00   \n7228 2020-02-03 10:38:00 2020-02-03 10:30:00 2020-02-03 10:36:00   \n8158 2020-02-18 13:00:00 2020-02-18 11:00:00 2020-02-18 11:07:00   \n8733 2020-03-02 10:38:00 2020-03-02 10:30:00 2020-03-02 10:34:00   \n\n      allotted_time  actual_time  \n3              40.0          4.0  \n1380          113.0          3.0  \n1445          150.0          7.0  \n1446          150.0          6.0  \n1499           40.0          6.0  \n1871           40.0          3.0  \n2243           30.0          7.0  \n2264          113.0          0.0  \n2361           45.0          7.0  \n2748           75.0          7.0  \n3286          100.0          1.0  \n3476          240.0          6.0  \n3525           50.0          1.0  \n3865          113.0          6.0  \n4011           30.0          3.0  \n5076          180.0          6.0  \n6985           30.0          1.0  \n7228            8.0          6.0  \n8158          120.0          7.0  \n8733            8.0          4.0  ",
      "text/html": "<div>\n<style scoped>\n    .dataframe tbody tr th:only-of-type {\n        vertical-align: middle;\n    }\n\n    .dataframe tbody tr th {\n        vertical-align: top;\n    }\n\n    .dataframe thead th {\n        text-align: right;\n    }\n</style>\n<table border=\"1\" class=\"dataframe\">\n  <thead>\n    <tr style=\"text-align: right;\">\n      <th></th>\n      <th>proctor</th>\n      <th>subject</th>\n      <th>section</th>\n      <th>exam_date</th>\n      <th>start_time</th>\n      <th>end_time</th>\n      <th>actual_start</th>\n      <th>actual_end</th>\n      <th>allotted_time</th>\n      <th>actual_time</th>\n    </tr>\n  </thead>\n  <tbody>\n    <tr>\n      <th>3</th>\n      <td>Bulls</td>\n      <td>AC</td>\n      <td>15</td>\n      <td>2019-08-30</td>\n      <td>2019-08-30 08:45:00</td>\n      <td>2019-08-30 09:25:00</td>\n      <td>2019-08-30 08:45:00</td>\n      <td>2019-08-30 08:49:00</td>\n      <td>40.0</td>\n      <td>4.0</td>\n    </tr>\n    <tr>\n      <th>1380</th>\n      <td>Vanslambrouck</td>\n      <td>AC</td>\n      <td>320</td>\n      <td>2019-10-02</td>\n      <td>2019-10-02 17:00:00</td>\n      <td>2019-10-02 18:53:00</td>\n      <td>2019-10-02 17:00:00</td>\n      <td>2019-10-02 17:03:00</td>\n      <td>113.0</td>\n      <td>3.0</td>\n    </tr>\n    <tr>\n      <th>1445</th>\n      <td>Vanslambrouck</td>\n      <td>APR</td>\n      <td>1</td>\n      <td>2019-10-03</td>\n      <td>2019-10-03 14:15:00</td>\n      <td>2019-10-03 16:45:00</td>\n      <td>2019-10-03 14:15:00</td>\n      <td>2019-10-03 14:22:00</td>\n      <td>150.0</td>\n      <td>7.0</td>\n    </tr>\n    <tr>\n      <th>1446</th>\n      <td>Vanslambrouck</td>\n      <td>CIP</td>\n      <td>5</td>\n      <td>2019-10-03</td>\n      <td>2019-10-03 14:15:00</td>\n      <td>2019-10-03 16:45:00</td>\n      <td>2019-10-03 14:15:00</td>\n      <td>2019-10-03 14:21:00</td>\n      <td>150.0</td>\n      <td>6.0</td>\n    </tr>\n    <tr>\n      <th>1499</th>\n      <td>Bulls</td>\n      <td>AC</td>\n      <td>15</td>\n      <td>2019-10-04</td>\n      <td>2019-10-04 08:55:00</td>\n      <td>2019-10-04 09:35:00</td>\n      <td>2019-10-04 08:55:00</td>\n      <td>2019-10-04 09:01:00</td>\n      <td>40.0</td>\n      <td>6.0</td>\n    </tr>\n    <tr>\n      <th>1871</th>\n      <td>Bulls</td>\n      <td>AC</td>\n      <td>15</td>\n      <td>2019-10-11</td>\n      <td>2019-10-11 09:00:00</td>\n      <td>2019-10-11 09:40:00</td>\n      <td>2019-10-11 09:00:00</td>\n      <td>2019-10-11 09:03:00</td>\n      <td>40.0</td>\n      <td>3.0</td>\n    </tr>\n    <tr>\n      <th>2243</th>\n      <td>Bulls</td>\n      <td>HY</td>\n      <td>10</td>\n      <td>2019-10-17</td>\n      <td>2019-10-17 13:00:00</td>\n      <td>2019-10-17 13:30:00</td>\n      <td>2019-10-17 13:00:00</td>\n      <td>2019-10-17 13:07:00</td>\n      <td>30.0</td>\n      <td>7.0</td>\n    </tr>\n    <tr>\n      <th>2264</th>\n      <td>Vanslambrouck</td>\n      <td>EC</td>\n      <td>1</td>\n      <td>2019-10-17</td>\n      <td>2019-10-17 15:30:00</td>\n      <td>2019-10-17 17:23:00</td>\n      <td>2019-10-17 15:30:00</td>\n      <td>2019-10-17 15:30:00</td>\n      <td>113.0</td>\n      <td>0.0</td>\n    </tr>\n    <tr>\n      <th>2361</th>\n      <td>Vanslambrouck</td>\n      <td>ENGR</td>\n      <td>3</td>\n      <td>2019-10-21</td>\n      <td>2019-10-21 15:00:00</td>\n      <td>2019-10-21 15:45:00</td>\n      <td>2019-10-21 15:00:00</td>\n      <td>2019-10-21 15:07:00</td>\n      <td>45.0</td>\n      <td>7.0</td>\n    </tr>\n    <tr>\n      <th>2748</th>\n      <td>Bulls</td>\n      <td>CHE</td>\n      <td>1</td>\n      <td>2019-10-28</td>\n      <td>2019-10-28 13:00:00</td>\n      <td>2019-10-28 14:15:00</td>\n      <td>2019-10-28 13:00:00</td>\n      <td>2019-10-28 13:07:00</td>\n      <td>75.0</td>\n      <td>7.0</td>\n    </tr>\n    <tr>\n      <th>3286</th>\n      <td>Unspecified</td>\n      <td>RHM</td>\n      <td>1</td>\n      <td>2019-11-07</td>\n      <td>2019-11-07 14:20:00</td>\n      <td>2019-11-07 16:00:00</td>\n      <td>2019-11-07 14:20:00</td>\n      <td>2019-11-07 14:21:00</td>\n      <td>100.0</td>\n      <td>1.0</td>\n    </tr>\n    <tr>\n      <th>3476</th>\n      <td>Vanslambrouck</td>\n      <td>CEE</td>\n      <td>320</td>\n      <td>2019-11-12</td>\n      <td>2019-11-12 17:30:00</td>\n      <td>2019-11-12 21:30:00</td>\n      <td>2019-11-12 17:30:00</td>\n      <td>2019-11-12 17:36:00</td>\n      <td>240.0</td>\n      <td>6.0</td>\n    </tr>\n    <tr>\n      <th>3525</th>\n      <td>Vanslambrouck</td>\n      <td>BSC</td>\n      <td>1</td>\n      <td>2019-11-13</td>\n      <td>2019-11-13 13:00:00</td>\n      <td>2019-11-13 13:50:00</td>\n      <td>2019-11-13 13:00:00</td>\n      <td>2019-11-13 13:01:00</td>\n      <td>50.0</td>\n      <td>1.0</td>\n    </tr>\n    <tr>\n      <th>3865</th>\n      <td>Bulls</td>\n      <td>HES</td>\n      <td>3</td>\n      <td>2019-11-20</td>\n      <td>2019-11-20 09:10:00</td>\n      <td>2019-11-20 11:03:00</td>\n      <td>2019-11-20 09:10:00</td>\n      <td>2019-11-20 09:16:00</td>\n      <td>113.0</td>\n      <td>6.0</td>\n    </tr>\n    <tr>\n      <th>4011</th>\n      <td>Vanslambrouck</td>\n      <td>HY</td>\n      <td>10</td>\n      <td>2019-11-21</td>\n      <td>2019-11-21 13:00:00</td>\n      <td>2019-11-21 13:30:00</td>\n      <td>2019-11-21 13:00:00</td>\n      <td>2019-11-21 13:03:00</td>\n      <td>30.0</td>\n      <td>3.0</td>\n    </tr>\n    <tr>\n      <th>5076</th>\n      <td>Bulls</td>\n      <td>NHM</td>\n      <td>911</td>\n      <td>2019-12-11</td>\n      <td>2019-12-11 13:10:00</td>\n      <td>2019-12-11 16:10:00</td>\n      <td>2019-12-11 13:10:00</td>\n      <td>2019-12-11 13:16:00</td>\n      <td>180.0</td>\n      <td>6.0</td>\n    </tr>\n    <tr>\n      <th>6985</th>\n      <td>Vanslambrouck</td>\n      <td>ECE</td>\n      <td>1</td>\n      <td>2020-01-22</td>\n      <td>2020-01-22 13:00:00</td>\n      <td>2020-01-22 13:30:00</td>\n      <td>2020-01-22 13:00:00</td>\n      <td>2020-01-22 13:01:00</td>\n      <td>30.0</td>\n      <td>1.0</td>\n    </tr>\n    <tr>\n      <th>7228</th>\n      <td>Bulls</td>\n      <td>ARH</td>\n      <td>1</td>\n      <td>2020-02-03</td>\n      <td>2020-02-03 10:30:00</td>\n      <td>2020-02-03 10:38:00</td>\n      <td>2020-02-03 10:30:00</td>\n      <td>2020-02-03 10:36:00</td>\n      <td>8.0</td>\n      <td>6.0</td>\n    </tr>\n    <tr>\n      <th>8158</th>\n      <td>Bulls</td>\n      <td>PHL</td>\n      <td>900</td>\n      <td>2020-02-18</td>\n      <td>2020-02-18 11:00:00</td>\n      <td>2020-02-18 13:00:00</td>\n      <td>2020-02-18 11:00:00</td>\n      <td>2020-02-18 11:07:00</td>\n      <td>120.0</td>\n      <td>7.0</td>\n    </tr>\n    <tr>\n      <th>8733</th>\n      <td>Bulls</td>\n      <td>ARH</td>\n      <td>1</td>\n      <td>2020-03-02</td>\n      <td>2020-03-02 10:30:00</td>\n      <td>2020-03-02 10:38:00</td>\n      <td>2020-03-02 10:30:00</td>\n      <td>2020-03-02 10:34:00</td>\n      <td>8.0</td>\n      <td>4.0</td>\n    </tr>\n  </tbody>\n</table>\n</div>"
     },
     "execution_count": 28,
     "metadata": {},
     "output_type": "execute_result"
    }
   ],
   "source": [
    "ods.loc[(ods['actual_time']>= 0.0) & (ods['actual_time']<=8.0), ['proctor','subject', 'section', 'exam_date','start_time', 'end_time', 'actual_start', 'actual_end',\n",
    "                                   'allotted_time', 'actual_time']]"
   ]
  },
  {
   "cell_type": "markdown",
   "metadata": {},
   "source": [
    "*We can group columns together by subject and section and aggregate their respective means to compare actual_time*"
   ]
  },
  {
   "cell_type": "code",
   "execution_count": 29,
   "metadata": {},
   "outputs": [
    {
     "data": {
      "text/plain": "                 allotted_time  actual_time\nsubject section                            \nAAST    5           113.000000   140.000000\nAC      1           149.514706   131.152174\n        2           135.958084   117.568627\n        3           155.970000   123.466667\n        4           130.027778    92.400000\n...                        ...          ...\nUH      10          200.000000   105.000000\n        24          105.000000          NaN\n        25          113.000000    67.000000\nWS      18          150.000000    96.000000\n        23          113.000000    81.000000\n\n[503 rows x 2 columns]",
      "text/html": "<div>\n<style scoped>\n    .dataframe tbody tr th:only-of-type {\n        vertical-align: middle;\n    }\n\n    .dataframe tbody tr th {\n        vertical-align: top;\n    }\n\n    .dataframe thead th {\n        text-align: right;\n    }\n</style>\n<table border=\"1\" class=\"dataframe\">\n  <thead>\n    <tr style=\"text-align: right;\">\n      <th></th>\n      <th></th>\n      <th>allotted_time</th>\n      <th>actual_time</th>\n    </tr>\n    <tr>\n      <th>subject</th>\n      <th>section</th>\n      <th></th>\n      <th></th>\n    </tr>\n  </thead>\n  <tbody>\n    <tr>\n      <th>AAST</th>\n      <th>5</th>\n      <td>113.000000</td>\n      <td>140.000000</td>\n    </tr>\n    <tr>\n      <th rowspan=\"4\" valign=\"top\">AC</th>\n      <th>1</th>\n      <td>149.514706</td>\n      <td>131.152174</td>\n    </tr>\n    <tr>\n      <th>2</th>\n      <td>135.958084</td>\n      <td>117.568627</td>\n    </tr>\n    <tr>\n      <th>3</th>\n      <td>155.970000</td>\n      <td>123.466667</td>\n    </tr>\n    <tr>\n      <th>4</th>\n      <td>130.027778</td>\n      <td>92.400000</td>\n    </tr>\n    <tr>\n      <th>...</th>\n      <th>...</th>\n      <td>...</td>\n      <td>...</td>\n    </tr>\n    <tr>\n      <th rowspan=\"3\" valign=\"top\">UH</th>\n      <th>10</th>\n      <td>200.000000</td>\n      <td>105.000000</td>\n    </tr>\n    <tr>\n      <th>24</th>\n      <td>105.000000</td>\n      <td>NaN</td>\n    </tr>\n    <tr>\n      <th>25</th>\n      <td>113.000000</td>\n      <td>67.000000</td>\n    </tr>\n    <tr>\n      <th rowspan=\"2\" valign=\"top\">WS</th>\n      <th>18</th>\n      <td>150.000000</td>\n      <td>96.000000</td>\n    </tr>\n    <tr>\n      <th>23</th>\n      <td>113.000000</td>\n      <td>81.000000</td>\n    </tr>\n  </tbody>\n</table>\n<p>503 rows × 2 columns</p>\n</div>"
     },
     "execution_count": 29,
     "metadata": {},
     "output_type": "execute_result"
    }
   ],
   "source": [
    "ods.groupby(by=['subject', 'section'])[['allotted_time', 'actual_time']].agg('mean')"
   ]
  },
  {
   "cell_type": "markdown",
   "metadata": {},
   "source": [
    "***Note that for conciseness, the syntax I used will be below but not necessarily for every query I ran***"
   ]
  },
  {
   "cell_type": "code",
   "execution_count": 30,
   "metadata": {},
   "outputs": [
    {
     "data": {
      "text/plain": "subject                AC                                                  \\\nsection               1           2           3           4           5     \nallotted_time  149.514706  135.958084  155.970000  130.027778  130.652174   \nactual_time    131.152174  117.568627  123.466667   92.400000   95.473684   \n\nsubject                                                                    \\\nsection               6           7           8           9           10    \nallotted_time  148.500000  148.814815  150.166667  153.416667  144.840000   \nactual_time     92.666667  121.411765  108.909091   94.000000   85.952381   \n\nsubject        ...                                                    \\\nsection        ...    100    101         320         323         324   \nallotted_time  ...  246.0  169.0  140.300000  123.666667  139.875000   \nactual_time    ...  116.6  131.0   85.542857   92.750000   73.142857   \n\nsubject                                                          \nsection               326         328    329         332    910  \nallotted_time  162.857143  125.000000  113.0  160.000000  225.0  \nactual_time     99.250000  119.666667   75.0   91.333333  152.0  \n\n[2 rows x 26 columns]",
      "text/html": "<div>\n<style scoped>\n    .dataframe tbody tr th:only-of-type {\n        vertical-align: middle;\n    }\n\n    .dataframe tbody tr th {\n        vertical-align: top;\n    }\n\n    .dataframe thead tr th {\n        text-align: left;\n    }\n</style>\n<table border=\"1\" class=\"dataframe\">\n  <thead>\n    <tr>\n      <th>subject</th>\n      <th colspan=\"21\" halign=\"left\">AC</th>\n    </tr>\n    <tr>\n      <th>section</th>\n      <th>1</th>\n      <th>2</th>\n      <th>3</th>\n      <th>4</th>\n      <th>5</th>\n      <th>6</th>\n      <th>7</th>\n      <th>8</th>\n      <th>9</th>\n      <th>10</th>\n      <th>...</th>\n      <th>100</th>\n      <th>101</th>\n      <th>320</th>\n      <th>323</th>\n      <th>324</th>\n      <th>326</th>\n      <th>328</th>\n      <th>329</th>\n      <th>332</th>\n      <th>910</th>\n    </tr>\n  </thead>\n  <tbody>\n    <tr>\n      <th>allotted_time</th>\n      <td>149.514706</td>\n      <td>135.958084</td>\n      <td>155.970000</td>\n      <td>130.027778</td>\n      <td>130.652174</td>\n      <td>148.500000</td>\n      <td>148.814815</td>\n      <td>150.166667</td>\n      <td>153.416667</td>\n      <td>144.840000</td>\n      <td>...</td>\n      <td>246.0</td>\n      <td>169.0</td>\n      <td>140.300000</td>\n      <td>123.666667</td>\n      <td>139.875000</td>\n      <td>162.857143</td>\n      <td>125.000000</td>\n      <td>113.0</td>\n      <td>160.000000</td>\n      <td>225.0</td>\n    </tr>\n    <tr>\n      <th>actual_time</th>\n      <td>131.152174</td>\n      <td>117.568627</td>\n      <td>123.466667</td>\n      <td>92.400000</td>\n      <td>95.473684</td>\n      <td>92.666667</td>\n      <td>121.411765</td>\n      <td>108.909091</td>\n      <td>94.000000</td>\n      <td>85.952381</td>\n      <td>...</td>\n      <td>116.6</td>\n      <td>131.0</td>\n      <td>85.542857</td>\n      <td>92.750000</td>\n      <td>73.142857</td>\n      <td>99.250000</td>\n      <td>119.666667</td>\n      <td>75.0</td>\n      <td>91.333333</td>\n      <td>152.0</td>\n    </tr>\n  </tbody>\n</table>\n<p>2 rows × 26 columns</p>\n</div>"
     },
     "execution_count": 30,
     "metadata": {},
     "output_type": "execute_result"
    }
   ],
   "source": [
    "# Syntax: ods.groupby(by=['subject', 'section'])[['allotted_time', 'actual_time']].agg('mean').T[['subject']]\n",
    "ods.groupby(by=['subject', 'section'])[['allotted_time', 'actual_time']].agg('mean').T[['AC']]"
   ]
  },
  {
   "cell_type": "markdown",
   "metadata": {},
   "source": [
    "*We will reference the groupby object above to compare averages across the different subjects. We can drop the ones that vary significantly*\n",
    "***\n",
    "*Actions taken:*\n",
    "1. Kept index 3\n",
    "2. Dropped index 1380\n",
    "3. Dropped index 1445\n",
    "4. Kept index 1446\n",
    "5. Kept index 1499, 1871\n",
    "6. Kept index 2243\n",
    "7. Dropped index 2264\n",
    "8. Kept index 2361\n",
    "9. Dropped index 2748\n",
    "10. Dropped index 3286\n",
    "11. Dropped index 3476\n",
    "12. Dropped index 3525\n",
    "13. Dropped index 3865\n",
    "14. Kept index 4011\n",
    "15. Dropped index 5076\n",
    "16. Dropped index 6985\n",
    "17. Kept index 7228\n",
    "18. Kept index 8158\n",
    "19. Kept 8733"
   ]
  },
  {
   "cell_type": "code",
   "execution_count": 31,
   "metadata": {},
   "outputs": [],
   "source": [
    "index = [1380, 1445, 2264, 2361, 2748, 3286, 3476, 3525, 3865, 5076, 6985]\n",
    "ods.drop(index=index, inplace=True)"
   ]
  },
  {
   "cell_type": "code",
   "execution_count": 32,
   "metadata": {},
   "outputs": [
    {
     "data": {
      "text/plain": "count    7658.000000\nmean       86.291590\nstd        53.028848\nmin         3.000000\n25%        49.000000\n50%        76.000000\n75%       112.000000\nmax       480.000000\nName: actual_time, dtype: float64"
     },
     "execution_count": 32,
     "metadata": {},
     "output_type": "execute_result"
    }
   ],
   "source": [
    "ods['actual_time'].describe()"
   ]
  },
  {
   "cell_type": "markdown",
   "metadata": {},
   "source": [
    "### 0.0 for Allotted Time"
   ]
  },
  {
   "cell_type": "markdown",
   "metadata": {},
   "source": [
    "*What instances had zero allotted_time?*"
   ]
  },
  {
   "cell_type": "code",
   "execution_count": 33,
   "metadata": {},
   "outputs": [
    {
     "data": {
      "text/plain": "     subject  section  exam_date  allotted_time  actual_time  no_show  \\\n1599     GBA        6 2019-10-08            0.0          NaN    False   \n1755     GBA       21 2019-10-09            0.0          NaN    False   \n3279      EC        4 2019-11-07            0.0         32.0    False   \n3573     GBA        6 2019-11-14            0.0          NaN    False   \n4172     GBA        7 2019-11-22            0.0        147.0    False   \n4439     AEM        1 2019-12-06            0.0          NaN    False   \n5598     HES        3 2019-12-17            0.0          NaN    False   \n7229      PY        8 2020-02-03            0.0         32.0    False   \n7237      FI      321 2020-02-03            0.0         67.0    False   \n7832      CJ        1 2020-02-11            0.0          NaN     True   \n7834      CJ        1 2020-02-11            0.0          NaN    False   \n8266      FI      321 2020-02-19            0.0          NaN    False   \n8854     BSC        2 2020-03-03            0.0         70.0    False   \n\n      exam_cancelled extra_time_1.50x extra_time_2.00x  \n1599            True              Yes               No  \n1755            True               No              Yes  \n3279           False              Yes               No  \n3573            True              Yes               No  \n4172           False              Yes               No  \n4439            True              Yes               No  \n5598            True               No              Yes  \n7229           False              Yes               No  \n7237           False              Yes               No  \n7832           False               No              Yes  \n7834            True               No              Yes  \n8266            True               No              Yes  \n8854           False              Yes               No  ",
      "text/html": "<div>\n<style scoped>\n    .dataframe tbody tr th:only-of-type {\n        vertical-align: middle;\n    }\n\n    .dataframe tbody tr th {\n        vertical-align: top;\n    }\n\n    .dataframe thead th {\n        text-align: right;\n    }\n</style>\n<table border=\"1\" class=\"dataframe\">\n  <thead>\n    <tr style=\"text-align: right;\">\n      <th></th>\n      <th>subject</th>\n      <th>section</th>\n      <th>exam_date</th>\n      <th>allotted_time</th>\n      <th>actual_time</th>\n      <th>no_show</th>\n      <th>exam_cancelled</th>\n      <th>extra_time_1.50x</th>\n      <th>extra_time_2.00x</th>\n    </tr>\n  </thead>\n  <tbody>\n    <tr>\n      <th>1599</th>\n      <td>GBA</td>\n      <td>6</td>\n      <td>2019-10-08</td>\n      <td>0.0</td>\n      <td>NaN</td>\n      <td>False</td>\n      <td>True</td>\n      <td>Yes</td>\n      <td>No</td>\n    </tr>\n    <tr>\n      <th>1755</th>\n      <td>GBA</td>\n      <td>21</td>\n      <td>2019-10-09</td>\n      <td>0.0</td>\n      <td>NaN</td>\n      <td>False</td>\n      <td>True</td>\n      <td>No</td>\n      <td>Yes</td>\n    </tr>\n    <tr>\n      <th>3279</th>\n      <td>EC</td>\n      <td>4</td>\n      <td>2019-11-07</td>\n      <td>0.0</td>\n      <td>32.0</td>\n      <td>False</td>\n      <td>False</td>\n      <td>Yes</td>\n      <td>No</td>\n    </tr>\n    <tr>\n      <th>3573</th>\n      <td>GBA</td>\n      <td>6</td>\n      <td>2019-11-14</td>\n      <td>0.0</td>\n      <td>NaN</td>\n      <td>False</td>\n      <td>True</td>\n      <td>Yes</td>\n      <td>No</td>\n    </tr>\n    <tr>\n      <th>4172</th>\n      <td>GBA</td>\n      <td>7</td>\n      <td>2019-11-22</td>\n      <td>0.0</td>\n      <td>147.0</td>\n      <td>False</td>\n      <td>False</td>\n      <td>Yes</td>\n      <td>No</td>\n    </tr>\n    <tr>\n      <th>4439</th>\n      <td>AEM</td>\n      <td>1</td>\n      <td>2019-12-06</td>\n      <td>0.0</td>\n      <td>NaN</td>\n      <td>False</td>\n      <td>True</td>\n      <td>Yes</td>\n      <td>No</td>\n    </tr>\n    <tr>\n      <th>5598</th>\n      <td>HES</td>\n      <td>3</td>\n      <td>2019-12-17</td>\n      <td>0.0</td>\n      <td>NaN</td>\n      <td>False</td>\n      <td>True</td>\n      <td>No</td>\n      <td>Yes</td>\n    </tr>\n    <tr>\n      <th>7229</th>\n      <td>PY</td>\n      <td>8</td>\n      <td>2020-02-03</td>\n      <td>0.0</td>\n      <td>32.0</td>\n      <td>False</td>\n      <td>False</td>\n      <td>Yes</td>\n      <td>No</td>\n    </tr>\n    <tr>\n      <th>7237</th>\n      <td>FI</td>\n      <td>321</td>\n      <td>2020-02-03</td>\n      <td>0.0</td>\n      <td>67.0</td>\n      <td>False</td>\n      <td>False</td>\n      <td>Yes</td>\n      <td>No</td>\n    </tr>\n    <tr>\n      <th>7832</th>\n      <td>CJ</td>\n      <td>1</td>\n      <td>2020-02-11</td>\n      <td>0.0</td>\n      <td>NaN</td>\n      <td>True</td>\n      <td>False</td>\n      <td>No</td>\n      <td>Yes</td>\n    </tr>\n    <tr>\n      <th>7834</th>\n      <td>CJ</td>\n      <td>1</td>\n      <td>2020-02-11</td>\n      <td>0.0</td>\n      <td>NaN</td>\n      <td>False</td>\n      <td>True</td>\n      <td>No</td>\n      <td>Yes</td>\n    </tr>\n    <tr>\n      <th>8266</th>\n      <td>FI</td>\n      <td>321</td>\n      <td>2020-02-19</td>\n      <td>0.0</td>\n      <td>NaN</td>\n      <td>False</td>\n      <td>True</td>\n      <td>No</td>\n      <td>Yes</td>\n    </tr>\n    <tr>\n      <th>8854</th>\n      <td>BSC</td>\n      <td>2</td>\n      <td>2020-03-03</td>\n      <td>0.0</td>\n      <td>70.0</td>\n      <td>False</td>\n      <td>False</td>\n      <td>Yes</td>\n      <td>No</td>\n    </tr>\n  </tbody>\n</table>\n</div>"
     },
     "execution_count": 33,
     "metadata": {},
     "output_type": "execute_result"
    }
   ],
   "source": [
    "ods.loc[ods['allotted_time'] == 0.0, ['subject', 'section', 'exam_date',\n",
    "                                      'allotted_time', 'actual_time',\n",
    "                                      'no_show', 'exam_cancelled', 'extra_time_1.50x', 'extra_time_2.00x']]"
   ]
  },
  {
   "cell_type": "markdown",
   "metadata": {},
   "source": [
    "For Exams that have 0.0 allotted time and have null actual time values:\n",
    "1. GBA exams with no time allotted and null were either incorrectly scheduled by the student, and cancelled by staff or rescheduled for another time\n",
    "2. CJ exams were given online and allowed the entire day to take the exam; they did not test at ODS\n",
    "3. AEM exam was cancelled\n",
    "4. HES exam was cancelled\n",
    "5. FI 321 exam was cancelled\n",
    "\n",
    "*I am not sure why the system recorded the exam as zero allotted time in these instances, where it still lists the allotted time in other cancelled exams. My theory is that the exams were cancelled before they could've been approved by ODS staff. We will drop these from the dataframe*"
   ]
  },
  {
   "cell_type": "code",
   "execution_count": 34,
   "metadata": {},
   "outputs": [],
   "source": [
    "ods.drop(index=ods[(ods['allotted_time'] == 0.0) & (ods['actual_time'].isna())].index, inplace=True)"
   ]
  },
  {
   "cell_type": "markdown",
   "metadata": {},
   "source": [
    "*What do we have left?*"
   ]
  },
  {
   "cell_type": "code",
   "execution_count": 35,
   "metadata": {},
   "outputs": [
    {
     "data": {
      "text/plain": "     subject  section  exam_date  allotted_time  actual_time  no_show  \\\n3279      EC        4 2019-11-07            0.0         32.0    False   \n4172     GBA        7 2019-11-22            0.0        147.0    False   \n7229      PY        8 2020-02-03            0.0         32.0    False   \n7237      FI      321 2020-02-03            0.0         67.0    False   \n8854     BSC        2 2020-03-03            0.0         70.0    False   \n\n      exam_cancelled extra_time_1.50x extra_time_2.00x  \n3279           False              Yes               No  \n4172           False              Yes               No  \n7229           False              Yes               No  \n7237           False              Yes               No  \n8854           False              Yes               No  ",
      "text/html": "<div>\n<style scoped>\n    .dataframe tbody tr th:only-of-type {\n        vertical-align: middle;\n    }\n\n    .dataframe tbody tr th {\n        vertical-align: top;\n    }\n\n    .dataframe thead th {\n        text-align: right;\n    }\n</style>\n<table border=\"1\" class=\"dataframe\">\n  <thead>\n    <tr style=\"text-align: right;\">\n      <th></th>\n      <th>subject</th>\n      <th>section</th>\n      <th>exam_date</th>\n      <th>allotted_time</th>\n      <th>actual_time</th>\n      <th>no_show</th>\n      <th>exam_cancelled</th>\n      <th>extra_time_1.50x</th>\n      <th>extra_time_2.00x</th>\n    </tr>\n  </thead>\n  <tbody>\n    <tr>\n      <th>3279</th>\n      <td>EC</td>\n      <td>4</td>\n      <td>2019-11-07</td>\n      <td>0.0</td>\n      <td>32.0</td>\n      <td>False</td>\n      <td>False</td>\n      <td>Yes</td>\n      <td>No</td>\n    </tr>\n    <tr>\n      <th>4172</th>\n      <td>GBA</td>\n      <td>7</td>\n      <td>2019-11-22</td>\n      <td>0.0</td>\n      <td>147.0</td>\n      <td>False</td>\n      <td>False</td>\n      <td>Yes</td>\n      <td>No</td>\n    </tr>\n    <tr>\n      <th>7229</th>\n      <td>PY</td>\n      <td>8</td>\n      <td>2020-02-03</td>\n      <td>0.0</td>\n      <td>32.0</td>\n      <td>False</td>\n      <td>False</td>\n      <td>Yes</td>\n      <td>No</td>\n    </tr>\n    <tr>\n      <th>7237</th>\n      <td>FI</td>\n      <td>321</td>\n      <td>2020-02-03</td>\n      <td>0.0</td>\n      <td>67.0</td>\n      <td>False</td>\n      <td>False</td>\n      <td>Yes</td>\n      <td>No</td>\n    </tr>\n    <tr>\n      <th>8854</th>\n      <td>BSC</td>\n      <td>2</td>\n      <td>2020-03-03</td>\n      <td>0.0</td>\n      <td>70.0</td>\n      <td>False</td>\n      <td>False</td>\n      <td>Yes</td>\n      <td>No</td>\n    </tr>\n  </tbody>\n</table>\n</div>"
     },
     "execution_count": 35,
     "metadata": {},
     "output_type": "execute_result"
    }
   ],
   "source": [
    "ods.loc[ods['allotted_time'] == 0.0, ['subject', 'section', 'exam_date',\n",
    "                                      'allotted_time', 'actual_time',\n",
    "                                      'no_show', 'exam_cancelled', 'extra_time_1.50x', 'extra_time_2.00x']]"
   ]
  },
  {
   "cell_type": "markdown",
   "metadata": {},
   "source": [
    "*Now, we can fill in the '0.0' for allotted times where an actual time was recorded for that subject on the same day. We need to research the portal to do this*"
   ]
  },
  {
   "cell_type": "markdown",
   "metadata": {},
   "source": [
    "*7237 has no reference in the portal, so we can drop that record*"
   ]
  },
  {
   "cell_type": "code",
   "execution_count": 36,
   "metadata": {},
   "outputs": [],
   "source": [
    "# Drop rows that have no values to reference\n",
    "ods.drop(index=7237,inplace=True)"
   ]
  },
  {
   "cell_type": "markdown",
   "metadata": {},
   "source": [
    "*Now, we can fill in the missing allotted data for EC, GBA, PY, and BSC*"
   ]
  },
  {
   "cell_type": "code",
   "execution_count": 37,
   "metadata": {
    "scrolled": true
   },
   "outputs": [],
   "source": [
    "# Fill in the missing allotted time for EC, GBA, PY, and BSC\n",
    "ods.loc[3279, ['allotted_time']]=113.0\n",
    "ods.loc[4172, ['allotted_time']]=360.0\n",
    "ods.loc[7229, ['allotted_time']]=75.0\n",
    "ods.loc[8854, ['allotted_time']]=120.0"
   ]
  },
  {
   "cell_type": "markdown",
   "metadata": {},
   "source": [
    "*Let's run the code again to make sure we got everything*"
   ]
  },
  {
   "cell_type": "code",
   "execution_count": 38,
   "metadata": {},
   "outputs": [
    {
     "data": {
      "text/plain": "Empty DataFrame\nColumns: [subject, section, exam_date, allotted_time, actual_time, no_show, exam_cancelled, extra_time_1.50x, extra_time_2.00x]\nIndex: []",
      "text/html": "<div>\n<style scoped>\n    .dataframe tbody tr th:only-of-type {\n        vertical-align: middle;\n    }\n\n    .dataframe tbody tr th {\n        vertical-align: top;\n    }\n\n    .dataframe thead th {\n        text-align: right;\n    }\n</style>\n<table border=\"1\" class=\"dataframe\">\n  <thead>\n    <tr style=\"text-align: right;\">\n      <th></th>\n      <th>subject</th>\n      <th>section</th>\n      <th>exam_date</th>\n      <th>allotted_time</th>\n      <th>actual_time</th>\n      <th>no_show</th>\n      <th>exam_cancelled</th>\n      <th>extra_time_1.50x</th>\n      <th>extra_time_2.00x</th>\n    </tr>\n  </thead>\n  <tbody>\n  </tbody>\n</table>\n</div>"
     },
     "execution_count": 38,
     "metadata": {},
     "output_type": "execute_result"
    }
   ],
   "source": [
    "ods.loc[ods['allotted_time'] == 0.0, ['subject', 'section', 'exam_date',\n",
    "                                      'allotted_time', 'actual_time',\n",
    "                                      'no_show', 'exam_cancelled', 'extra_time_1.50x', 'extra_time_2.00x']]"
   ]
  },
  {
   "cell_type": "markdown",
   "metadata": {},
   "source": [
    "*Now let's see if our data for 'allotted_time' makes more sense*"
   ]
  },
  {
   "cell_type": "code",
   "execution_count": 39,
   "metadata": {},
   "outputs": [
    {
     "data": {
      "text/plain": "count    11179.000000\nmean       142.012523\nstd         62.923845\nmin          8.000000\n25%        100.000000\n50%        120.000000\n75%        150.000000\nmax        480.000000\nName: allotted_time, dtype: float64"
     },
     "execution_count": 39,
     "metadata": {},
     "output_type": "execute_result"
    }
   ],
   "source": [
    "ods['allotted_time'].describe()"
   ]
  },
  {
   "cell_type": "markdown",
   "metadata": {},
   "source": [
    "***This is good. 8 is a short time but some quizzes taken at ODS are this short***"
   ]
  },
  {
   "cell_type": "markdown",
   "metadata": {},
   "source": [
    "## Drop Exams after 03/13/2020, but before 09/01/2020"
   ]
  },
  {
   "cell_type": "markdown",
   "metadata": {},
   "source": [
    "*These exams were scheduled before covid but never took place*"
   ]
  },
  {
   "cell_type": "markdown",
   "metadata": {},
   "source": [
    "*We need to convert the exam_date column back to datetime dtype*\n",
    "\n",
    "***(Why did this happen?)***"
   ]
  },
  {
   "cell_type": "code",
   "execution_count": 40,
   "metadata": {},
   "outputs": [],
   "source": [
    "ods['exam_date'] = ods['exam_date'].astype('datetime64') "
   ]
  },
  {
   "cell_type": "code",
   "execution_count": 41,
   "metadata": {},
   "outputs": [
    {
     "data": {
      "text/plain": "      subject  section  exam_date      proctor room_number  \\\n9551      BSC        4 2020-03-23  Unspecified          04   \n9552       CJ      900 2020-03-23  Unspecified      Scribe   \n9553      MTE      998 2020-03-23  Unspecified          02   \n9554      BSC      920 2020-03-24  Unspecified          03   \n9555      ECE        1 2020-03-24  Unspecified          06   \n...       ...      ...        ...          ...         ...   \n11235     PSC        1 2020-05-01  Unspecified          04   \n11236     AEM        3 2020-05-01  Unspecified          03   \n11237      MC        1 2020-05-05  Unspecified          01   \n11238     ECE        2 2020-05-06  Unspecified          01   \n11239     ECE        1 2020-05-27  Unspecified          01   \n\n               start_time            end_time        actual_start  \\\n9551  2020-03-23 15:30:00 2020-03-23 18:53:00 2020-03-23 15:30:00   \n9552  2020-03-23 17:30:00 2020-03-23 19:30:00 2020-03-23 17:30:00   \n9553  2020-03-23 17:30:00 2020-03-23 19:45:00 2020-03-23 17:30:00   \n9554  2020-03-24 10:00:00 2020-03-24 12:15:00 2020-03-24 10:00:00   \n9555  2020-03-24 11:00:00 2020-03-24 13:30:00 2020-03-24 11:00:00   \n...                   ...                 ...                 ...   \n11235 2020-05-01 11:30:00 2020-05-01 15:15:00 2020-05-01 11:30:00   \n11236 2020-05-01 12:00:00 2020-05-01 16:30:00 2020-05-01 12:00:00   \n11237 2020-05-05 12:30:00 2020-05-05 14:23:00 2020-05-05 12:30:00   \n11238 2020-05-06 12:00:00 2020-05-06 13:40:00 2020-05-06 12:00:00   \n11239 2020-05-27 11:30:00 2020-05-27 16:30:00 2020-05-27 11:30:00   \n\n               actual_end       first_entered  ... extra_time_2.00x  \\\n9551  2020-03-23 18:53:00 2020-01-13 11:39:00  ...               No   \n9552  2020-03-23 19:30:00 2020-01-15 11:21:00  ...              Yes   \n9553  2020-03-23 19:45:00 2020-01-16 21:24:00  ...               No   \n9554  2020-03-24 12:15:00 2020-02-07 12:22:00  ...               No   \n9555  2020-03-24 13:30:00 2020-01-17 10:25:00  ...              Yes   \n...                   ...                 ...  ...              ...   \n11235 2020-05-01 15:15:00 2020-01-08 13:25:00  ...               No   \n11236 2020-05-01 16:30:00 2020-01-26 14:04:00  ...               No   \n11237 2020-05-05 14:23:00 2020-02-29 23:12:00  ...               No   \n11238 2020-05-06 13:40:00 2020-03-02 18:11:00  ...              Yes   \n11239 2020-05-27 16:30:00 2020-03-02 18:07:00  ...              Yes   \n\n      makeup_accommodation  noScantronExam readerForExams allotted_time  \\\n9551                    No              No             No         203.0   \n9552                    No             Yes            Yes         120.0   \n9553                    No              No             No         135.0   \n9554                    No              No             No         135.0   \n9555                    No              No             No         150.0   \n...                    ...             ...            ...           ...   \n11235                   No              No             No         225.0   \n11236                  Yes              No             No         270.0   \n11237                   No             Yes             No         113.0   \n11238                   No              No             No         100.0   \n11239                   No              No             No         300.0   \n\n      actual_time exam_cancelled no_show requested_in_advance  name_of_day  \n9551          NaN           True   False                   70       Monday  \n9552          NaN           True   False                   68       Monday  \n9553          NaN           True   False                   67       Monday  \n9554          NaN           True   False                   46      Tuesday  \n9555          NaN           True   False                   67      Tuesday  \n...           ...            ...     ...                  ...          ...  \n11235         NaN           True   False                  114       Friday  \n11236         NaN           True   False                   96       Friday  \n11237         NaN           True   False                   66      Tuesday  \n11238         NaN           True   False                   65    Wednesday  \n11239         NaN           True   False                   86    Wednesday  \n\n[1668 rows x 25 columns]",
      "text/html": "<div>\n<style scoped>\n    .dataframe tbody tr th:only-of-type {\n        vertical-align: middle;\n    }\n\n    .dataframe tbody tr th {\n        vertical-align: top;\n    }\n\n    .dataframe thead th {\n        text-align: right;\n    }\n</style>\n<table border=\"1\" class=\"dataframe\">\n  <thead>\n    <tr style=\"text-align: right;\">\n      <th></th>\n      <th>subject</th>\n      <th>section</th>\n      <th>exam_date</th>\n      <th>proctor</th>\n      <th>room_number</th>\n      <th>start_time</th>\n      <th>end_time</th>\n      <th>actual_start</th>\n      <th>actual_end</th>\n      <th>first_entered</th>\n      <th>...</th>\n      <th>extra_time_2.00x</th>\n      <th>makeup_accommodation</th>\n      <th>noScantronExam</th>\n      <th>readerForExams</th>\n      <th>allotted_time</th>\n      <th>actual_time</th>\n      <th>exam_cancelled</th>\n      <th>no_show</th>\n      <th>requested_in_advance</th>\n      <th>name_of_day</th>\n    </tr>\n  </thead>\n  <tbody>\n    <tr>\n      <th>9551</th>\n      <td>BSC</td>\n      <td>4</td>\n      <td>2020-03-23</td>\n      <td>Unspecified</td>\n      <td>04</td>\n      <td>2020-03-23 15:30:00</td>\n      <td>2020-03-23 18:53:00</td>\n      <td>2020-03-23 15:30:00</td>\n      <td>2020-03-23 18:53:00</td>\n      <td>2020-01-13 11:39:00</td>\n      <td>...</td>\n      <td>No</td>\n      <td>No</td>\n      <td>No</td>\n      <td>No</td>\n      <td>203.0</td>\n      <td>NaN</td>\n      <td>True</td>\n      <td>False</td>\n      <td>70</td>\n      <td>Monday</td>\n    </tr>\n    <tr>\n      <th>9552</th>\n      <td>CJ</td>\n      <td>900</td>\n      <td>2020-03-23</td>\n      <td>Unspecified</td>\n      <td>Scribe</td>\n      <td>2020-03-23 17:30:00</td>\n      <td>2020-03-23 19:30:00</td>\n      <td>2020-03-23 17:30:00</td>\n      <td>2020-03-23 19:30:00</td>\n      <td>2020-01-15 11:21:00</td>\n      <td>...</td>\n      <td>Yes</td>\n      <td>No</td>\n      <td>Yes</td>\n      <td>Yes</td>\n      <td>120.0</td>\n      <td>NaN</td>\n      <td>True</td>\n      <td>False</td>\n      <td>68</td>\n      <td>Monday</td>\n    </tr>\n    <tr>\n      <th>9553</th>\n      <td>MTE</td>\n      <td>998</td>\n      <td>2020-03-23</td>\n      <td>Unspecified</td>\n      <td>02</td>\n      <td>2020-03-23 17:30:00</td>\n      <td>2020-03-23 19:45:00</td>\n      <td>2020-03-23 17:30:00</td>\n      <td>2020-03-23 19:45:00</td>\n      <td>2020-01-16 21:24:00</td>\n      <td>...</td>\n      <td>No</td>\n      <td>No</td>\n      <td>No</td>\n      <td>No</td>\n      <td>135.0</td>\n      <td>NaN</td>\n      <td>True</td>\n      <td>False</td>\n      <td>67</td>\n      <td>Monday</td>\n    </tr>\n    <tr>\n      <th>9554</th>\n      <td>BSC</td>\n      <td>920</td>\n      <td>2020-03-24</td>\n      <td>Unspecified</td>\n      <td>03</td>\n      <td>2020-03-24 10:00:00</td>\n      <td>2020-03-24 12:15:00</td>\n      <td>2020-03-24 10:00:00</td>\n      <td>2020-03-24 12:15:00</td>\n      <td>2020-02-07 12:22:00</td>\n      <td>...</td>\n      <td>No</td>\n      <td>No</td>\n      <td>No</td>\n      <td>No</td>\n      <td>135.0</td>\n      <td>NaN</td>\n      <td>True</td>\n      <td>False</td>\n      <td>46</td>\n      <td>Tuesday</td>\n    </tr>\n    <tr>\n      <th>9555</th>\n      <td>ECE</td>\n      <td>1</td>\n      <td>2020-03-24</td>\n      <td>Unspecified</td>\n      <td>06</td>\n      <td>2020-03-24 11:00:00</td>\n      <td>2020-03-24 13:30:00</td>\n      <td>2020-03-24 11:00:00</td>\n      <td>2020-03-24 13:30:00</td>\n      <td>2020-01-17 10:25:00</td>\n      <td>...</td>\n      <td>Yes</td>\n      <td>No</td>\n      <td>No</td>\n      <td>No</td>\n      <td>150.0</td>\n      <td>NaN</td>\n      <td>True</td>\n      <td>False</td>\n      <td>67</td>\n      <td>Tuesday</td>\n    </tr>\n    <tr>\n      <th>...</th>\n      <td>...</td>\n      <td>...</td>\n      <td>...</td>\n      <td>...</td>\n      <td>...</td>\n      <td>...</td>\n      <td>...</td>\n      <td>...</td>\n      <td>...</td>\n      <td>...</td>\n      <td>...</td>\n      <td>...</td>\n      <td>...</td>\n      <td>...</td>\n      <td>...</td>\n      <td>...</td>\n      <td>...</td>\n      <td>...</td>\n      <td>...</td>\n      <td>...</td>\n      <td>...</td>\n    </tr>\n    <tr>\n      <th>11235</th>\n      <td>PSC</td>\n      <td>1</td>\n      <td>2020-05-01</td>\n      <td>Unspecified</td>\n      <td>04</td>\n      <td>2020-05-01 11:30:00</td>\n      <td>2020-05-01 15:15:00</td>\n      <td>2020-05-01 11:30:00</td>\n      <td>2020-05-01 15:15:00</td>\n      <td>2020-01-08 13:25:00</td>\n      <td>...</td>\n      <td>No</td>\n      <td>No</td>\n      <td>No</td>\n      <td>No</td>\n      <td>225.0</td>\n      <td>NaN</td>\n      <td>True</td>\n      <td>False</td>\n      <td>114</td>\n      <td>Friday</td>\n    </tr>\n    <tr>\n      <th>11236</th>\n      <td>AEM</td>\n      <td>3</td>\n      <td>2020-05-01</td>\n      <td>Unspecified</td>\n      <td>03</td>\n      <td>2020-05-01 12:00:00</td>\n      <td>2020-05-01 16:30:00</td>\n      <td>2020-05-01 12:00:00</td>\n      <td>2020-05-01 16:30:00</td>\n      <td>2020-01-26 14:04:00</td>\n      <td>...</td>\n      <td>No</td>\n      <td>Yes</td>\n      <td>No</td>\n      <td>No</td>\n      <td>270.0</td>\n      <td>NaN</td>\n      <td>True</td>\n      <td>False</td>\n      <td>96</td>\n      <td>Friday</td>\n    </tr>\n    <tr>\n      <th>11237</th>\n      <td>MC</td>\n      <td>1</td>\n      <td>2020-05-05</td>\n      <td>Unspecified</td>\n      <td>01</td>\n      <td>2020-05-05 12:30:00</td>\n      <td>2020-05-05 14:23:00</td>\n      <td>2020-05-05 12:30:00</td>\n      <td>2020-05-05 14:23:00</td>\n      <td>2020-02-29 23:12:00</td>\n      <td>...</td>\n      <td>No</td>\n      <td>No</td>\n      <td>Yes</td>\n      <td>No</td>\n      <td>113.0</td>\n      <td>NaN</td>\n      <td>True</td>\n      <td>False</td>\n      <td>66</td>\n      <td>Tuesday</td>\n    </tr>\n    <tr>\n      <th>11238</th>\n      <td>ECE</td>\n      <td>2</td>\n      <td>2020-05-06</td>\n      <td>Unspecified</td>\n      <td>01</td>\n      <td>2020-05-06 12:00:00</td>\n      <td>2020-05-06 13:40:00</td>\n      <td>2020-05-06 12:00:00</td>\n      <td>2020-05-06 13:40:00</td>\n      <td>2020-03-02 18:11:00</td>\n      <td>...</td>\n      <td>Yes</td>\n      <td>No</td>\n      <td>No</td>\n      <td>No</td>\n      <td>100.0</td>\n      <td>NaN</td>\n      <td>True</td>\n      <td>False</td>\n      <td>65</td>\n      <td>Wednesday</td>\n    </tr>\n    <tr>\n      <th>11239</th>\n      <td>ECE</td>\n      <td>1</td>\n      <td>2020-05-27</td>\n      <td>Unspecified</td>\n      <td>01</td>\n      <td>2020-05-27 11:30:00</td>\n      <td>2020-05-27 16:30:00</td>\n      <td>2020-05-27 11:30:00</td>\n      <td>2020-05-27 16:30:00</td>\n      <td>2020-03-02 18:07:00</td>\n      <td>...</td>\n      <td>Yes</td>\n      <td>No</td>\n      <td>No</td>\n      <td>No</td>\n      <td>300.0</td>\n      <td>NaN</td>\n      <td>True</td>\n      <td>False</td>\n      <td>86</td>\n      <td>Wednesday</td>\n    </tr>\n  </tbody>\n</table>\n<p>1668 rows × 25 columns</p>\n</div>"
     },
     "execution_count": 41,
     "metadata": {},
     "output_type": "execute_result"
    }
   ],
   "source": [
    "ods.loc[(ods['exam_date'] > '2020-03-13') & (ods['exam_date']< '2020-09-01')]\n"
   ]
  },
  {
   "cell_type": "code",
   "execution_count": 42,
   "metadata": {
    "scrolled": true
   },
   "outputs": [],
   "source": [
    "# Create a variable to store the index value\n",
    "idx = ods.loc[(ods['exam_date'] > '2020-03-13') & (ods['exam_date']< '2020-09-01')].index"
   ]
  },
  {
   "cell_type": "code",
   "execution_count": 43,
   "metadata": {},
   "outputs": [],
   "source": [
    "# # Drop the COVID cancelled exams\n",
    "ods.drop(index=idx, inplace=True)"
   ]
  },
  {
   "cell_type": "markdown",
   "metadata": {},
   "source": [
    "### We discovered an error in 'actual_time' when exporting to PostgreSQL"
   ]
  },
  {
   "cell_type": "markdown",
   "metadata": {},
   "source": [
    "***There are about 80 exams that have no actual_time despite not being cancelled, or a no show. These exams were likely manually set by Testing staff, or errors in the portal that caused the system to assign actual start and end time to the scheduled start and end time. Regardless, since we cannot truly know how much time they took, we can either impute the values or we can drop them. Stakeholder wants them dropped***"
   ]
  },
  {
   "cell_type": "code",
   "execution_count": 44,
   "metadata": {},
   "outputs": [
    {
     "data": {
      "text/plain": "     subject  section  exam_date          start_time            end_time  \\\n3318      ST      320 2019-11-07 2019-11-07 18:30:00 2019-11-07 20:23:00   \n4831      HY       28 2019-12-10 2019-12-10 15:00:00 2019-12-10 17:30:00   \n4916     CHE        1 2019-12-10 2019-12-10 18:05:00 2019-12-10 23:05:00   \n5091     GEO        1 2019-12-11 2019-12-11 15:00:00 2019-12-11 20:00:00   \n5101     MGT        4 2019-12-11 2019-12-11 15:00:00 2019-12-11 20:00:00   \n5121      AC      326 2019-12-11 2019-12-11 18:00:00 2019-12-11 21:00:00   \n5122      AC      326 2019-12-11 2019-12-11 18:00:00 2019-12-11 21:00:00   \n5123      AC      320 2019-12-11 2019-12-11 18:00:00 2019-12-11 19:53:00   \n5124      AC      320 2019-12-11 2019-12-11 18:00:00 2019-12-11 21:00:00   \n5125     AEM        3 2019-12-11 2019-12-11 18:00:00 2019-12-11 21:45:00   \n5126     AEM        3 2019-12-11 2019-12-11 18:00:00 2019-12-11 23:00:00   \n5127     AEM        3 2019-12-11 2019-12-11 18:00:00 2019-12-11 23:00:00   \n5128     AEM        3 2019-12-11 2019-12-11 18:00:00 2019-12-11 21:45:00   \n5130      AY        3 2019-12-11 2019-12-11 18:00:00 2019-12-11 21:45:00   \n5132      CD        1 2019-12-11 2019-12-11 18:00:00 2019-12-11 19:53:00   \n5133      CE        1 2019-12-11 2019-12-11 18:00:00 2019-12-11 22:00:00   \n5134      CH        3 2019-12-11 2019-12-11 18:00:00 2019-12-11 21:45:00   \n5136      CH        2 2019-12-11 2019-12-11 18:00:00 2019-12-11 21:45:00   \n5138      CH        2 2019-12-11 2019-12-11 18:00:00 2019-12-11 23:00:00   \n5139      CH        2 2019-12-11 2019-12-11 18:00:00 2019-12-11 23:00:00   \n5140      CH        3 2019-12-11 2019-12-11 18:00:00 2019-12-11 20:00:00   \n5142     CHE        2 2019-12-11 2019-12-11 18:00:00 2019-12-11 20:30:00   \n5143     CHE        1 2019-12-11 2019-12-11 18:00:00 2019-12-11 23:00:00   \n5144      CJ      320 2019-12-11 2019-12-11 18:00:00 2019-12-11 23:00:00   \n5146      CS        1 2019-12-11 2019-12-11 18:00:00 2019-12-11 23:00:00   \n5148      EC      320 2019-12-11 2019-12-11 18:00:00 2019-12-11 23:00:00   \n5150      EC      320 2019-12-11 2019-12-11 18:00:00 2019-12-11 21:45:00   \n5151      EC      321 2019-12-11 2019-12-11 18:00:00 2019-12-11 23:00:00   \n5152     ECE        1 2019-12-11 2019-12-11 18:00:00 2019-12-11 23:00:00   \n5156    MATH        2 2019-12-11 2019-12-11 18:00:00 2019-12-11 23:00:00   \n5157    MATH        3 2019-12-11 2019-12-11 18:00:00 2019-12-11 21:45:00   \n5158    MATH        3 2019-12-11 2019-12-11 18:00:00 2019-12-11 21:45:00   \n5159    MATH        3 2019-12-11 2019-12-11 18:00:00 2019-12-11 21:45:00   \n5160    MATH        3 2019-12-11 2019-12-11 18:00:00 2019-12-11 23:00:00   \n5163    MATH        3 2019-12-11 2019-12-11 18:00:00 2019-12-11 21:45:00   \n5165     MGT      320 2019-12-11 2019-12-11 18:00:00 2019-12-11 21:45:00   \n5167     MGT      324 2019-12-11 2019-12-11 18:00:00 2019-12-11 20:30:00   \n5168     MGT      324 2019-12-11 2019-12-11 18:00:00 2019-12-11 20:30:00   \n5170     NHM        2 2019-12-11 2019-12-11 18:00:00 2019-12-11 19:15:00   \n5171      PH        6 2019-12-11 2019-12-11 18:00:00 2019-12-11 21:45:00   \n5172      PH        6 2019-12-11 2019-12-11 18:00:00 2019-12-11 21:45:00   \n5173      PY        2 2019-12-11 2019-12-11 18:00:00 2019-12-11 21:45:00   \n5174      PH        6 2019-12-11 2019-12-11 18:10:00 2019-12-11 23:10:00   \n5276     BSC        4 2019-12-12 2019-12-12 13:00:00 2019-12-12 14:30:00   \n5362     ECE        1 2019-12-12 2019-12-12 17:55:00 2019-12-12 22:55:00   \n5364      AC        3 2019-12-12 2019-12-12 18:00:00 2019-12-12 20:15:00   \n5366     AEM        1 2019-12-12 2019-12-12 18:00:00 2019-12-12 21:45:00   \n5367     AEM        5 2019-12-12 2019-12-12 18:00:00 2019-12-12 21:45:00   \n5368     AEM        3 2019-12-12 2019-12-12 18:00:00 2019-12-12 23:00:00   \n5373      CH        5 2019-12-12 2019-12-12 18:00:00 2019-12-12 21:45:00   \n5374      CH        6 2019-12-12 2019-12-12 18:00:00 2019-12-12 21:45:00   \n5375      CH        1 2019-12-12 2019-12-12 18:00:00 2019-12-12 21:00:00   \n5377      CH        1 2019-12-12 2019-12-12 18:00:00 2019-12-12 22:00:00   \n5378      CH        1 2019-12-12 2019-12-12 18:00:00 2019-12-12 21:00:00   \n5381      EC        1 2019-12-12 2019-12-12 18:00:00 2019-12-12 21:45:00   \n5382     ECE        1 2019-12-12 2019-12-12 18:00:00 2019-12-12 21:45:00   \n5385      FR        1 2019-12-12 2019-12-12 18:00:00 2019-12-12 22:30:00   \n5386    MATH        1 2019-12-12 2019-12-12 18:00:00 2019-12-12 23:00:00   \n5387    MATH        7 2019-12-12 2019-12-12 18:00:00 2019-12-12 21:45:00   \n5388    MATH       10 2019-12-12 2019-12-12 18:00:00 2019-12-12 21:45:00   \n5389    MATH        6 2019-12-12 2019-12-12 18:00:00 2019-12-12 21:45:00   \n5390      ME        1 2019-12-12 2019-12-12 18:00:00 2019-12-12 21:45:00   \n5391      ME        1 2019-12-12 2019-12-12 18:00:00 2019-12-12 23:00:00   \n5392      ME        1 2019-12-12 2019-12-12 18:00:00 2019-12-12 21:45:00   \n5398      ME        1 2019-12-12 2019-12-12 18:00:00 2019-12-12 23:00:00   \n5399      ME        1 2019-12-12 2019-12-12 18:00:00 2019-12-12 21:45:00   \n5401      ME        1 2019-12-12 2019-12-12 18:00:00 2019-12-12 23:00:00   \n5402      ME        1 2019-12-12 2019-12-12 18:00:00 2019-12-12 23:00:00   \n5403      ME        1 2019-12-12 2019-12-12 18:00:00 2019-12-12 21:45:00   \n5404     NHM      910 2019-12-12 2019-12-12 18:00:00 2019-12-12 22:00:00   \n5406      PY        1 2019-12-12 2019-12-12 18:00:00 2019-12-12 20:30:00   \n5407      CH        1 2019-12-12 2019-12-12 18:05:00 2019-12-12 22:05:00   \n5408    MATH        3 2019-12-12 2019-12-12 18:05:00 2019-12-12 23:05:00   \n5409      ME        1 2019-12-12 2019-12-12 18:05:00 2019-12-12 23:05:00   \n5651     MGT      102 2019-07-26 2019-07-26 10:00:00 2019-07-26 13:30:00   \n5957     AEM        3 2021-02-23 2021-02-23 14:05:00 2021-02-23 16:20:00   \n6293      CH        2 2021-03-30 2021-03-30 17:30:00 2021-03-30 20:10:00   \n6632     COM        1 2021-04-30 2021-04-30 10:00:00 2021-04-30 11:30:00   \n6658      CE      320 2020-09-15 2020-09-15 12:25:00 2020-09-15 14:55:00   \n6750      CH        2 2020-09-30 2020-09-30 15:50:00 2020-09-30 17:50:00   \n\n            actual_start          actual_end  actual_time  no_show  \\\n3318 2019-11-07 18:30:00 2019-11-07 20:23:00          NaN    False   \n4831 2019-12-10 15:00:00 2019-12-10 17:30:00          NaN    False   \n4916 2019-12-10 18:05:00 2019-12-10 23:05:00          NaN    False   \n5091 2019-12-11 15:00:00 2019-12-11 20:00:00          NaN    False   \n5101 2019-12-11 15:00:00 2019-12-11 20:00:00          NaN    False   \n5121 2019-12-11 18:00:00 2019-12-11 21:00:00          NaN    False   \n5122 2019-12-11 18:00:00 2019-12-11 21:00:00          NaN    False   \n5123 2019-12-11 18:00:00 2019-12-11 19:53:00          NaN    False   \n5124 2019-12-11 18:00:00 2019-12-11 21:00:00          NaN    False   \n5125 2019-12-11 18:00:00 2019-12-11 21:45:00          NaN    False   \n5126 2019-12-11 18:00:00 2019-12-11 23:00:00          NaN    False   \n5127 2019-12-11 18:00:00 2019-12-11 23:00:00          NaN    False   \n5128 2019-12-11 18:00:00 2019-12-11 21:45:00          NaN    False   \n5130 2019-12-11 18:00:00 2019-12-11 21:45:00          NaN    False   \n5132 2019-12-11 18:00:00 2019-12-11 19:53:00          NaN    False   \n5133 2019-12-11 18:00:00 2019-12-11 22:00:00          NaN    False   \n5134 2019-12-11 18:00:00 2019-12-11 21:45:00          NaN    False   \n5136 2019-12-11 18:00:00 2019-12-11 21:45:00          NaN    False   \n5138 2019-12-11 18:00:00 2019-12-11 23:00:00          NaN    False   \n5139 2019-12-11 18:00:00 2019-12-11 23:00:00          NaN    False   \n5140 2019-12-11 18:00:00 2019-12-11 20:00:00          NaN    False   \n5142 2019-12-11 18:00:00 2019-12-11 20:30:00          NaN    False   \n5143 2019-12-11 18:00:00 2019-12-11 23:00:00          NaN    False   \n5144 2019-12-11 18:00:00 2019-12-11 23:00:00          NaN    False   \n5146 2019-12-11 18:00:00 2019-12-11 23:00:00          NaN    False   \n5148 2019-12-11 18:00:00 2019-12-11 23:00:00          NaN    False   \n5150 2019-12-11 18:00:00 2019-12-11 21:45:00          NaN    False   \n5151 2019-12-11 18:00:00 2019-12-11 23:00:00          NaN    False   \n5152 2019-12-11 18:00:00 2019-12-11 23:00:00          NaN    False   \n5156 2019-12-11 18:00:00 2019-12-11 23:00:00          NaN    False   \n5157 2019-12-11 18:00:00 2019-12-11 21:45:00          NaN    False   \n5158 2019-12-11 18:00:00 2019-12-11 21:45:00          NaN    False   \n5159 2019-12-11 18:00:00 2019-12-11 21:45:00          NaN    False   \n5160 2019-12-11 18:00:00 2019-12-11 23:00:00          NaN    False   \n5163 2019-12-11 18:00:00 2019-12-11 21:45:00          NaN    False   \n5165 2019-12-11 18:00:00 2019-12-11 21:45:00          NaN    False   \n5167 2019-12-11 18:00:00 2019-12-11 20:30:00          NaN    False   \n5168 2019-12-11 18:00:00 2019-12-11 20:30:00          NaN    False   \n5170 2019-12-11 18:00:00 2019-12-11 19:15:00          NaN    False   \n5171 2019-12-11 18:00:00 2019-12-11 21:45:00          NaN    False   \n5172 2019-12-11 18:00:00 2019-12-11 21:45:00          NaN    False   \n5173 2019-12-11 18:00:00 2019-12-11 21:45:00          NaN    False   \n5174 2019-12-11 18:10:00 2019-12-11 23:10:00          NaN    False   \n5276 2019-12-12 13:00:00 2019-12-12 14:30:00          NaN    False   \n5362 2019-12-12 17:55:00 2019-12-12 22:55:00          NaN    False   \n5364 2019-12-12 18:00:00 2019-12-12 20:15:00          NaN    False   \n5366 2019-12-12 18:00:00 2019-12-12 21:45:00          NaN    False   \n5367 2019-12-12 18:00:00 2019-12-12 21:45:00          NaN    False   \n5368 2019-12-12 18:00:00 2019-12-12 23:00:00          NaN    False   \n5373 2019-12-12 18:00:00 2019-12-12 21:45:00          NaN    False   \n5374 2019-12-12 18:00:00 2019-12-12 21:45:00          NaN    False   \n5375 2019-12-12 18:00:00 2019-12-12 21:00:00          NaN    False   \n5377 2019-12-12 18:00:00 2019-12-12 22:00:00          NaN    False   \n5378 2019-12-12 18:00:00 2019-12-12 21:00:00          NaN    False   \n5381 2019-12-12 18:00:00 2019-12-12 21:45:00          NaN    False   \n5382 2019-12-12 18:00:00 2019-12-12 21:45:00          NaN    False   \n5385 2019-12-12 18:00:00 2019-12-12 22:30:00          NaN    False   \n5386 2019-12-12 18:00:00 2019-12-12 23:00:00          NaN    False   \n5387 2019-12-12 18:00:00 2019-12-12 21:45:00          NaN    False   \n5388 2019-12-12 18:00:00 2019-12-12 21:45:00          NaN    False   \n5389 2019-12-12 18:00:00 2019-12-12 21:45:00          NaN    False   \n5390 2019-12-12 18:00:00 2019-12-12 21:45:00          NaN    False   \n5391 2019-12-12 18:00:00 2019-12-12 23:00:00          NaN    False   \n5392 2019-12-12 18:00:00 2019-12-12 21:45:00          NaN    False   \n5398 2019-12-12 18:00:00 2019-12-12 23:00:00          NaN    False   \n5399 2019-12-12 18:00:00 2019-12-12 21:45:00          NaN    False   \n5401 2019-12-12 18:00:00 2019-12-12 23:00:00          NaN    False   \n5402 2019-12-12 18:00:00 2019-12-12 23:00:00          NaN    False   \n5403 2019-12-12 18:00:00 2019-12-12 21:45:00          NaN    False   \n5404 2019-12-12 18:00:00 2019-12-12 22:00:00          NaN    False   \n5406 2019-12-12 18:00:00 2019-12-12 20:30:00          NaN    False   \n5407 2019-12-12 18:05:00 2019-12-12 22:05:00          NaN    False   \n5408 2019-12-12 18:05:00 2019-12-12 23:05:00          NaN    False   \n5409 2019-12-12 18:05:00 2019-12-12 23:05:00          NaN    False   \n5651 2019-07-26 10:00:00 2019-07-26 13:30:00          NaN    False   \n5957 2021-02-23 14:05:00 2021-02-23 16:20:00          NaN    False   \n6293 2021-03-30 17:30:00 2021-03-30 20:10:00          NaN    False   \n6632 2021-04-30 10:00:00 2021-04-30 11:30:00          NaN    False   \n6658 2020-09-15 12:25:00 2020-09-15 14:55:00          NaN    False   \n6750 2020-09-30 15:50:00 2020-09-30 17:50:00          NaN    False   \n\n      exam_cancelled  \n3318           False  \n4831           False  \n4916           False  \n5091           False  \n5101           False  \n5121           False  \n5122           False  \n5123           False  \n5124           False  \n5125           False  \n5126           False  \n5127           False  \n5128           False  \n5130           False  \n5132           False  \n5133           False  \n5134           False  \n5136           False  \n5138           False  \n5139           False  \n5140           False  \n5142           False  \n5143           False  \n5144           False  \n5146           False  \n5148           False  \n5150           False  \n5151           False  \n5152           False  \n5156           False  \n5157           False  \n5158           False  \n5159           False  \n5160           False  \n5163           False  \n5165           False  \n5167           False  \n5168           False  \n5170           False  \n5171           False  \n5172           False  \n5173           False  \n5174           False  \n5276           False  \n5362           False  \n5364           False  \n5366           False  \n5367           False  \n5368           False  \n5373           False  \n5374           False  \n5375           False  \n5377           False  \n5378           False  \n5381           False  \n5382           False  \n5385           False  \n5386           False  \n5387           False  \n5388           False  \n5389           False  \n5390           False  \n5391           False  \n5392           False  \n5398           False  \n5399           False  \n5401           False  \n5402           False  \n5403           False  \n5404           False  \n5406           False  \n5407           False  \n5408           False  \n5409           False  \n5651           False  \n5957           False  \n6293           False  \n6632           False  \n6658           False  \n6750           False  ",
      "text/html": "<div>\n<style scoped>\n    .dataframe tbody tr th:only-of-type {\n        vertical-align: middle;\n    }\n\n    .dataframe tbody tr th {\n        vertical-align: top;\n    }\n\n    .dataframe thead th {\n        text-align: right;\n    }\n</style>\n<table border=\"1\" class=\"dataframe\">\n  <thead>\n    <tr style=\"text-align: right;\">\n      <th></th>\n      <th>subject</th>\n      <th>section</th>\n      <th>exam_date</th>\n      <th>start_time</th>\n      <th>end_time</th>\n      <th>actual_start</th>\n      <th>actual_end</th>\n      <th>actual_time</th>\n      <th>no_show</th>\n      <th>exam_cancelled</th>\n    </tr>\n  </thead>\n  <tbody>\n    <tr>\n      <th>3318</th>\n      <td>ST</td>\n      <td>320</td>\n      <td>2019-11-07</td>\n      <td>2019-11-07 18:30:00</td>\n      <td>2019-11-07 20:23:00</td>\n      <td>2019-11-07 18:30:00</td>\n      <td>2019-11-07 20:23:00</td>\n      <td>NaN</td>\n      <td>False</td>\n      <td>False</td>\n    </tr>\n    <tr>\n      <th>4831</th>\n      <td>HY</td>\n      <td>28</td>\n      <td>2019-12-10</td>\n      <td>2019-12-10 15:00:00</td>\n      <td>2019-12-10 17:30:00</td>\n      <td>2019-12-10 15:00:00</td>\n      <td>2019-12-10 17:30:00</td>\n      <td>NaN</td>\n      <td>False</td>\n      <td>False</td>\n    </tr>\n    <tr>\n      <th>4916</th>\n      <td>CHE</td>\n      <td>1</td>\n      <td>2019-12-10</td>\n      <td>2019-12-10 18:05:00</td>\n      <td>2019-12-10 23:05:00</td>\n      <td>2019-12-10 18:05:00</td>\n      <td>2019-12-10 23:05:00</td>\n      <td>NaN</td>\n      <td>False</td>\n      <td>False</td>\n    </tr>\n    <tr>\n      <th>5091</th>\n      <td>GEO</td>\n      <td>1</td>\n      <td>2019-12-11</td>\n      <td>2019-12-11 15:00:00</td>\n      <td>2019-12-11 20:00:00</td>\n      <td>2019-12-11 15:00:00</td>\n      <td>2019-12-11 20:00:00</td>\n      <td>NaN</td>\n      <td>False</td>\n      <td>False</td>\n    </tr>\n    <tr>\n      <th>5101</th>\n      <td>MGT</td>\n      <td>4</td>\n      <td>2019-12-11</td>\n      <td>2019-12-11 15:00:00</td>\n      <td>2019-12-11 20:00:00</td>\n      <td>2019-12-11 15:00:00</td>\n      <td>2019-12-11 20:00:00</td>\n      <td>NaN</td>\n      <td>False</td>\n      <td>False</td>\n    </tr>\n    <tr>\n      <th>5121</th>\n      <td>AC</td>\n      <td>326</td>\n      <td>2019-12-11</td>\n      <td>2019-12-11 18:00:00</td>\n      <td>2019-12-11 21:00:00</td>\n      <td>2019-12-11 18:00:00</td>\n      <td>2019-12-11 21:00:00</td>\n      <td>NaN</td>\n      <td>False</td>\n      <td>False</td>\n    </tr>\n    <tr>\n      <th>5122</th>\n      <td>AC</td>\n      <td>326</td>\n      <td>2019-12-11</td>\n      <td>2019-12-11 18:00:00</td>\n      <td>2019-12-11 21:00:00</td>\n      <td>2019-12-11 18:00:00</td>\n      <td>2019-12-11 21:00:00</td>\n      <td>NaN</td>\n      <td>False</td>\n      <td>False</td>\n    </tr>\n    <tr>\n      <th>5123</th>\n      <td>AC</td>\n      <td>320</td>\n      <td>2019-12-11</td>\n      <td>2019-12-11 18:00:00</td>\n      <td>2019-12-11 19:53:00</td>\n      <td>2019-12-11 18:00:00</td>\n      <td>2019-12-11 19:53:00</td>\n      <td>NaN</td>\n      <td>False</td>\n      <td>False</td>\n    </tr>\n    <tr>\n      <th>5124</th>\n      <td>AC</td>\n      <td>320</td>\n      <td>2019-12-11</td>\n      <td>2019-12-11 18:00:00</td>\n      <td>2019-12-11 21:00:00</td>\n      <td>2019-12-11 18:00:00</td>\n      <td>2019-12-11 21:00:00</td>\n      <td>NaN</td>\n      <td>False</td>\n      <td>False</td>\n    </tr>\n    <tr>\n      <th>5125</th>\n      <td>AEM</td>\n      <td>3</td>\n      <td>2019-12-11</td>\n      <td>2019-12-11 18:00:00</td>\n      <td>2019-12-11 21:45:00</td>\n      <td>2019-12-11 18:00:00</td>\n      <td>2019-12-11 21:45:00</td>\n      <td>NaN</td>\n      <td>False</td>\n      <td>False</td>\n    </tr>\n    <tr>\n      <th>5126</th>\n      <td>AEM</td>\n      <td>3</td>\n      <td>2019-12-11</td>\n      <td>2019-12-11 18:00:00</td>\n      <td>2019-12-11 23:00:00</td>\n      <td>2019-12-11 18:00:00</td>\n      <td>2019-12-11 23:00:00</td>\n      <td>NaN</td>\n      <td>False</td>\n      <td>False</td>\n    </tr>\n    <tr>\n      <th>5127</th>\n      <td>AEM</td>\n      <td>3</td>\n      <td>2019-12-11</td>\n      <td>2019-12-11 18:00:00</td>\n      <td>2019-12-11 23:00:00</td>\n      <td>2019-12-11 18:00:00</td>\n      <td>2019-12-11 23:00:00</td>\n      <td>NaN</td>\n      <td>False</td>\n      <td>False</td>\n    </tr>\n    <tr>\n      <th>5128</th>\n      <td>AEM</td>\n      <td>3</td>\n      <td>2019-12-11</td>\n      <td>2019-12-11 18:00:00</td>\n      <td>2019-12-11 21:45:00</td>\n      <td>2019-12-11 18:00:00</td>\n      <td>2019-12-11 21:45:00</td>\n      <td>NaN</td>\n      <td>False</td>\n      <td>False</td>\n    </tr>\n    <tr>\n      <th>5130</th>\n      <td>AY</td>\n      <td>3</td>\n      <td>2019-12-11</td>\n      <td>2019-12-11 18:00:00</td>\n      <td>2019-12-11 21:45:00</td>\n      <td>2019-12-11 18:00:00</td>\n      <td>2019-12-11 21:45:00</td>\n      <td>NaN</td>\n      <td>False</td>\n      <td>False</td>\n    </tr>\n    <tr>\n      <th>5132</th>\n      <td>CD</td>\n      <td>1</td>\n      <td>2019-12-11</td>\n      <td>2019-12-11 18:00:00</td>\n      <td>2019-12-11 19:53:00</td>\n      <td>2019-12-11 18:00:00</td>\n      <td>2019-12-11 19:53:00</td>\n      <td>NaN</td>\n      <td>False</td>\n      <td>False</td>\n    </tr>\n    <tr>\n      <th>5133</th>\n      <td>CE</td>\n      <td>1</td>\n      <td>2019-12-11</td>\n      <td>2019-12-11 18:00:00</td>\n      <td>2019-12-11 22:00:00</td>\n      <td>2019-12-11 18:00:00</td>\n      <td>2019-12-11 22:00:00</td>\n      <td>NaN</td>\n      <td>False</td>\n      <td>False</td>\n    </tr>\n    <tr>\n      <th>5134</th>\n      <td>CH</td>\n      <td>3</td>\n      <td>2019-12-11</td>\n      <td>2019-12-11 18:00:00</td>\n      <td>2019-12-11 21:45:00</td>\n      <td>2019-12-11 18:00:00</td>\n      <td>2019-12-11 21:45:00</td>\n      <td>NaN</td>\n      <td>False</td>\n      <td>False</td>\n    </tr>\n    <tr>\n      <th>5136</th>\n      <td>CH</td>\n      <td>2</td>\n      <td>2019-12-11</td>\n      <td>2019-12-11 18:00:00</td>\n      <td>2019-12-11 21:45:00</td>\n      <td>2019-12-11 18:00:00</td>\n      <td>2019-12-11 21:45:00</td>\n      <td>NaN</td>\n      <td>False</td>\n      <td>False</td>\n    </tr>\n    <tr>\n      <th>5138</th>\n      <td>CH</td>\n      <td>2</td>\n      <td>2019-12-11</td>\n      <td>2019-12-11 18:00:00</td>\n      <td>2019-12-11 23:00:00</td>\n      <td>2019-12-11 18:00:00</td>\n      <td>2019-12-11 23:00:00</td>\n      <td>NaN</td>\n      <td>False</td>\n      <td>False</td>\n    </tr>\n    <tr>\n      <th>5139</th>\n      <td>CH</td>\n      <td>2</td>\n      <td>2019-12-11</td>\n      <td>2019-12-11 18:00:00</td>\n      <td>2019-12-11 23:00:00</td>\n      <td>2019-12-11 18:00:00</td>\n      <td>2019-12-11 23:00:00</td>\n      <td>NaN</td>\n      <td>False</td>\n      <td>False</td>\n    </tr>\n    <tr>\n      <th>5140</th>\n      <td>CH</td>\n      <td>3</td>\n      <td>2019-12-11</td>\n      <td>2019-12-11 18:00:00</td>\n      <td>2019-12-11 20:00:00</td>\n      <td>2019-12-11 18:00:00</td>\n      <td>2019-12-11 20:00:00</td>\n      <td>NaN</td>\n      <td>False</td>\n      <td>False</td>\n    </tr>\n    <tr>\n      <th>5142</th>\n      <td>CHE</td>\n      <td>2</td>\n      <td>2019-12-11</td>\n      <td>2019-12-11 18:00:00</td>\n      <td>2019-12-11 20:30:00</td>\n      <td>2019-12-11 18:00:00</td>\n      <td>2019-12-11 20:30:00</td>\n      <td>NaN</td>\n      <td>False</td>\n      <td>False</td>\n    </tr>\n    <tr>\n      <th>5143</th>\n      <td>CHE</td>\n      <td>1</td>\n      <td>2019-12-11</td>\n      <td>2019-12-11 18:00:00</td>\n      <td>2019-12-11 23:00:00</td>\n      <td>2019-12-11 18:00:00</td>\n      <td>2019-12-11 23:00:00</td>\n      <td>NaN</td>\n      <td>False</td>\n      <td>False</td>\n    </tr>\n    <tr>\n      <th>5144</th>\n      <td>CJ</td>\n      <td>320</td>\n      <td>2019-12-11</td>\n      <td>2019-12-11 18:00:00</td>\n      <td>2019-12-11 23:00:00</td>\n      <td>2019-12-11 18:00:00</td>\n      <td>2019-12-11 23:00:00</td>\n      <td>NaN</td>\n      <td>False</td>\n      <td>False</td>\n    </tr>\n    <tr>\n      <th>5146</th>\n      <td>CS</td>\n      <td>1</td>\n      <td>2019-12-11</td>\n      <td>2019-12-11 18:00:00</td>\n      <td>2019-12-11 23:00:00</td>\n      <td>2019-12-11 18:00:00</td>\n      <td>2019-12-11 23:00:00</td>\n      <td>NaN</td>\n      <td>False</td>\n      <td>False</td>\n    </tr>\n    <tr>\n      <th>5148</th>\n      <td>EC</td>\n      <td>320</td>\n      <td>2019-12-11</td>\n      <td>2019-12-11 18:00:00</td>\n      <td>2019-12-11 23:00:00</td>\n      <td>2019-12-11 18:00:00</td>\n      <td>2019-12-11 23:00:00</td>\n      <td>NaN</td>\n      <td>False</td>\n      <td>False</td>\n    </tr>\n    <tr>\n      <th>5150</th>\n      <td>EC</td>\n      <td>320</td>\n      <td>2019-12-11</td>\n      <td>2019-12-11 18:00:00</td>\n      <td>2019-12-11 21:45:00</td>\n      <td>2019-12-11 18:00:00</td>\n      <td>2019-12-11 21:45:00</td>\n      <td>NaN</td>\n      <td>False</td>\n      <td>False</td>\n    </tr>\n    <tr>\n      <th>5151</th>\n      <td>EC</td>\n      <td>321</td>\n      <td>2019-12-11</td>\n      <td>2019-12-11 18:00:00</td>\n      <td>2019-12-11 23:00:00</td>\n      <td>2019-12-11 18:00:00</td>\n      <td>2019-12-11 23:00:00</td>\n      <td>NaN</td>\n      <td>False</td>\n      <td>False</td>\n    </tr>\n    <tr>\n      <th>5152</th>\n      <td>ECE</td>\n      <td>1</td>\n      <td>2019-12-11</td>\n      <td>2019-12-11 18:00:00</td>\n      <td>2019-12-11 23:00:00</td>\n      <td>2019-12-11 18:00:00</td>\n      <td>2019-12-11 23:00:00</td>\n      <td>NaN</td>\n      <td>False</td>\n      <td>False</td>\n    </tr>\n    <tr>\n      <th>5156</th>\n      <td>MATH</td>\n      <td>2</td>\n      <td>2019-12-11</td>\n      <td>2019-12-11 18:00:00</td>\n      <td>2019-12-11 23:00:00</td>\n      <td>2019-12-11 18:00:00</td>\n      <td>2019-12-11 23:00:00</td>\n      <td>NaN</td>\n      <td>False</td>\n      <td>False</td>\n    </tr>\n    <tr>\n      <th>5157</th>\n      <td>MATH</td>\n      <td>3</td>\n      <td>2019-12-11</td>\n      <td>2019-12-11 18:00:00</td>\n      <td>2019-12-11 21:45:00</td>\n      <td>2019-12-11 18:00:00</td>\n      <td>2019-12-11 21:45:00</td>\n      <td>NaN</td>\n      <td>False</td>\n      <td>False</td>\n    </tr>\n    <tr>\n      <th>5158</th>\n      <td>MATH</td>\n      <td>3</td>\n      <td>2019-12-11</td>\n      <td>2019-12-11 18:00:00</td>\n      <td>2019-12-11 21:45:00</td>\n      <td>2019-12-11 18:00:00</td>\n      <td>2019-12-11 21:45:00</td>\n      <td>NaN</td>\n      <td>False</td>\n      <td>False</td>\n    </tr>\n    <tr>\n      <th>5159</th>\n      <td>MATH</td>\n      <td>3</td>\n      <td>2019-12-11</td>\n      <td>2019-12-11 18:00:00</td>\n      <td>2019-12-11 21:45:00</td>\n      <td>2019-12-11 18:00:00</td>\n      <td>2019-12-11 21:45:00</td>\n      <td>NaN</td>\n      <td>False</td>\n      <td>False</td>\n    </tr>\n    <tr>\n      <th>5160</th>\n      <td>MATH</td>\n      <td>3</td>\n      <td>2019-12-11</td>\n      <td>2019-12-11 18:00:00</td>\n      <td>2019-12-11 23:00:00</td>\n      <td>2019-12-11 18:00:00</td>\n      <td>2019-12-11 23:00:00</td>\n      <td>NaN</td>\n      <td>False</td>\n      <td>False</td>\n    </tr>\n    <tr>\n      <th>5163</th>\n      <td>MATH</td>\n      <td>3</td>\n      <td>2019-12-11</td>\n      <td>2019-12-11 18:00:00</td>\n      <td>2019-12-11 21:45:00</td>\n      <td>2019-12-11 18:00:00</td>\n      <td>2019-12-11 21:45:00</td>\n      <td>NaN</td>\n      <td>False</td>\n      <td>False</td>\n    </tr>\n    <tr>\n      <th>5165</th>\n      <td>MGT</td>\n      <td>320</td>\n      <td>2019-12-11</td>\n      <td>2019-12-11 18:00:00</td>\n      <td>2019-12-11 21:45:00</td>\n      <td>2019-12-11 18:00:00</td>\n      <td>2019-12-11 21:45:00</td>\n      <td>NaN</td>\n      <td>False</td>\n      <td>False</td>\n    </tr>\n    <tr>\n      <th>5167</th>\n      <td>MGT</td>\n      <td>324</td>\n      <td>2019-12-11</td>\n      <td>2019-12-11 18:00:00</td>\n      <td>2019-12-11 20:30:00</td>\n      <td>2019-12-11 18:00:00</td>\n      <td>2019-12-11 20:30:00</td>\n      <td>NaN</td>\n      <td>False</td>\n      <td>False</td>\n    </tr>\n    <tr>\n      <th>5168</th>\n      <td>MGT</td>\n      <td>324</td>\n      <td>2019-12-11</td>\n      <td>2019-12-11 18:00:00</td>\n      <td>2019-12-11 20:30:00</td>\n      <td>2019-12-11 18:00:00</td>\n      <td>2019-12-11 20:30:00</td>\n      <td>NaN</td>\n      <td>False</td>\n      <td>False</td>\n    </tr>\n    <tr>\n      <th>5170</th>\n      <td>NHM</td>\n      <td>2</td>\n      <td>2019-12-11</td>\n      <td>2019-12-11 18:00:00</td>\n      <td>2019-12-11 19:15:00</td>\n      <td>2019-12-11 18:00:00</td>\n      <td>2019-12-11 19:15:00</td>\n      <td>NaN</td>\n      <td>False</td>\n      <td>False</td>\n    </tr>\n    <tr>\n      <th>5171</th>\n      <td>PH</td>\n      <td>6</td>\n      <td>2019-12-11</td>\n      <td>2019-12-11 18:00:00</td>\n      <td>2019-12-11 21:45:00</td>\n      <td>2019-12-11 18:00:00</td>\n      <td>2019-12-11 21:45:00</td>\n      <td>NaN</td>\n      <td>False</td>\n      <td>False</td>\n    </tr>\n    <tr>\n      <th>5172</th>\n      <td>PH</td>\n      <td>6</td>\n      <td>2019-12-11</td>\n      <td>2019-12-11 18:00:00</td>\n      <td>2019-12-11 21:45:00</td>\n      <td>2019-12-11 18:00:00</td>\n      <td>2019-12-11 21:45:00</td>\n      <td>NaN</td>\n      <td>False</td>\n      <td>False</td>\n    </tr>\n    <tr>\n      <th>5173</th>\n      <td>PY</td>\n      <td>2</td>\n      <td>2019-12-11</td>\n      <td>2019-12-11 18:00:00</td>\n      <td>2019-12-11 21:45:00</td>\n      <td>2019-12-11 18:00:00</td>\n      <td>2019-12-11 21:45:00</td>\n      <td>NaN</td>\n      <td>False</td>\n      <td>False</td>\n    </tr>\n    <tr>\n      <th>5174</th>\n      <td>PH</td>\n      <td>6</td>\n      <td>2019-12-11</td>\n      <td>2019-12-11 18:10:00</td>\n      <td>2019-12-11 23:10:00</td>\n      <td>2019-12-11 18:10:00</td>\n      <td>2019-12-11 23:10:00</td>\n      <td>NaN</td>\n      <td>False</td>\n      <td>False</td>\n    </tr>\n    <tr>\n      <th>5276</th>\n      <td>BSC</td>\n      <td>4</td>\n      <td>2019-12-12</td>\n      <td>2019-12-12 13:00:00</td>\n      <td>2019-12-12 14:30:00</td>\n      <td>2019-12-12 13:00:00</td>\n      <td>2019-12-12 14:30:00</td>\n      <td>NaN</td>\n      <td>False</td>\n      <td>False</td>\n    </tr>\n    <tr>\n      <th>5362</th>\n      <td>ECE</td>\n      <td>1</td>\n      <td>2019-12-12</td>\n      <td>2019-12-12 17:55:00</td>\n      <td>2019-12-12 22:55:00</td>\n      <td>2019-12-12 17:55:00</td>\n      <td>2019-12-12 22:55:00</td>\n      <td>NaN</td>\n      <td>False</td>\n      <td>False</td>\n    </tr>\n    <tr>\n      <th>5364</th>\n      <td>AC</td>\n      <td>3</td>\n      <td>2019-12-12</td>\n      <td>2019-12-12 18:00:00</td>\n      <td>2019-12-12 20:15:00</td>\n      <td>2019-12-12 18:00:00</td>\n      <td>2019-12-12 20:15:00</td>\n      <td>NaN</td>\n      <td>False</td>\n      <td>False</td>\n    </tr>\n    <tr>\n      <th>5366</th>\n      <td>AEM</td>\n      <td>1</td>\n      <td>2019-12-12</td>\n      <td>2019-12-12 18:00:00</td>\n      <td>2019-12-12 21:45:00</td>\n      <td>2019-12-12 18:00:00</td>\n      <td>2019-12-12 21:45:00</td>\n      <td>NaN</td>\n      <td>False</td>\n      <td>False</td>\n    </tr>\n    <tr>\n      <th>5367</th>\n      <td>AEM</td>\n      <td>5</td>\n      <td>2019-12-12</td>\n      <td>2019-12-12 18:00:00</td>\n      <td>2019-12-12 21:45:00</td>\n      <td>2019-12-12 18:00:00</td>\n      <td>2019-12-12 21:45:00</td>\n      <td>NaN</td>\n      <td>False</td>\n      <td>False</td>\n    </tr>\n    <tr>\n      <th>5368</th>\n      <td>AEM</td>\n      <td>3</td>\n      <td>2019-12-12</td>\n      <td>2019-12-12 18:00:00</td>\n      <td>2019-12-12 23:00:00</td>\n      <td>2019-12-12 18:00:00</td>\n      <td>2019-12-12 23:00:00</td>\n      <td>NaN</td>\n      <td>False</td>\n      <td>False</td>\n    </tr>\n    <tr>\n      <th>5373</th>\n      <td>CH</td>\n      <td>5</td>\n      <td>2019-12-12</td>\n      <td>2019-12-12 18:00:00</td>\n      <td>2019-12-12 21:45:00</td>\n      <td>2019-12-12 18:00:00</td>\n      <td>2019-12-12 21:45:00</td>\n      <td>NaN</td>\n      <td>False</td>\n      <td>False</td>\n    </tr>\n    <tr>\n      <th>5374</th>\n      <td>CH</td>\n      <td>6</td>\n      <td>2019-12-12</td>\n      <td>2019-12-12 18:00:00</td>\n      <td>2019-12-12 21:45:00</td>\n      <td>2019-12-12 18:00:00</td>\n      <td>2019-12-12 21:45:00</td>\n      <td>NaN</td>\n      <td>False</td>\n      <td>False</td>\n    </tr>\n    <tr>\n      <th>5375</th>\n      <td>CH</td>\n      <td>1</td>\n      <td>2019-12-12</td>\n      <td>2019-12-12 18:00:00</td>\n      <td>2019-12-12 21:00:00</td>\n      <td>2019-12-12 18:00:00</td>\n      <td>2019-12-12 21:00:00</td>\n      <td>NaN</td>\n      <td>False</td>\n      <td>False</td>\n    </tr>\n    <tr>\n      <th>5377</th>\n      <td>CH</td>\n      <td>1</td>\n      <td>2019-12-12</td>\n      <td>2019-12-12 18:00:00</td>\n      <td>2019-12-12 22:00:00</td>\n      <td>2019-12-12 18:00:00</td>\n      <td>2019-12-12 22:00:00</td>\n      <td>NaN</td>\n      <td>False</td>\n      <td>False</td>\n    </tr>\n    <tr>\n      <th>5378</th>\n      <td>CH</td>\n      <td>1</td>\n      <td>2019-12-12</td>\n      <td>2019-12-12 18:00:00</td>\n      <td>2019-12-12 21:00:00</td>\n      <td>2019-12-12 18:00:00</td>\n      <td>2019-12-12 21:00:00</td>\n      <td>NaN</td>\n      <td>False</td>\n      <td>False</td>\n    </tr>\n    <tr>\n      <th>5381</th>\n      <td>EC</td>\n      <td>1</td>\n      <td>2019-12-12</td>\n      <td>2019-12-12 18:00:00</td>\n      <td>2019-12-12 21:45:00</td>\n      <td>2019-12-12 18:00:00</td>\n      <td>2019-12-12 21:45:00</td>\n      <td>NaN</td>\n      <td>False</td>\n      <td>False</td>\n    </tr>\n    <tr>\n      <th>5382</th>\n      <td>ECE</td>\n      <td>1</td>\n      <td>2019-12-12</td>\n      <td>2019-12-12 18:00:00</td>\n      <td>2019-12-12 21:45:00</td>\n      <td>2019-12-12 18:00:00</td>\n      <td>2019-12-12 21:45:00</td>\n      <td>NaN</td>\n      <td>False</td>\n      <td>False</td>\n    </tr>\n    <tr>\n      <th>5385</th>\n      <td>FR</td>\n      <td>1</td>\n      <td>2019-12-12</td>\n      <td>2019-12-12 18:00:00</td>\n      <td>2019-12-12 22:30:00</td>\n      <td>2019-12-12 18:00:00</td>\n      <td>2019-12-12 22:30:00</td>\n      <td>NaN</td>\n      <td>False</td>\n      <td>False</td>\n    </tr>\n    <tr>\n      <th>5386</th>\n      <td>MATH</td>\n      <td>1</td>\n      <td>2019-12-12</td>\n      <td>2019-12-12 18:00:00</td>\n      <td>2019-12-12 23:00:00</td>\n      <td>2019-12-12 18:00:00</td>\n      <td>2019-12-12 23:00:00</td>\n      <td>NaN</td>\n      <td>False</td>\n      <td>False</td>\n    </tr>\n    <tr>\n      <th>5387</th>\n      <td>MATH</td>\n      <td>7</td>\n      <td>2019-12-12</td>\n      <td>2019-12-12 18:00:00</td>\n      <td>2019-12-12 21:45:00</td>\n      <td>2019-12-12 18:00:00</td>\n      <td>2019-12-12 21:45:00</td>\n      <td>NaN</td>\n      <td>False</td>\n      <td>False</td>\n    </tr>\n    <tr>\n      <th>5388</th>\n      <td>MATH</td>\n      <td>10</td>\n      <td>2019-12-12</td>\n      <td>2019-12-12 18:00:00</td>\n      <td>2019-12-12 21:45:00</td>\n      <td>2019-12-12 18:00:00</td>\n      <td>2019-12-12 21:45:00</td>\n      <td>NaN</td>\n      <td>False</td>\n      <td>False</td>\n    </tr>\n    <tr>\n      <th>5389</th>\n      <td>MATH</td>\n      <td>6</td>\n      <td>2019-12-12</td>\n      <td>2019-12-12 18:00:00</td>\n      <td>2019-12-12 21:45:00</td>\n      <td>2019-12-12 18:00:00</td>\n      <td>2019-12-12 21:45:00</td>\n      <td>NaN</td>\n      <td>False</td>\n      <td>False</td>\n    </tr>\n    <tr>\n      <th>5390</th>\n      <td>ME</td>\n      <td>1</td>\n      <td>2019-12-12</td>\n      <td>2019-12-12 18:00:00</td>\n      <td>2019-12-12 21:45:00</td>\n      <td>2019-12-12 18:00:00</td>\n      <td>2019-12-12 21:45:00</td>\n      <td>NaN</td>\n      <td>False</td>\n      <td>False</td>\n    </tr>\n    <tr>\n      <th>5391</th>\n      <td>ME</td>\n      <td>1</td>\n      <td>2019-12-12</td>\n      <td>2019-12-12 18:00:00</td>\n      <td>2019-12-12 23:00:00</td>\n      <td>2019-12-12 18:00:00</td>\n      <td>2019-12-12 23:00:00</td>\n      <td>NaN</td>\n      <td>False</td>\n      <td>False</td>\n    </tr>\n    <tr>\n      <th>5392</th>\n      <td>ME</td>\n      <td>1</td>\n      <td>2019-12-12</td>\n      <td>2019-12-12 18:00:00</td>\n      <td>2019-12-12 21:45:00</td>\n      <td>2019-12-12 18:00:00</td>\n      <td>2019-12-12 21:45:00</td>\n      <td>NaN</td>\n      <td>False</td>\n      <td>False</td>\n    </tr>\n    <tr>\n      <th>5398</th>\n      <td>ME</td>\n      <td>1</td>\n      <td>2019-12-12</td>\n      <td>2019-12-12 18:00:00</td>\n      <td>2019-12-12 23:00:00</td>\n      <td>2019-12-12 18:00:00</td>\n      <td>2019-12-12 23:00:00</td>\n      <td>NaN</td>\n      <td>False</td>\n      <td>False</td>\n    </tr>\n    <tr>\n      <th>5399</th>\n      <td>ME</td>\n      <td>1</td>\n      <td>2019-12-12</td>\n      <td>2019-12-12 18:00:00</td>\n      <td>2019-12-12 21:45:00</td>\n      <td>2019-12-12 18:00:00</td>\n      <td>2019-12-12 21:45:00</td>\n      <td>NaN</td>\n      <td>False</td>\n      <td>False</td>\n    </tr>\n    <tr>\n      <th>5401</th>\n      <td>ME</td>\n      <td>1</td>\n      <td>2019-12-12</td>\n      <td>2019-12-12 18:00:00</td>\n      <td>2019-12-12 23:00:00</td>\n      <td>2019-12-12 18:00:00</td>\n      <td>2019-12-12 23:00:00</td>\n      <td>NaN</td>\n      <td>False</td>\n      <td>False</td>\n    </tr>\n    <tr>\n      <th>5402</th>\n      <td>ME</td>\n      <td>1</td>\n      <td>2019-12-12</td>\n      <td>2019-12-12 18:00:00</td>\n      <td>2019-12-12 23:00:00</td>\n      <td>2019-12-12 18:00:00</td>\n      <td>2019-12-12 23:00:00</td>\n      <td>NaN</td>\n      <td>False</td>\n      <td>False</td>\n    </tr>\n    <tr>\n      <th>5403</th>\n      <td>ME</td>\n      <td>1</td>\n      <td>2019-12-12</td>\n      <td>2019-12-12 18:00:00</td>\n      <td>2019-12-12 21:45:00</td>\n      <td>2019-12-12 18:00:00</td>\n      <td>2019-12-12 21:45:00</td>\n      <td>NaN</td>\n      <td>False</td>\n      <td>False</td>\n    </tr>\n    <tr>\n      <th>5404</th>\n      <td>NHM</td>\n      <td>910</td>\n      <td>2019-12-12</td>\n      <td>2019-12-12 18:00:00</td>\n      <td>2019-12-12 22:00:00</td>\n      <td>2019-12-12 18:00:00</td>\n      <td>2019-12-12 22:00:00</td>\n      <td>NaN</td>\n      <td>False</td>\n      <td>False</td>\n    </tr>\n    <tr>\n      <th>5406</th>\n      <td>PY</td>\n      <td>1</td>\n      <td>2019-12-12</td>\n      <td>2019-12-12 18:00:00</td>\n      <td>2019-12-12 20:30:00</td>\n      <td>2019-12-12 18:00:00</td>\n      <td>2019-12-12 20:30:00</td>\n      <td>NaN</td>\n      <td>False</td>\n      <td>False</td>\n    </tr>\n    <tr>\n      <th>5407</th>\n      <td>CH</td>\n      <td>1</td>\n      <td>2019-12-12</td>\n      <td>2019-12-12 18:05:00</td>\n      <td>2019-12-12 22:05:00</td>\n      <td>2019-12-12 18:05:00</td>\n      <td>2019-12-12 22:05:00</td>\n      <td>NaN</td>\n      <td>False</td>\n      <td>False</td>\n    </tr>\n    <tr>\n      <th>5408</th>\n      <td>MATH</td>\n      <td>3</td>\n      <td>2019-12-12</td>\n      <td>2019-12-12 18:05:00</td>\n      <td>2019-12-12 23:05:00</td>\n      <td>2019-12-12 18:05:00</td>\n      <td>2019-12-12 23:05:00</td>\n      <td>NaN</td>\n      <td>False</td>\n      <td>False</td>\n    </tr>\n    <tr>\n      <th>5409</th>\n      <td>ME</td>\n      <td>1</td>\n      <td>2019-12-12</td>\n      <td>2019-12-12 18:05:00</td>\n      <td>2019-12-12 23:05:00</td>\n      <td>2019-12-12 18:05:00</td>\n      <td>2019-12-12 23:05:00</td>\n      <td>NaN</td>\n      <td>False</td>\n      <td>False</td>\n    </tr>\n    <tr>\n      <th>5651</th>\n      <td>MGT</td>\n      <td>102</td>\n      <td>2019-07-26</td>\n      <td>2019-07-26 10:00:00</td>\n      <td>2019-07-26 13:30:00</td>\n      <td>2019-07-26 10:00:00</td>\n      <td>2019-07-26 13:30:00</td>\n      <td>NaN</td>\n      <td>False</td>\n      <td>False</td>\n    </tr>\n    <tr>\n      <th>5957</th>\n      <td>AEM</td>\n      <td>3</td>\n      <td>2021-02-23</td>\n      <td>2021-02-23 14:05:00</td>\n      <td>2021-02-23 16:20:00</td>\n      <td>2021-02-23 14:05:00</td>\n      <td>2021-02-23 16:20:00</td>\n      <td>NaN</td>\n      <td>False</td>\n      <td>False</td>\n    </tr>\n    <tr>\n      <th>6293</th>\n      <td>CH</td>\n      <td>2</td>\n      <td>2021-03-30</td>\n      <td>2021-03-30 17:30:00</td>\n      <td>2021-03-30 20:10:00</td>\n      <td>2021-03-30 17:30:00</td>\n      <td>2021-03-30 20:10:00</td>\n      <td>NaN</td>\n      <td>False</td>\n      <td>False</td>\n    </tr>\n    <tr>\n      <th>6632</th>\n      <td>COM</td>\n      <td>1</td>\n      <td>2021-04-30</td>\n      <td>2021-04-30 10:00:00</td>\n      <td>2021-04-30 11:30:00</td>\n      <td>2021-04-30 10:00:00</td>\n      <td>2021-04-30 11:30:00</td>\n      <td>NaN</td>\n      <td>False</td>\n      <td>False</td>\n    </tr>\n    <tr>\n      <th>6658</th>\n      <td>CE</td>\n      <td>320</td>\n      <td>2020-09-15</td>\n      <td>2020-09-15 12:25:00</td>\n      <td>2020-09-15 14:55:00</td>\n      <td>2020-09-15 12:25:00</td>\n      <td>2020-09-15 14:55:00</td>\n      <td>NaN</td>\n      <td>False</td>\n      <td>False</td>\n    </tr>\n    <tr>\n      <th>6750</th>\n      <td>CH</td>\n      <td>2</td>\n      <td>2020-09-30</td>\n      <td>2020-09-30 15:50:00</td>\n      <td>2020-09-30 17:50:00</td>\n      <td>2020-09-30 15:50:00</td>\n      <td>2020-09-30 17:50:00</td>\n      <td>NaN</td>\n      <td>False</td>\n      <td>False</td>\n    </tr>\n  </tbody>\n</table>\n</div>"
     },
     "execution_count": 44,
     "metadata": {},
     "output_type": "execute_result"
    }
   ],
   "source": [
    "ods.loc[(ods['actual_time'].isna()) & (ods['no_show']== False) & (ods['exam_cancelled']==False), \n",
    "        ['subject', 'section','exam_date', 'start_time', 'end_time', 'actual_start', 'actual_end', \n",
    "         'actual_time', 'no_show', 'exam_cancelled']]"
   ]
  },
  {
   "cell_type": "code",
   "execution_count": 45,
   "metadata": {},
   "outputs": [],
   "source": [
    "index = ods.loc[(ods['actual_time'].isna()) & (ods['no_show']== False) & (ods['exam_cancelled']==False), \n",
    "        ['subject', 'section','exam_date', 'start_time', 'end_time', 'actual_start', 'actual_end', \n",
    "         'actual_time', 'no_show', 'exam_cancelled']].index\n",
    "\n",
    "\n",
    "ods.drop(index=index, inplace=True)"
   ]
  },
  {
   "cell_type": "markdown",
   "metadata": {},
   "source": [
    "#### *Now the only column where there should be nulls are in actual_time*"
   ]
  },
  {
   "cell_type": "markdown",
   "metadata": {},
   "source": [
    "*Let's fix the dytpes before exporting (for pickled files)*"
   ]
  },
  {
   "cell_type": "code",
   "execution_count": 46,
   "metadata": {},
   "outputs": [],
   "source": [
    "ods['subject'] = ods['subject'].astype('string')\n",
    "ods['section'] = ods['section'].astype('string')\n",
    "ods['proctor'] = ods['proctor'].astype('string')\n",
    "ods['fileUploaded'] = ods['fileUploaded'].astype('bool')\n",
    "ods['received_as_paper_copy'] = ods['received_as_paper_copy'].astype('bool')\n",
    "ods['rescheduled'] = ods['rescheduled'].astype('int64')\n",
    "ods['breaks_during_exams'] = ods['breaks_during_exams'].astype('bool')\n",
    "ods['extra_time_1.50x'] = ods['extra_time_1.50x'].astype('bool')\n",
    "ods['extra_time_2.00x'] = ods['extra_time_2.00x'].astype('bool')\n",
    "ods['makeup_accommodation'] = ods['makeup_accommodation'].astype('bool')\n",
    "ods['noScantronExam'] = ods['noScantronExam'].astype('bool')\n",
    "ods['readerForExams'] = ods['readerForExams'].astype('bool')\n",
    "ods['allotted_time'] = ods['allotted_time'].astype('int64')\n",
    "ods['actual_time'] = ods['actual_time'].astype('int64', errors='ignore')\n",
    "\n"
   ]
  },
  {
   "cell_type": "markdown",
   "metadata": {},
   "source": [
    "***Now that all actual_time values that have a nulls are only those values in which exam_cancelled or no show is true, we can fill those nulls with zero. Should we want to evaluate any statisical measure of actual_time, we can simply filter out those values where exam_cancelled, or no_show is true***"
   ]
  },
  {
   "cell_type": "code",
   "execution_count": 47,
   "metadata": {},
   "outputs": [],
   "source": [
    "ods.fillna(value=0, inplace=True)"
   ]
  },
  {
   "cell_type": "code",
   "execution_count": 48,
   "metadata": {},
   "outputs": [],
   "source": [
    "# Convert 'actual_time' to 'int64'\n",
    "ods['actual_time'] = ods['actual_time'].astype('int64')"
   ]
  },
  {
   "cell_type": "code",
   "execution_count": 49,
   "metadata": {},
   "outputs": [
    {
     "name": "stdout",
     "output_type": "stream",
     "text": [
      "<class 'pandas.core.frame.DataFrame'>\n",
      "Int64Index: 9431 entries, 0 to 9550\n",
      "Data columns (total 25 columns):\n",
      " #   Column                  Non-Null Count  Dtype         \n",
      "---  ------                  --------------  -----         \n",
      " 0   subject                 9431 non-null   string        \n",
      " 1   section                 9431 non-null   string        \n",
      " 2   exam_date               9431 non-null   datetime64[ns]\n",
      " 3   proctor                 9431 non-null   string        \n",
      " 4   room_number             9431 non-null   string        \n",
      " 5   start_time              9431 non-null   datetime64[ns]\n",
      " 6   end_time                9431 non-null   datetime64[ns]\n",
      " 7   actual_start            9431 non-null   datetime64[ns]\n",
      " 8   actual_end              9431 non-null   datetime64[ns]\n",
      " 9   first_entered           9431 non-null   datetime64[ns]\n",
      " 10  fileUploaded            9431 non-null   bool          \n",
      " 11  received_as_paper_copy  9431 non-null   bool          \n",
      " 12  rescheduled             9431 non-null   int64         \n",
      " 13  breaks_during_exams     9431 non-null   bool          \n",
      " 14  extra_time_1.50x        9431 non-null   bool          \n",
      " 15  extra_time_2.00x        9431 non-null   bool          \n",
      " 16  makeup_accommodation    9431 non-null   bool          \n",
      " 17  noScantronExam          9431 non-null   bool          \n",
      " 18  readerForExams          9431 non-null   bool          \n",
      " 19  allotted_time           9431 non-null   int64         \n",
      " 20  actual_time             9431 non-null   int64         \n",
      " 21  exam_cancelled          9431 non-null   bool          \n",
      " 22  no_show                 9431 non-null   bool          \n",
      " 23  requested_in_advance    9431 non-null   int64         \n",
      " 24  name_of_day             9431 non-null   object        \n",
      "dtypes: bool(10), datetime64[ns](6), int64(4), object(1), string(4)\n",
      "memory usage: 1.2+ MB\n"
     ]
    }
   ],
   "source": [
    "ods.info()"
   ]
  },
  {
   "cell_type": "markdown",
   "metadata": {},
   "source": [
    "*Looks good. Now we can export to store this in our database*"
   ]
  },
  {
   "cell_type": "markdown",
   "metadata": {},
   "source": [
    "## Exporting to CSV for PostgreSQL and Pickle"
   ]
  },
  {
   "cell_type": "code",
   "execution_count": 50,
   "metadata": {},
   "outputs": [],
   "source": [
    "ods.to_csv('postgres_export_ods_v05.csv')\n",
    "\n",
    "# Create a pickled file so that dtypes are saved in case we do analysis in another notebook\n",
    "ods.to_pickle('pickled_export_ods_v05.pkl')"
   ]
  },
  {
   "cell_type": "markdown",
   "metadata": {},
   "source": [
    "## Using Visualizations to Guide Cleaning Process in PostgreSQL"
   ]
  },
  {
   "cell_type": "code",
   "execution_count": 51,
   "metadata": {},
   "outputs": [
    {
     "data": {
      "text/plain": "<AxesSubplot:>"
     },
     "execution_count": 51,
     "metadata": {},
     "output_type": "execute_result"
    },
    {
     "data": {
      "text/plain": "<Figure size 720x720 with 1 Axes>",
      "image/png": "[encoded data removed]"
     },
     "metadata": {
      "needs_background": "light"
     },
     "output_type": "display_data"
    }
   ],
   "source": [
    "ods['allotted_time'].hist(bins=50, figsize=(10,10))"
   ]
  },
  {
   "cell_type": "code",
   "execution_count": 52,
   "metadata": {},
   "outputs": [
    {
     "data": {
      "text/plain": "<AxesSubplot:>"
     },
     "execution_count": 52,
     "metadata": {},
     "output_type": "execute_result"
    },
    {
     "data": {
      "text/plain": "<Figure size 720x720 with 1 Axes>",
      "image/png": "[encoded data removed]"
     },
     "metadata": {
      "needs_background": "light"
     },
     "output_type": "display_data"
    }
   ],
   "source": [
    "ods['actual_time'].hist(bins=50, figsize=(10,10))"
   ]
  },
  {
   "cell_type": "code",
   "execution_count": 53,
   "metadata": {},
   "outputs": [
    {
     "data": {
      "text/plain": "<AxesSubplot:>"
     },
     "execution_count": 53,
     "metadata": {},
     "output_type": "execute_result"
    },
    {
     "data": {
      "text/plain": "<Figure size 720x720 with 1 Axes>",
      "image/png": "[encoded data removed]"
     },
     "metadata": {
      "needs_background": "light"
     },
     "output_type": "display_data"
    }
   ],
   "source": [
    "ods['allotted_time'].plot(kind='box', figsize=(10,10))"
   ]
  },
  {
   "cell_type": "code",
   "execution_count": 54,
   "metadata": {},
   "outputs": [
    {
     "data": {
      "text/plain": "<AxesSubplot:>"
     },
     "execution_count": 54,
     "metadata": {},
     "output_type": "execute_result"
    },
    {
     "data": {
      "text/plain": "<Figure size 720x720 with 1 Axes>",
      "image/png": "[encoded data removed]"
     },
     "metadata": {
      "needs_background": "light"
     },
     "output_type": "display_data"
    }
   ],
   "source": [
    "ods['actual_time'].plot(kind='box', figsize=(10,10))"
   ]
  },
  {
   "cell_type": "code",
   "execution_count": 55,
   "metadata": {},
   "outputs": [
    {
     "data": {
      "text/plain": "       allotted_time  actual_time  requested_in_advance\ncount    9431.000000  9431.000000           9431.000000\nmean      136.077722    70.061923             32.627611\nstd        58.475543    58.486608             30.550225\nmin         8.000000     0.000000              0.000000\n25%       100.000000    28.000000              7.000000\n50%       120.000000    64.000000             22.000000\n75%       150.000000   103.000000             52.000000\nmax       480.000000   480.000000            116.000000",
      "text/html": "<div>\n<style scoped>\n    .dataframe tbody tr th:only-of-type {\n        vertical-align: middle;\n    }\n\n    .dataframe tbody tr th {\n        vertical-align: top;\n    }\n\n    .dataframe thead th {\n        text-align: right;\n    }\n</style>\n<table border=\"1\" class=\"dataframe\">\n  <thead>\n    <tr style=\"text-align: right;\">\n      <th></th>\n      <th>allotted_time</th>\n      <th>actual_time</th>\n      <th>requested_in_advance</th>\n    </tr>\n  </thead>\n  <tbody>\n    <tr>\n      <th>count</th>\n      <td>9431.000000</td>\n      <td>9431.000000</td>\n      <td>9431.000000</td>\n    </tr>\n    <tr>\n      <th>mean</th>\n      <td>136.077722</td>\n      <td>70.061923</td>\n      <td>32.627611</td>\n    </tr>\n    <tr>\n      <th>std</th>\n      <td>58.475543</td>\n      <td>58.486608</td>\n      <td>30.550225</td>\n    </tr>\n    <tr>\n      <th>min</th>\n      <td>8.000000</td>\n      <td>0.000000</td>\n      <td>0.000000</td>\n    </tr>\n    <tr>\n      <th>25%</th>\n      <td>100.000000</td>\n      <td>28.000000</td>\n      <td>7.000000</td>\n    </tr>\n    <tr>\n      <th>50%</th>\n      <td>120.000000</td>\n      <td>64.000000</td>\n      <td>22.000000</td>\n    </tr>\n    <tr>\n      <th>75%</th>\n      <td>150.000000</td>\n      <td>103.000000</td>\n      <td>52.000000</td>\n    </tr>\n    <tr>\n      <th>max</th>\n      <td>480.000000</td>\n      <td>480.000000</td>\n      <td>116.000000</td>\n    </tr>\n  </tbody>\n</table>\n</div>"
     },
     "execution_count": 55,
     "metadata": {},
     "output_type": "execute_result"
    }
   ],
   "source": [
    "ods[['allotted_time', 'actual_time', 'requested_in_advance']].describe()"
   ]
  },
  {
   "cell_type": "code",
   "execution_count": 56,
   "metadata": {},
   "outputs": [
    {
     "data": {
      "text/plain": "<AxesSubplot:ylabel='Frequency'>"
     },
     "execution_count": 56,
     "metadata": {},
     "output_type": "execute_result"
    },
    {
     "data": {
      "text/plain": "<Figure size 432x288 with 1 Axes>",
      "image/png": "[encoded data removed]"
     },
     "metadata": {
      "needs_background": "light"
     },
     "output_type": "display_data"
    }
   ],
   "source": [
    "ods['actual_time'].plot(kind='hist', bins=50)"
   ]
  },
  {
   "cell_type": "code",
   "execution_count": 57,
   "metadata": {},
   "outputs": [
    {
     "data": {
      "text/plain": "           allotted_time actual_time\n                    mean        mean\nexam_date                           \n2019-07-18    270.000000    0.000000\n2019-07-19    185.000000    0.000000\n2019-07-22    173.437500    4.375000\n2019-07-23    191.000000  115.600000\n2019-07-24    173.571429   72.571429\n...                  ...         ...\n2021-04-26    208.933333   97.966667\n2021-04-27    215.200000  125.766667\n2021-04-28    209.840909  112.522727\n2021-04-29    229.857143  128.464286\n2021-04-30    235.833333   94.888889\n\n[248 rows x 2 columns]",
      "text/html": "<div>\n<style scoped>\n    .dataframe tbody tr th:only-of-type {\n        vertical-align: middle;\n    }\n\n    .dataframe tbody tr th {\n        vertical-align: top;\n    }\n\n    .dataframe thead tr th {\n        text-align: left;\n    }\n\n    .dataframe thead tr:last-of-type th {\n        text-align: right;\n    }\n</style>\n<table border=\"1\" class=\"dataframe\">\n  <thead>\n    <tr>\n      <th></th>\n      <th>allotted_time</th>\n      <th>actual_time</th>\n    </tr>\n    <tr>\n      <th></th>\n      <th>mean</th>\n      <th>mean</th>\n    </tr>\n    <tr>\n      <th>exam_date</th>\n      <th></th>\n      <th></th>\n    </tr>\n  </thead>\n  <tbody>\n    <tr>\n      <th>2019-07-18</th>\n      <td>270.000000</td>\n      <td>0.000000</td>\n    </tr>\n    <tr>\n      <th>2019-07-19</th>\n      <td>185.000000</td>\n      <td>0.000000</td>\n    </tr>\n    <tr>\n      <th>2019-07-22</th>\n      <td>173.437500</td>\n      <td>4.375000</td>\n    </tr>\n    <tr>\n      <th>2019-07-23</th>\n      <td>191.000000</td>\n      <td>115.600000</td>\n    </tr>\n    <tr>\n      <th>2019-07-24</th>\n      <td>173.571429</td>\n      <td>72.571429</td>\n    </tr>\n    <tr>\n      <th>...</th>\n      <td>...</td>\n      <td>...</td>\n    </tr>\n    <tr>\n      <th>2021-04-26</th>\n      <td>208.933333</td>\n      <td>97.966667</td>\n    </tr>\n    <tr>\n      <th>2021-04-27</th>\n      <td>215.200000</td>\n      <td>125.766667</td>\n    </tr>\n    <tr>\n      <th>2021-04-28</th>\n      <td>209.840909</td>\n      <td>112.522727</td>\n    </tr>\n    <tr>\n      <th>2021-04-29</th>\n      <td>229.857143</td>\n      <td>128.464286</td>\n    </tr>\n    <tr>\n      <th>2021-04-30</th>\n      <td>235.833333</td>\n      <td>94.888889</td>\n    </tr>\n  </tbody>\n</table>\n<p>248 rows × 2 columns</p>\n</div>"
     },
     "execution_count": 57,
     "metadata": {},
     "output_type": "execute_result"
    }
   ],
   "source": [
    "ods.groupby('exam_date')[['allotted_time', 'actual_time']].agg(['mean'])"
   ]
  },
  {
   "cell_type": "code",
   "execution_count": 58,
   "metadata": {},
   "outputs": [
    {
     "data": {
      "text/plain": "     subject section  exam_date      proctor room_number          start_time  \\\n5601     KIN     100 2019-07-18        Bulls          39 2019-07-18 10:00:00   \n5602    MATH     100 2019-07-19        Bulls          40 2019-07-19 10:00:00   \n5603     MGT     102 2019-07-19        Bulls          39 2019-07-19 10:00:00   \n5604     AEM     101 2019-07-19        Bulls          41 2019-07-19 12:00:00   \n5605     GES      50 2019-07-19  Unspecified          42 2019-07-19 12:00:00   \n5606      PY     100 2019-07-19  Unspecified          43 2019-07-19 12:00:00   \n5607      CE     100 2019-07-19  Unspecified          41 2019-07-19 13:15:00   \n5608     ECE     997 2019-07-19  Unspecified          40 2019-07-19 13:45:00   \n5609     AEM     101 2019-07-19        Bulls          39 2019-07-19 14:00:00   \n5610     LGS     910 2019-07-19  Unspecified          41 2019-07-19 14:30:00   \n\n                end_time        actual_start          actual_end  \\\n5601 2019-07-18 14:30:00 2019-07-18 10:00:00 2019-07-18 14:30:00   \n5602 2019-07-19 13:30:00 2019-07-19 10:00:00 2019-07-19 13:30:00   \n5603 2019-07-19 13:30:00 2019-07-19 10:00:00 2019-07-19 13:30:00   \n5604 2019-07-19 14:30:00 2019-07-19 12:00:00 2019-07-19 14:30:00   \n5605 2019-07-19 15:30:00 2019-07-19 12:00:00 2019-07-19 15:30:00   \n5606 2019-07-19 15:00:00 2019-07-19 12:00:00 2019-07-19 15:00:00   \n5607 2019-07-19 16:45:00 2019-07-19 13:15:00 2019-07-19 16:45:00   \n5608 2019-07-19 16:45:00 2019-07-19 13:45:00 2019-07-19 16:45:00   \n5609 2019-07-19 17:00:00 2019-07-19 14:00:00 2019-07-19 17:00:00   \n5610 2019-07-19 16:45:00 2019-07-19 14:30:00 2019-07-19 16:45:00   \n\n           first_entered  ...  extra_time_2.00x  makeup_accommodation  \\\n5601 2019-07-18 11:09:00  ...              True                  True   \n5602 2019-07-18 12:35:00  ...              True                  True   \n5603 2019-07-18 11:28:00  ...              True                  True   \n5604 2019-07-18 11:45:00  ...              True                  True   \n5605 2019-07-18 11:36:00  ...              True                  True   \n5606 2019-07-18 11:43:00  ...              True                  True   \n5607 2019-07-18 11:46:00  ...              True                  True   \n5608 2019-07-18 11:59:00  ...              True                  True   \n5609 2019-07-18 12:40:00  ...              True                  True   \n5610 2019-07-18 12:43:00  ...              True                  True   \n\n      noScantronExam  readerForExams  allotted_time  actual_time  \\\n5601            True            True            270            0   \n5602            True            True            210            0   \n5603            True            True            210            0   \n5604            True            True            150            0   \n5605            True            True            210            0   \n5606            True            True            180            0   \n5607            True            True            210            0   \n5608            True            True            180            0   \n5609            True            True            180            0   \n5610            True            True            135            0   \n\n      exam_cancelled  no_show  requested_in_advance  name_of_day  \n5601            True    False                     0     Thursday  \n5602            True    False                     1       Friday  \n5603            True    False                     1       Friday  \n5604            True    False                     1       Friday  \n5605            True    False                     1       Friday  \n5606            True    False                     1       Friday  \n5607            True    False                     1       Friday  \n5608            True    False                     1       Friday  \n5609            True    False                     1       Friday  \n5610            True    False                     1       Friday  \n\n[10 rows x 25 columns]",
      "text/html": "<div>\n<style scoped>\n    .dataframe tbody tr th:only-of-type {\n        vertical-align: middle;\n    }\n\n    .dataframe tbody tr th {\n        vertical-align: top;\n    }\n\n    .dataframe thead th {\n        text-align: right;\n    }\n</style>\n<table border=\"1\" class=\"dataframe\">\n  <thead>\n    <tr style=\"text-align: right;\">\n      <th></th>\n      <th>subject</th>\n      <th>section</th>\n      <th>exam_date</th>\n      <th>proctor</th>\n      <th>room_number</th>\n      <th>start_time</th>\n      <th>end_time</th>\n      <th>actual_start</th>\n      <th>actual_end</th>\n      <th>first_entered</th>\n      <th>...</th>\n      <th>extra_time_2.00x</th>\n      <th>makeup_accommodation</th>\n      <th>noScantronExam</th>\n      <th>readerForExams</th>\n      <th>allotted_time</th>\n      <th>actual_time</th>\n      <th>exam_cancelled</th>\n      <th>no_show</th>\n      <th>requested_in_advance</th>\n      <th>name_of_day</th>\n    </tr>\n  </thead>\n  <tbody>\n    <tr>\n      <th>5601</th>\n      <td>KIN</td>\n      <td>100</td>\n      <td>2019-07-18</td>\n      <td>Bulls</td>\n      <td>39</td>\n      <td>2019-07-18 10:00:00</td>\n      <td>2019-07-18 14:30:00</td>\n      <td>2019-07-18 10:00:00</td>\n      <td>2019-07-18 14:30:00</td>\n      <td>2019-07-18 11:09:00</td>\n      <td>...</td>\n      <td>True</td>\n      <td>True</td>\n      <td>True</td>\n      <td>True</td>\n      <td>270</td>\n      <td>0</td>\n      <td>True</td>\n      <td>False</td>\n      <td>0</td>\n      <td>Thursday</td>\n    </tr>\n    <tr>\n      <th>5602</th>\n      <td>MATH</td>\n      <td>100</td>\n      <td>2019-07-19</td>\n      <td>Bulls</td>\n      <td>40</td>\n      <td>2019-07-19 10:00:00</td>\n      <td>2019-07-19 13:30:00</td>\n      <td>2019-07-19 10:00:00</td>\n      <td>2019-07-19 13:30:00</td>\n      <td>2019-07-18 12:35:00</td>\n      <td>...</td>\n      <td>True</td>\n      <td>True</td>\n      <td>True</td>\n      <td>True</td>\n      <td>210</td>\n      <td>0</td>\n      <td>True</td>\n      <td>False</td>\n      <td>1</td>\n      <td>Friday</td>\n    </tr>\n    <tr>\n      <th>5603</th>\n      <td>MGT</td>\n      <td>102</td>\n      <td>2019-07-19</td>\n      <td>Bulls</td>\n      <td>39</td>\n      <td>2019-07-19 10:00:00</td>\n      <td>2019-07-19 13:30:00</td>\n      <td>2019-07-19 10:00:00</td>\n      <td>2019-07-19 13:30:00</td>\n      <td>2019-07-18 11:28:00</td>\n      <td>...</td>\n      <td>True</td>\n      <td>True</td>\n      <td>True</td>\n      <td>True</td>\n      <td>210</td>\n      <td>0</td>\n      <td>True</td>\n      <td>False</td>\n      <td>1</td>\n      <td>Friday</td>\n    </tr>\n    <tr>\n      <th>5604</th>\n      <td>AEM</td>\n      <td>101</td>\n      <td>2019-07-19</td>\n      <td>Bulls</td>\n      <td>41</td>\n      <td>2019-07-19 12:00:00</td>\n      <td>2019-07-19 14:30:00</td>\n      <td>2019-07-19 12:00:00</td>\n      <td>2019-07-19 14:30:00</td>\n      <td>2019-07-18 11:45:00</td>\n      <td>...</td>\n      <td>True</td>\n      <td>True</td>\n      <td>True</td>\n      <td>True</td>\n      <td>150</td>\n      <td>0</td>\n      <td>True</td>\n      <td>False</td>\n      <td>1</td>\n      <td>Friday</td>\n    </tr>\n    <tr>\n      <th>5605</th>\n      <td>GES</td>\n      <td>50</td>\n      <td>2019-07-19</td>\n      <td>Unspecified</td>\n      <td>42</td>\n      <td>2019-07-19 12:00:00</td>\n      <td>2019-07-19 15:30:00</td>\n      <td>2019-07-19 12:00:00</td>\n      <td>2019-07-19 15:30:00</td>\n      <td>2019-07-18 11:36:00</td>\n      <td>...</td>\n      <td>True</td>\n      <td>True</td>\n      <td>True</td>\n      <td>True</td>\n      <td>210</td>\n      <td>0</td>\n      <td>True</td>\n      <td>False</td>\n      <td>1</td>\n      <td>Friday</td>\n    </tr>\n    <tr>\n      <th>5606</th>\n      <td>PY</td>\n      <td>100</td>\n      <td>2019-07-19</td>\n      <td>Unspecified</td>\n      <td>43</td>\n      <td>2019-07-19 12:00:00</td>\n      <td>2019-07-19 15:00:00</td>\n      <td>2019-07-19 12:00:00</td>\n      <td>2019-07-19 15:00:00</td>\n      <td>2019-07-18 11:43:00</td>\n      <td>...</td>\n      <td>True</td>\n      <td>True</td>\n      <td>True</td>\n      <td>True</td>\n      <td>180</td>\n      <td>0</td>\n      <td>True</td>\n      <td>False</td>\n      <td>1</td>\n      <td>Friday</td>\n    </tr>\n    <tr>\n      <th>5607</th>\n      <td>CE</td>\n      <td>100</td>\n      <td>2019-07-19</td>\n      <td>Unspecified</td>\n      <td>41</td>\n      <td>2019-07-19 13:15:00</td>\n      <td>2019-07-19 16:45:00</td>\n      <td>2019-07-19 13:15:00</td>\n      <td>2019-07-19 16:45:00</td>\n      <td>2019-07-18 11:46:00</td>\n      <td>...</td>\n      <td>True</td>\n      <td>True</td>\n      <td>True</td>\n      <td>True</td>\n      <td>210</td>\n      <td>0</td>\n      <td>True</td>\n      <td>False</td>\n      <td>1</td>\n      <td>Friday</td>\n    </tr>\n    <tr>\n      <th>5608</th>\n      <td>ECE</td>\n      <td>997</td>\n      <td>2019-07-19</td>\n      <td>Unspecified</td>\n      <td>40</td>\n      <td>2019-07-19 13:45:00</td>\n      <td>2019-07-19 16:45:00</td>\n      <td>2019-07-19 13:45:00</td>\n      <td>2019-07-19 16:45:00</td>\n      <td>2019-07-18 11:59:00</td>\n      <td>...</td>\n      <td>True</td>\n      <td>True</td>\n      <td>True</td>\n      <td>True</td>\n      <td>180</td>\n      <td>0</td>\n      <td>True</td>\n      <td>False</td>\n      <td>1</td>\n      <td>Friday</td>\n    </tr>\n    <tr>\n      <th>5609</th>\n      <td>AEM</td>\n      <td>101</td>\n      <td>2019-07-19</td>\n      <td>Bulls</td>\n      <td>39</td>\n      <td>2019-07-19 14:00:00</td>\n      <td>2019-07-19 17:00:00</td>\n      <td>2019-07-19 14:00:00</td>\n      <td>2019-07-19 17:00:00</td>\n      <td>2019-07-18 12:40:00</td>\n      <td>...</td>\n      <td>True</td>\n      <td>True</td>\n      <td>True</td>\n      <td>True</td>\n      <td>180</td>\n      <td>0</td>\n      <td>True</td>\n      <td>False</td>\n      <td>1</td>\n      <td>Friday</td>\n    </tr>\n    <tr>\n      <th>5610</th>\n      <td>LGS</td>\n      <td>910</td>\n      <td>2019-07-19</td>\n      <td>Unspecified</td>\n      <td>41</td>\n      <td>2019-07-19 14:30:00</td>\n      <td>2019-07-19 16:45:00</td>\n      <td>2019-07-19 14:30:00</td>\n      <td>2019-07-19 16:45:00</td>\n      <td>2019-07-18 12:43:00</td>\n      <td>...</td>\n      <td>True</td>\n      <td>True</td>\n      <td>True</td>\n      <td>True</td>\n      <td>135</td>\n      <td>0</td>\n      <td>True</td>\n      <td>False</td>\n      <td>1</td>\n      <td>Friday</td>\n    </tr>\n  </tbody>\n</table>\n<p>10 rows × 25 columns</p>\n</div>"
     },
     "execution_count": 58,
     "metadata": {},
     "output_type": "execute_result"
    }
   ],
   "source": [
    "ods.loc[ods['exam_date']<= '2019-07-19']"
   ]
  },
  {
   "cell_type": "code",
   "execution_count": 65,
   "metadata": {},
   "outputs": [
    {
     "data": {
      "text/plain": [
       "0      2019-08-27 18:30:00\n",
       "1      2019-08-27 12:33:00\n",
       "2      2019-08-21 18:39:00\n",
       "3      2019-08-26 18:19:00\n",
       "4      2019-08-27 11:10:00\n",
       "               ...        \n",
       "9546   2020-01-17 16:55:00\n",
       "9547   2020-01-23 16:43:00\n",
       "9548   2020-01-10 09:34:00\n",
       "9549   2020-01-25 18:47:00\n",
       "9550   2020-02-01 12:06:00\n",
       "Name: first_entered, Length: 9431, dtype: datetime64[ns]"
      ]
     },
     "execution_count": 65,
     "metadata": {},
     "output_type": "execute_result"
    }
   ],
   "source": [
    "ods['first_entered']"
   ]
  },
  {
   "cell_type": "code",
   "execution_count": null,
   "metadata": {},
   "outputs": [],
   "source": []
  }
 ],
 "metadata": {
  "kernelspec": {
   "display_name": "Python 3",
   "language": "python",
   "name": "python3"
  },
  "language_info": {
   "codemirror_mode": {
    "name": "ipython",
    "version": 3
   },
   "file_extension": ".py",
   "mimetype": "text/x-python",
   "name": "python",
   "nbconvert_exporter": "python",
   "pygments_lexer": "ipython3",
   "version": "3.8.8"
  }
 },
 "nbformat": 4,
 "nbformat_minor": 4
}