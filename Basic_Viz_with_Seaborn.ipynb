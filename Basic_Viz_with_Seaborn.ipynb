{
 "cells": [
  {
   "cell_type": "markdown",
   "id": "1b85fe52",
   "metadata": {},
   "source": [
    "# Seaborn Data Viz"
   ]
  },
  {
   "cell_type": "code",
   "execution_count": 2,
   "id": "6e12e1a3",
   "metadata": {},
   "outputs": [],
   "source": [
    "import pandas as pd\n",
    "import seaborn as sns"
   ]
  },
  {
   "cell_type": "code",
   "execution_count": 3,
   "id": "bf286e48",
   "metadata": {},
   "outputs": [],
   "source": [
    "odsTime = pd.read_pickle('ods_time_actual(3).pkl')\n",
    "odsKeinTime = pd.read_pickle('ods_k_time(3).pkl')\n",
    "odsFA21 = pd.read_pickle('ods_3 (1).pkl')"
   ]
  },
  {
   "cell_type": "code",
   "execution_count": null,
   "id": "acdcb5ec",
   "metadata": {},
   "outputs": [],
   "source": []
  },
  {
   "cell_type": "code",
   "execution_count": 7,
   "id": "d64fc7eb",
   "metadata": {},
   "outputs": [],
   "source": [
    "odsFA21.drop(columns=['course'], inplace=True)"
   ]
  },
  {
   "cell_type": "markdown",
   "id": "c7aa72a8",
   "metadata": {},
   "source": [
    "*Let's start by looking at the distribution of categorical columns for the students that actually took the exam at ODS*"
   ]
  },
  {
   "cell_type": "markdown",
   "id": "efdd40c8",
   "metadata": {},
   "source": [
    "***What days of the week was most used?***"
   ]
  },
  {
   "cell_type": "code",
   "execution_count": 19,
   "id": "d8989738",
   "metadata": {},
   "outputs": [
    {
     "data": {
      "text/plain": [
       "<seaborn.axisgrid.FacetGrid at 0x1173c0c7ee0>"
      ]
     },
     "execution_count": 19,
     "metadata": {},
     "output_type": "execute_result"
    },
    {
     "data": {
      "image/png": "[encoded data removed]",
      "text/plain": [
       "<Figure size 1080x360 with 1 Axes>"
      ]
     },
     "metadata": {
      "needs_background": "light"
     },
     "output_type": "display_data"
    }
   ],
   "source": [
    "sns.catplot(data=odsTime, x='actual_date_day_of_week', kind='count', aspect=3)"
   ]
  },
  {
   "cell_type": "code",
   "execution_count": 41,
   "id": "5b39c8f4",
   "metadata": {},
   "outputs": [
    {
     "data": {
      "text/plain": [
       "Index(['subject', 'section', 'proctorLastName', 'locationName', 'firstEntered',\n",
       "       'fileUploaded', 'received_as_paper_copy', 'rescheduled',\n",
       "       'breaks_during_exams', 'extra_time_1.50x', 'extra_time_2.00x',\n",
       "       'make_exams_due_to_disability', 'Medical alert device',\n",
       "       'paper_version_of_computerized_exams', 'noScantronExam',\n",
       "       'readerForExams', 'allowed_calculator_with_calc_component',\n",
       "       'use_of_computer_to_type_responses', 'startDateTime', 'endDateTime',\n",
       "       'actual_start_date_time', 'actual_end_date_time', 'allotedTime',\n",
       "       'actual_time_taken', 'exam_completed', 'day_of_week_num',\n",
       "       'actual_date_day_of_week'],\n",
       "      dtype='object')"
      ]
     },
     "execution_count": 41,
     "metadata": {},
     "output_type": "execute_result"
    }
   ],
   "source": [
    "odsTime.columns"
   ]
  },
  {
   "cell_type": "code",
   "execution_count": null,
   "id": "77e0e45b",
   "metadata": {},
   "outputs": [],
   "source": []
  }
 ],
 "metadata": {
  "kernelspec": {
   "display_name": "Python 3",
   "language": "python",
   "name": "python3"
  },
  "language_info": {
   "codemirror_mode": {
    "name": "ipython",
    "version": 3
   },
   "file_extension": ".py",
   "mimetype": "text/x-python",
   "name": "python",
   "nbconvert_exporter": "python",
   "pygments_lexer": "ipython3",
   "version": "3.9.6"
  }
 },
 "nbformat": 4,
 "nbformat_minor": 5
}
